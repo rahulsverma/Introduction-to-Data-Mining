{
  "nbformat": 4,
  "nbformat_minor": 0,
  "metadata": {
    "colab": {
      "provenance": [],
      "collapsed_sections": [
        "Zo8PnihtHfXC"
      ]
    },
    "kernelspec": {
      "name": "python3",
      "display_name": "Python 3"
    },
    "language_info": {
      "name": "python"
    },
    "accelerator": "GPU"
  },
  "cells": [
    {
      "cell_type": "markdown",
      "source": [
        "#Problem 5"
      ],
      "metadata": {
        "id": "Zo8PnihtHfXC"
      }
    },
    {
      "cell_type": "code",
      "execution_count": null,
      "metadata": {
        "colab": {
          "base_uri": "https://localhost:8080/"
        },
        "id": "1ZIA1VgOdkQK",
        "outputId": "0003fa9a-4f30-414f-8791-796ac4d1531b"
      },
      "outputs": [
        {
          "output_type": "stream",
          "name": "stdout",
          "text": [
            "Cloning into 'DexiNed'...\n",
            "remote: Enumerating objects: 1051, done.\u001b[K\n",
            "remote: Counting objects: 100% (147/147), done.\u001b[K\n",
            "remote: Compressing objects: 100% (98/98), done.\u001b[K\n",
            "remote: Total 1051 (delta 87), reused 101 (delta 45), pack-reused 904\u001b[K\n",
            "Receiving objects: 100% (1051/1051), 158.92 MiB | 30.94 MiB/s, done.\n",
            "Resolving deltas: 100% (517/517), done.\n",
            "/content/DexiNed\n"
          ]
        }
      ],
      "source": [
        "#download the model\n",
        "!git clone https://github.com/xavysp/DexiNed.git\n",
        "%cd DexiNed"
      ]
    },
    {
      "cell_type": "code",
      "source": [
        "#check for graphics card\n",
        "!nvidia-smi"
      ],
      "metadata": {
        "colab": {
          "base_uri": "https://localhost:8080/"
        },
        "id": "pr34_SFWer8E",
        "outputId": "dd292654-6e05-4cf9-ebe9-a534e7005528"
      },
      "execution_count": null,
      "outputs": [
        {
          "output_type": "stream",
          "name": "stdout",
          "text": [
            "Sat Dec 11 06:04:14 2021       \n",
            "+-----------------------------------------------------------------------------+\n",
            "| NVIDIA-SMI 495.44       Driver Version: 460.32.03    CUDA Version: 11.2     |\n",
            "|-------------------------------+----------------------+----------------------+\n",
            "| GPU  Name        Persistence-M| Bus-Id        Disp.A | Volatile Uncorr. ECC |\n",
            "| Fan  Temp  Perf  Pwr:Usage/Cap|         Memory-Usage | GPU-Util  Compute M. |\n",
            "|                               |                      |               MIG M. |\n",
            "|===============================+======================+======================|\n",
            "|   0  Tesla K80           Off  | 00000000:00:04.0 Off |                    0 |\n",
            "| N/A   55C    P8    31W / 149W |      0MiB / 11441MiB |      0%      Default |\n",
            "|                               |                      |                  N/A |\n",
            "+-------------------------------+----------------------+----------------------+\n",
            "                                                                               \n",
            "+-----------------------------------------------------------------------------+\n",
            "| Processes:                                                                  |\n",
            "|  GPU   GI   CI        PID   Type   Process name                  GPU Memory |\n",
            "|        ID   ID                                                   Usage      |\n",
            "|=============================================================================|\n",
            "|  No running processes found                                                 |\n",
            "+-----------------------------------------------------------------------------+\n"
          ]
        }
      ]
    },
    {
      "cell_type": "code",
      "source": [
        "!pip install kornia"
      ],
      "metadata": {
        "colab": {
          "base_uri": "https://localhost:8080/"
        },
        "id": "8mE28LwYiBw5",
        "outputId": "2eca382e-8ce3-4fcd-de14-36640be1963b"
      },
      "execution_count": null,
      "outputs": [
        {
          "output_type": "stream",
          "name": "stdout",
          "text": [
            "Collecting kornia\n",
            "  Downloading kornia-0.6.2-py2.py3-none-any.whl (401 kB)\n",
            "\u001b[?25l\r\u001b[K     |▉                               | 10 kB 25.3 MB/s eta 0:00:01\r\u001b[K     |█▋                              | 20 kB 13.0 MB/s eta 0:00:01\r\u001b[K     |██▌                             | 30 kB 12.2 MB/s eta 0:00:01\r\u001b[K     |███▎                            | 40 kB 9.6 MB/s eta 0:00:01\r\u001b[K     |████                            | 51 kB 5.2 MB/s eta 0:00:01\r\u001b[K     |█████                           | 61 kB 5.4 MB/s eta 0:00:01\r\u001b[K     |█████▊                          | 71 kB 5.7 MB/s eta 0:00:01\r\u001b[K     |██████▌                         | 81 kB 6.4 MB/s eta 0:00:01\r\u001b[K     |███████▍                        | 92 kB 6.9 MB/s eta 0:00:01\r\u001b[K     |████████▏                       | 102 kB 5.4 MB/s eta 0:00:01\r\u001b[K     |█████████                       | 112 kB 5.4 MB/s eta 0:00:01\r\u001b[K     |█████████▉                      | 122 kB 5.4 MB/s eta 0:00:01\r\u001b[K     |██████████▋                     | 133 kB 5.4 MB/s eta 0:00:01\r\u001b[K     |███████████▍                    | 143 kB 5.4 MB/s eta 0:00:01\r\u001b[K     |████████████▎                   | 153 kB 5.4 MB/s eta 0:00:01\r\u001b[K     |█████████████                   | 163 kB 5.4 MB/s eta 0:00:01\r\u001b[K     |█████████████▉                  | 174 kB 5.4 MB/s eta 0:00:01\r\u001b[K     |██████████████▊                 | 184 kB 5.4 MB/s eta 0:00:01\r\u001b[K     |███████████████▌                | 194 kB 5.4 MB/s eta 0:00:01\r\u001b[K     |████████████████▍               | 204 kB 5.4 MB/s eta 0:00:01\r\u001b[K     |█████████████████▏              | 215 kB 5.4 MB/s eta 0:00:01\r\u001b[K     |██████████████████              | 225 kB 5.4 MB/s eta 0:00:01\r\u001b[K     |██████████████████▉             | 235 kB 5.4 MB/s eta 0:00:01\r\u001b[K     |███████████████████▋            | 245 kB 5.4 MB/s eta 0:00:01\r\u001b[K     |████████████████████▍           | 256 kB 5.4 MB/s eta 0:00:01\r\u001b[K     |█████████████████████▎          | 266 kB 5.4 MB/s eta 0:00:01\r\u001b[K     |██████████████████████          | 276 kB 5.4 MB/s eta 0:00:01\r\u001b[K     |██████████████████████▉         | 286 kB 5.4 MB/s eta 0:00:01\r\u001b[K     |███████████████████████▊        | 296 kB 5.4 MB/s eta 0:00:01\r\u001b[K     |████████████████████████▌       | 307 kB 5.4 MB/s eta 0:00:01\r\u001b[K     |█████████████████████████▎      | 317 kB 5.4 MB/s eta 0:00:01\r\u001b[K     |██████████████████████████▏     | 327 kB 5.4 MB/s eta 0:00:01\r\u001b[K     |███████████████████████████     | 337 kB 5.4 MB/s eta 0:00:01\r\u001b[K     |███████████████████████████▊    | 348 kB 5.4 MB/s eta 0:00:01\r\u001b[K     |████████████████████████████▋   | 358 kB 5.4 MB/s eta 0:00:01\r\u001b[K     |█████████████████████████████▍  | 368 kB 5.4 MB/s eta 0:00:01\r\u001b[K     |██████████████████████████████▎ | 378 kB 5.4 MB/s eta 0:00:01\r\u001b[K     |███████████████████████████████ | 389 kB 5.4 MB/s eta 0:00:01\r\u001b[K     |███████████████████████████████▉| 399 kB 5.4 MB/s eta 0:00:01\r\u001b[K     |████████████████████████████████| 401 kB 5.4 MB/s \n",
            "\u001b[?25hRequirement already satisfied: torch>=1.8.1 in /usr/local/lib/python3.7/dist-packages (from kornia) (1.10.0+cu111)\n",
            "Requirement already satisfied: packaging in /usr/local/lib/python3.7/dist-packages (from kornia) (21.3)\n",
            "Requirement already satisfied: typing-extensions in /usr/local/lib/python3.7/dist-packages (from torch>=1.8.1->kornia) (3.10.0.2)\n",
            "Requirement already satisfied: pyparsing!=3.0.5,>=2.0.2 in /usr/local/lib/python3.7/dist-packages (from packaging->kornia) (3.0.6)\n",
            "Installing collected packages: kornia\n",
            "Successfully installed kornia-0.6.2\n"
          ]
        }
      ]
    },
    {
      "cell_type": "code",
      "source": [
        "#downloading the pretrained weights\n",
        "!gdown --id 1V56vGTsu7GYiQouCIKvTWl5UKCZ6yCNu"
      ],
      "metadata": {
        "colab": {
          "base_uri": "https://localhost:8080/"
        },
        "id": "vHSdVQuenQjB",
        "outputId": "2e7ae5f4-b807-4a31-8d21-71934cd2b297"
      },
      "execution_count": null,
      "outputs": [
        {
          "output_type": "stream",
          "name": "stdout",
          "text": [
            "Downloading...\n",
            "From: https://drive.google.com/uc?id=1V56vGTsu7GYiQouCIKvTWl5UKCZ6yCNu\n",
            "To: /content/DexiNed/10_model.pth\n",
            "100% 141M/141M [00:00<00:00, 169MB/s]\n"
          ]
        }
      ]
    },
    {
      "cell_type": "code",
      "source": [
        "%mkdir -p checkpoints/BIPED/10\n",
        "%mv 10_model.pth checkpoints/BIPED/10/"
      ],
      "metadata": {
        "id": "g2MjnNLPndMM"
      },
      "execution_count": null,
      "outputs": []
    },
    {
      "cell_type": "markdown",
      "source": [
        "##SVHN"
      ],
      "metadata": {
        "id": "LCyQnp8ft8NV"
      }
    },
    {
      "cell_type": "code",
      "source": [
        "#download the SVHN dataset\n",
        "%cd /content/\n",
        "!wget http://ufldl.stanford.edu/housenumbers/train_32x32.mat"
      ],
      "metadata": {
        "colab": {
          "base_uri": "https://localhost:8080/"
        },
        "id": "N6Sk7M4ty94l",
        "outputId": "48daa440-718b-42fb-ad2b-77395a7d8eff"
      },
      "execution_count": null,
      "outputs": [
        {
          "output_type": "stream",
          "name": "stdout",
          "text": [
            "/content\n",
            "--2021-12-11 06:04:23--  http://ufldl.stanford.edu/housenumbers/train_32x32.mat\n",
            "Resolving ufldl.stanford.edu (ufldl.stanford.edu)... 171.64.68.10\n",
            "Connecting to ufldl.stanford.edu (ufldl.stanford.edu)|171.64.68.10|:80... connected.\n",
            "HTTP request sent, awaiting response... 200 OK\n",
            "Length: 182040794 (174M) [text/plain]\n",
            "Saving to: ‘train_32x32.mat’\n",
            "\n",
            "train_32x32.mat     100%[===================>] 173.61M  21.1MB/s    in 9.1s    \n",
            "\n",
            "2021-12-11 06:04:33 (19.2 MB/s) - ‘train_32x32.mat’ saved [182040794/182040794]\n",
            "\n"
          ]
        }
      ]
    },
    {
      "cell_type": "code",
      "source": [
        "!wget http://ufldl.stanford.edu/housenumbers/test_32x32.mat"
      ],
      "metadata": {
        "colab": {
          "base_uri": "https://localhost:8080/"
        },
        "id": "D8TevvHjeYOS",
        "outputId": "1aa8f247-9c9f-4bfc-f27e-c402c1b47018"
      },
      "execution_count": null,
      "outputs": [
        {
          "output_type": "stream",
          "name": "stdout",
          "text": [
            "--2021-12-11 06:04:33--  http://ufldl.stanford.edu/housenumbers/test_32x32.mat\n",
            "Resolving ufldl.stanford.edu (ufldl.stanford.edu)... 171.64.68.10\n",
            "Connecting to ufldl.stanford.edu (ufldl.stanford.edu)|171.64.68.10|:80... connected.\n",
            "HTTP request sent, awaiting response... 200 OK\n",
            "Length: 64275384 (61M) [text/plain]\n",
            "Saving to: ‘test_32x32.mat’\n",
            "\n",
            "test_32x32.mat      100%[===================>]  61.30M  19.2MB/s    in 3.5s    \n",
            "\n",
            "2021-12-11 06:04:37 (17.3 MB/s) - ‘test_32x32.mat’ saved [64275384/64275384]\n",
            "\n"
          ]
        }
      ]
    },
    {
      "cell_type": "code",
      "source": [
        "%mkdir -p SVHN-images/test/01\n",
        "%mkdir -p SVHN-images/train/01"
      ],
      "metadata": {
        "id": "4nt9ZtKlll9l"
      },
      "execution_count": null,
      "outputs": []
    },
    {
      "cell_type": "code",
      "source": [
        "import os\n",
        "import numpy as np\n",
        "import struct\n",
        "import scipy.io as sio\n",
        "import matplotlib.pyplot as plt\n",
        "\n",
        "def save_svhn():\n",
        "    dir_name = \"SVHN-images\"\n",
        "    if not os.path.isdir(dir_name):\n",
        "        os.mkdir(dir_name)\n",
        "    print (\"Loading data of SVHN\")\n",
        "    mat = sio.loadmat(\"test_32x32.mat\")\n",
        "    data = mat['X']\n",
        "    for i in range(data.shape[3]):\n",
        "        plt.figure()\n",
        "        if not os.path.isfile(os.path.join(dir_name, 'train','01', \"%05d.png\" % i)):\n",
        "            plt.imsave(os.path.join(dir_name, 'train','01', \"%05d.png\" % i), data[..., i])\n",
        "        if not os.path.isfile(os.path.join(dir_name, 'test', '01', \"%05d.png\" % i)):\n",
        "            plt.imsave(os.path.join(dir_name, 'test','01', \"%05d.png\" % i), data[..., i])\n",
        "        plt.close()\n",
        "        # break\n",
        "    print (\"Program done!\")\n",
        "\n",
        "save_svhn()"
      ],
      "metadata": {
        "colab": {
          "base_uri": "https://localhost:8080/"
        },
        "id": "HKgC0J8Vgh0e",
        "outputId": "fa8173c8-5cab-4c4c-b6e6-4f6aaa49665a"
      },
      "execution_count": null,
      "outputs": [
        {
          "output_type": "stream",
          "name": "stdout",
          "text": [
            "Loading data of SVHN\n",
            "Program done!\n"
          ]
        }
      ]
    },
    {
      "cell_type": "code",
      "source": [
        "%rm -rf SVHN-edges/"
      ],
      "metadata": {
        "id": "eGic0tjlg0zu"
      },
      "execution_count": null,
      "outputs": []
    },
    {
      "cell_type": "code",
      "source": [
        "%rm -rf DexiNed/data/*"
      ],
      "metadata": {
        "id": "P08kXWkrixiu"
      },
      "execution_count": null,
      "outputs": []
    },
    {
      "cell_type": "code",
      "source": [
        "%rm -rf /content/DexiNed/result/"
      ],
      "metadata": {
        "id": "ZAPUTKGEroqc"
      },
      "execution_count": null,
      "outputs": []
    },
    {
      "cell_type": "markdown",
      "source": [
        "Running edge detection on test dataset and storing the results"
      ],
      "metadata": {
        "id": "kZpNuho4k6sv"
      }
    },
    {
      "cell_type": "code",
      "source": [
        "%%shell\n",
        "cd /content/DexiNed/\n",
        "# data_dir = \"/content/SVHN-images\"\n",
        "for dir in /content/SVHN-images/test/*/    # list directories in the form \"/tmp/dirname/\"\n",
        "do\n",
        "    dir=${dir%*/}      # remove the trailing \"/\"\n",
        "    mkdir -p \"/content/SVHN-edges/test/${dir##*/}\"\n",
        "\n",
        "    rm -rf /content/DexiNed/data/*\n",
        "    rm -rf /content/DexiNed/result/\n",
        "\n",
        "    cp -v `ls -d /content/SVHN-images/test/${dir##*/}/* | head -1000` /content/DexiNed/data\n",
        "\n",
        "    python /content/DexiNed/main.py --choose_test_data=-1\n",
        "\n",
        "    mv -v /content/DexiNed/result/BIPED2CLASSIC/fused/* /content/SVHN-edges/test/${dir##*/}/\n",
        "    \n",
        "    echo \"${dir##*/}\"    # print everything after the final \"/\"\n",
        "done\n",
        "\n",
        "cd /content/"
      ],
      "metadata": {
        "colab": {
          "base_uri": "https://localhost:8080/"
        },
        "id": "MBLAqDbwfCln",
        "outputId": "b9e43b0c-f1d4-4804-b926-469142be6dab"
      },
      "execution_count": null,
      "outputs": [
        {
          "output_type": "stream",
          "name": "stdout",
          "text": [
            "'/content/SVHN-images/test/01/00000.png' -> '/content/DexiNed/data/00000.png'\n",
            "'/content/SVHN-images/test/01/00001.png' -> '/content/DexiNed/data/00001.png'\n",
            "'/content/SVHN-images/test/01/00002.png' -> '/content/DexiNed/data/00002.png'\n",
            "'/content/SVHN-images/test/01/00003.png' -> '/content/DexiNed/data/00003.png'\n",
            "'/content/SVHN-images/test/01/00004.png' -> '/content/DexiNed/data/00004.png'\n",
            "'/content/SVHN-images/test/01/00005.png' -> '/content/DexiNed/data/00005.png'\n",
            "'/content/SVHN-images/test/01/00006.png' -> '/content/DexiNed/data/00006.png'\n",
            "'/content/SVHN-images/test/01/00007.png' -> '/content/DexiNed/data/00007.png'\n",
            "'/content/SVHN-images/test/01/00008.png' -> '/content/DexiNed/data/00008.png'\n",
            "'/content/SVHN-images/test/01/00009.png' -> '/content/DexiNed/data/00009.png'\n",
            "'/content/SVHN-images/test/01/00010.png' -> '/content/DexiNed/data/00010.png'\n",
            "'/content/SVHN-images/test/01/00011.png' -> '/content/DexiNed/data/00011.png'\n",
            "'/content/SVHN-images/test/01/00012.png' -> '/content/DexiNed/data/00012.png'\n",
            "'/content/SVHN-images/test/01/00013.png' -> '/content/DexiNed/data/00013.png'\n",
            "'/content/SVHN-images/test/01/00014.png' -> '/content/DexiNed/data/00014.png'\n",
            "'/content/SVHN-images/test/01/00015.png' -> '/content/DexiNed/data/00015.png'\n",
            "'/content/SVHN-images/test/01/00016.png' -> '/content/DexiNed/data/00016.png'\n",
            "'/content/SVHN-images/test/01/00017.png' -> '/content/DexiNed/data/00017.png'\n",
            "'/content/SVHN-images/test/01/00018.png' -> '/content/DexiNed/data/00018.png'\n",
            "'/content/SVHN-images/test/01/00019.png' -> '/content/DexiNed/data/00019.png'\n",
            "'/content/SVHN-images/test/01/00020.png' -> '/content/DexiNed/data/00020.png'\n",
            "'/content/SVHN-images/test/01/00021.png' -> '/content/DexiNed/data/00021.png'\n",
            "'/content/SVHN-images/test/01/00022.png' -> '/content/DexiNed/data/00022.png'\n",
            "'/content/SVHN-images/test/01/00023.png' -> '/content/DexiNed/data/00023.png'\n",
            "'/content/SVHN-images/test/01/00024.png' -> '/content/DexiNed/data/00024.png'\n",
            "'/content/SVHN-images/test/01/00025.png' -> '/content/DexiNed/data/00025.png'\n",
            "'/content/SVHN-images/test/01/00026.png' -> '/content/DexiNed/data/00026.png'\n",
            "'/content/SVHN-images/test/01/00027.png' -> '/content/DexiNed/data/00027.png'\n",
            "'/content/SVHN-images/test/01/00028.png' -> '/content/DexiNed/data/00028.png'\n",
            "'/content/SVHN-images/test/01/00029.png' -> '/content/DexiNed/data/00029.png'\n",
            "'/content/SVHN-images/test/01/00030.png' -> '/content/DexiNed/data/00030.png'\n",
            "'/content/SVHN-images/test/01/00031.png' -> '/content/DexiNed/data/00031.png'\n",
            "'/content/SVHN-images/test/01/00032.png' -> '/content/DexiNed/data/00032.png'\n",
            "'/content/SVHN-images/test/01/00033.png' -> '/content/DexiNed/data/00033.png'\n",
            "'/content/SVHN-images/test/01/00034.png' -> '/content/DexiNed/data/00034.png'\n",
            "'/content/SVHN-images/test/01/00035.png' -> '/content/DexiNed/data/00035.png'\n",
            "'/content/SVHN-images/test/01/00036.png' -> '/content/DexiNed/data/00036.png'\n",
            "'/content/SVHN-images/test/01/00037.png' -> '/content/DexiNed/data/00037.png'\n",
            "'/content/SVHN-images/test/01/00038.png' -> '/content/DexiNed/data/00038.png'\n",
            "'/content/SVHN-images/test/01/00039.png' -> '/content/DexiNed/data/00039.png'\n",
            "'/content/SVHN-images/test/01/00040.png' -> '/content/DexiNed/data/00040.png'\n",
            "'/content/SVHN-images/test/01/00041.png' -> '/content/DexiNed/data/00041.png'\n",
            "'/content/SVHN-images/test/01/00042.png' -> '/content/DexiNed/data/00042.png'\n",
            "'/content/SVHN-images/test/01/00043.png' -> '/content/DexiNed/data/00043.png'\n",
            "'/content/SVHN-images/test/01/00044.png' -> '/content/DexiNed/data/00044.png'\n",
            "'/content/SVHN-images/test/01/00045.png' -> '/content/DexiNed/data/00045.png'\n",
            "'/content/SVHN-images/test/01/00046.png' -> '/content/DexiNed/data/00046.png'\n",
            "'/content/SVHN-images/test/01/00047.png' -> '/content/DexiNed/data/00047.png'\n",
            "'/content/SVHN-images/test/01/00048.png' -> '/content/DexiNed/data/00048.png'\n",
            "'/content/SVHN-images/test/01/00049.png' -> '/content/DexiNed/data/00049.png'\n",
            "'/content/SVHN-images/test/01/00050.png' -> '/content/DexiNed/data/00050.png'\n",
            "'/content/SVHN-images/test/01/00051.png' -> '/content/DexiNed/data/00051.png'\n",
            "'/content/SVHN-images/test/01/00052.png' -> '/content/DexiNed/data/00052.png'\n",
            "'/content/SVHN-images/test/01/00053.png' -> '/content/DexiNed/data/00053.png'\n",
            "'/content/SVHN-images/test/01/00054.png' -> '/content/DexiNed/data/00054.png'\n",
            "'/content/SVHN-images/test/01/00055.png' -> '/content/DexiNed/data/00055.png'\n",
            "'/content/SVHN-images/test/01/00056.png' -> '/content/DexiNed/data/00056.png'\n",
            "'/content/SVHN-images/test/01/00057.png' -> '/content/DexiNed/data/00057.png'\n",
            "'/content/SVHN-images/test/01/00058.png' -> '/content/DexiNed/data/00058.png'\n",
            "'/content/SVHN-images/test/01/00059.png' -> '/content/DexiNed/data/00059.png'\n",
            "'/content/SVHN-images/test/01/00060.png' -> '/content/DexiNed/data/00060.png'\n",
            "'/content/SVHN-images/test/01/00061.png' -> '/content/DexiNed/data/00061.png'\n",
            "'/content/SVHN-images/test/01/00062.png' -> '/content/DexiNed/data/00062.png'\n",
            "'/content/SVHN-images/test/01/00063.png' -> '/content/DexiNed/data/00063.png'\n",
            "'/content/SVHN-images/test/01/00064.png' -> '/content/DexiNed/data/00064.png'\n",
            "'/content/SVHN-images/test/01/00065.png' -> '/content/DexiNed/data/00065.png'\n",
            "'/content/SVHN-images/test/01/00066.png' -> '/content/DexiNed/data/00066.png'\n",
            "'/content/SVHN-images/test/01/00067.png' -> '/content/DexiNed/data/00067.png'\n",
            "'/content/SVHN-images/test/01/00068.png' -> '/content/DexiNed/data/00068.png'\n",
            "'/content/SVHN-images/test/01/00069.png' -> '/content/DexiNed/data/00069.png'\n",
            "'/content/SVHN-images/test/01/00070.png' -> '/content/DexiNed/data/00070.png'\n",
            "'/content/SVHN-images/test/01/00071.png' -> '/content/DexiNed/data/00071.png'\n",
            "'/content/SVHN-images/test/01/00072.png' -> '/content/DexiNed/data/00072.png'\n",
            "'/content/SVHN-images/test/01/00073.png' -> '/content/DexiNed/data/00073.png'\n",
            "'/content/SVHN-images/test/01/00074.png' -> '/content/DexiNed/data/00074.png'\n",
            "'/content/SVHN-images/test/01/00075.png' -> '/content/DexiNed/data/00075.png'\n",
            "'/content/SVHN-images/test/01/00076.png' -> '/content/DexiNed/data/00076.png'\n",
            "'/content/SVHN-images/test/01/00077.png' -> '/content/DexiNed/data/00077.png'\n",
            "'/content/SVHN-images/test/01/00078.png' -> '/content/DexiNed/data/00078.png'\n",
            "'/content/SVHN-images/test/01/00079.png' -> '/content/DexiNed/data/00079.png'\n",
            "'/content/SVHN-images/test/01/00080.png' -> '/content/DexiNed/data/00080.png'\n",
            "'/content/SVHN-images/test/01/00081.png' -> '/content/DexiNed/data/00081.png'\n",
            "'/content/SVHN-images/test/01/00082.png' -> '/content/DexiNed/data/00082.png'\n",
            "'/content/SVHN-images/test/01/00083.png' -> '/content/DexiNed/data/00083.png'\n",
            "'/content/SVHN-images/test/01/00084.png' -> '/content/DexiNed/data/00084.png'\n",
            "'/content/SVHN-images/test/01/00085.png' -> '/content/DexiNed/data/00085.png'\n",
            "'/content/SVHN-images/test/01/00086.png' -> '/content/DexiNed/data/00086.png'\n",
            "'/content/SVHN-images/test/01/00087.png' -> '/content/DexiNed/data/00087.png'\n",
            "'/content/SVHN-images/test/01/00088.png' -> '/content/DexiNed/data/00088.png'\n",
            "'/content/SVHN-images/test/01/00089.png' -> '/content/DexiNed/data/00089.png'\n",
            "'/content/SVHN-images/test/01/00090.png' -> '/content/DexiNed/data/00090.png'\n",
            "'/content/SVHN-images/test/01/00091.png' -> '/content/DexiNed/data/00091.png'\n",
            "'/content/SVHN-images/test/01/00092.png' -> '/content/DexiNed/data/00092.png'\n",
            "'/content/SVHN-images/test/01/00093.png' -> '/content/DexiNed/data/00093.png'\n",
            "'/content/SVHN-images/test/01/00094.png' -> '/content/DexiNed/data/00094.png'\n",
            "'/content/SVHN-images/test/01/00095.png' -> '/content/DexiNed/data/00095.png'\n",
            "'/content/SVHN-images/test/01/00096.png' -> '/content/DexiNed/data/00096.png'\n",
            "'/content/SVHN-images/test/01/00097.png' -> '/content/DexiNed/data/00097.png'\n",
            "'/content/SVHN-images/test/01/00098.png' -> '/content/DexiNed/data/00098.png'\n",
            "'/content/SVHN-images/test/01/00099.png' -> '/content/DexiNed/data/00099.png'\n",
            "Number of GPU's available: 1\n",
            "Pytorch version: 1.10.0+cu111\n",
            "mean_bgr: [103.939, 116.779, 123.68]\n",
            "/usr/local/lib/python3.7/dist-packages/torch/utils/data/dataloader.py:481: UserWarning: This DataLoader will create 16 worker processes in total. Our suggested max number of worker in current system is 2, which is smaller than what this DataLoader is going to create. Please be aware that excessive worker creation might get DataLoader running slow or even freeze, lower the worker number to avoid potential slowness/freeze if necessary.\n",
            "  cpuset_checked))\n",
            "output_dir: result/BIPED2CLASSIC\n",
            "Restoring weights from: checkpoints/BIPED/10/10_model.pth\n",
            "actual size: (32, 32, 3), target size: (512, 512)\n",
            "actual size: (32, 32, 3), target size: (512, 512)\n",
            "actual size: (32, 32, 3), target size: (512, 512)\n",
            "actual size: (32, 32, 3), target size: (512, 512)\n",
            "actual size: (32, 32, 3), target size: (512, 512)\n",
            "actual size: (32, 32, 3), target size: (512, 512)\n",
            "actual size: (32, 32, 3), target size: (512, 512)\n",
            "actual size: (32, 32, 3), target size: (512, 512)\n",
            "actual size: (32, 32, 3), target size: (512, 512)\n",
            "actual size: (32, 32, 3), target size: (512, 512)\n",
            "actual size: (32, 32, 3), target size: (512, 512)\n",
            "actual size: (32, 32, 3), target size: (512, 512)\n",
            "actual size: (32, 32, 3), target size: (512, 512)\n",
            "actual size: (32, 32, 3), target size: (512, 512)\n",
            "actual size: (32, 32, 3), target size: (512, 512)\n",
            "actual size: (32, 32, 3), target size: (512, 512)\n",
            "actual size: (32, 32, 3), target size: (512, 512)\n",
            "actual size: (32, 32, 3), target size: (512, 512)\n",
            "actual size: (32, 32, 3), target size: (512, 512)\n",
            "actual size: (32, 32, 3), target size: (512, 512)\n",
            "actual size: (32, 32, 3), target size: (512, 512)\n",
            "actual size: (32, 32, 3), target size: (512, 512)\n",
            "actual size: (32, 32, 3), target size: (512, 512)\n",
            "actual size: (32, 32, 3), target size: (512, 512)\n",
            "actual size: (32, 32, 3), target size: (512, 512)\n",
            "actual size: (32, 32, 3), target size: (512, 512)\n",
            "actual size: (32, 32, 3), target size: (512, 512)\n",
            "actual size: (32, 32, 3), target size: (512, 512)\n",
            "actual size: (32, 32, 3), target size: (512, 512)\n",
            "actual size: (32, 32, 3), target size: (512, 512)\n",
            "actual size: (32, 32, 3), target size: (512, 512)\n",
            "actual size: (32, 32, 3), target size: (512, 512)\n",
            "input tensor shape: torch.Size([1, 3, 512, 512])\n",
            "actual size: (32, 32, 3), target size: (512, 512)\n",
            "actual size: (32, 32, 3), target size: (512, 512)\n",
            "input tensor shape: torch.Size([1, 3, 512, 512])\n",
            "actual size: (32, 32, 3), target size: (512, 512)\n",
            "input tensor shape: torch.Size([1, 3, 512, 512])\n",
            "actual size: (32, 32, 3), target size: (512, 512)\n",
            "input tensor shape: torch.Size([1, 3, 512, 512])\n",
            "actual size: (32, 32, 3), target size: (512, 512)\n",
            "input tensor shape: torch.Size([1, 3, 512, 512])\n",
            "actual size: (32, 32, 3), target size: (512, 512)\n",
            "input tensor shape: torch.Size([1, 3, 512, 512])\n",
            "actual size: (32, 32, 3), target size: (512, 512)\n",
            "input tensor shape: torch.Size([1, 3, 512, 512])\n",
            "actual size: (32, 32, 3), target size: (512, 512)\n",
            "input tensor shape: torch.Size([1, 3, 512, 512])\n",
            "actual size: (32, 32, 3), target size: (512, 512)\n",
            "input tensor shape: torch.Size([1, 3, 512, 512])\n",
            "actual size: (32, 32, 3), target size: (512, 512)\n",
            "input tensor shape: torch.Size([1, 3, 512, 512])\n",
            "actual size: (32, 32, 3), target size: (512, 512)\n",
            "input tensor shape: torch.Size([1, 3, 512, 512])\n",
            "actual size: (32, 32, 3), target size: (512, 512)\n",
            "input tensor shape: torch.Size([1, 3, 512, 512])\n",
            "actual size: (32, 32, 3), target size: (512, 512)\n",
            "input tensor shape: torch.Size([1, 3, 512, 512])\n",
            "actual size: (32, 32, 3), target size: (512, 512)\n",
            "input tensor shape: torch.Size([1, 3, 512, 512])\n",
            "actual size: (32, 32, 3), target size: (512, 512)\n",
            "input tensor shape: torch.Size([1, 3, 512, 512])\n",
            "actual size: (32, 32, 3), target size: (512, 512)\n",
            "input tensor shape: torch.Size([1, 3, 512, 512])\n",
            "actual size: (32, 32, 3), target size: (512, 512)\n",
            "input tensor shape: torch.Size([1, 3, 512, 512])\n",
            "actual size: (32, 32, 3), target size: (512, 512)\n",
            "input tensor shape: torch.Size([1, 3, 512, 512])\n",
            "actual size: (32, 32, 3), target size: (512, 512)\n",
            "input tensor shape: torch.Size([1, 3, 512, 512])\n",
            "actual size: (32, 32, 3), target size: (512, 512)\n",
            "input tensor shape: torch.Size([1, 3, 512, 512])\n",
            "actual size: (32, 32, 3), target size: (512, 512)\n",
            "input tensor shape: torch.Size([1, 3, 512, 512])\n",
            "actual size: (32, 32, 3), target size: (512, 512)\n",
            "input tensor shape: torch.Size([1, 3, 512, 512])\n",
            "actual size: (32, 32, 3), target size: (512, 512)\n",
            "input tensor shape: torch.Size([1, 3, 512, 512])\n",
            "actual size: (32, 32, 3), target size: (512, 512)\n",
            "input tensor shape: torch.Size([1, 3, 512, 512])\n",
            "actual size: (32, 32, 3), target size: (512, 512)\n",
            "input tensor shape: torch.Size([1, 3, 512, 512])\n",
            "actual size: (32, 32, 3), target size: (512, 512)\n",
            "input tensor shape: torch.Size([1, 3, 512, 512])\n",
            "actual size: (32, 32, 3), target size: (512, 512)\n",
            "input tensor shape: torch.Size([1, 3, 512, 512])\n",
            "actual size: (32, 32, 3), target size: (512, 512)\n",
            "input tensor shape: torch.Size([1, 3, 512, 512])\n",
            "actual size: (32, 32, 3), target size: (512, 512)\n",
            "input tensor shape: torch.Size([1, 3, 512, 512])\n",
            "actual size: (32, 32, 3), target size: (512, 512)\n",
            "input tensor shape: torch.Size([1, 3, 512, 512])\n",
            "actual size: (32, 32, 3), target size: (512, 512)\n",
            "input tensor shape: torch.Size([1, 3, 512, 512])\n",
            "actual size: (32, 32, 3), target size: (512, 512)\n",
            "input tensor shape: torch.Size([1, 3, 512, 512])\n",
            "actual size: (32, 32, 3), target size: (512, 512)\n",
            "input tensor shape: torch.Size([1, 3, 512, 512])\n",
            "actual size: (32, 32, 3), target size: (512, 512)\n",
            "input tensor shape: torch.Size([1, 3, 512, 512])\n",
            "actual size: (32, 32, 3), target size: (512, 512)\n",
            "input tensor shape: torch.Size([1, 3, 512, 512])\n",
            "actual size: (32, 32, 3), target size: (512, 512)\n",
            "input tensor shape: torch.Size([1, 3, 512, 512])\n",
            "actual size: (32, 32, 3), target size: (512, 512)\n",
            "input tensor shape: torch.Size([1, 3, 512, 512])\n",
            "actual size: (32, 32, 3), target size: (512, 512)\n",
            "input tensor shape: torch.Size([1, 3, 512, 512])\n",
            "actual size: (32, 32, 3), target size: (512, 512)\n",
            "input tensor shape: torch.Size([1, 3, 512, 512])\n",
            "actual size: (32, 32, 3), target size: (512, 512)\n",
            "input tensor shape: torch.Size([1, 3, 512, 512])\n",
            "actual size: (32, 32, 3), target size: (512, 512)\n",
            "input tensor shape: torch.Size([1, 3, 512, 512])\n",
            "actual size: (32, 32, 3), target size: (512, 512)\n",
            "input tensor shape: torch.Size([1, 3, 512, 512])\n",
            "actual size: (32, 32, 3), target size: (512, 512)\n",
            "input tensor shape: torch.Size([1, 3, 512, 512])\n",
            "actual size: (32, 32, 3), target size: (512, 512)\n",
            "input tensor shape: torch.Size([1, 3, 512, 512])\n",
            "actual size: (32, 32, 3), target size: (512, 512)\n",
            "input tensor shape: torch.Size([1, 3, 512, 512])\n",
            "actual size: (32, 32, 3), target size: (512, 512)\n",
            "input tensor shape: torch.Size([1, 3, 512, 512])\n",
            "actual size: (32, 32, 3), target size: (512, 512)\n",
            "input tensor shape: torch.Size([1, 3, 512, 512])\n",
            "actual size: (32, 32, 3), target size: (512, 512)\n",
            "input tensor shape: torch.Size([1, 3, 512, 512])\n",
            "actual size: (32, 32, 3), target size: (512, 512)\n",
            "input tensor shape: torch.Size([1, 3, 512, 512])\n",
            "actual size: (32, 32, 3), target size: (512, 512)\n",
            "input tensor shape: torch.Size([1, 3, 512, 512])\n",
            "actual size: (32, 32, 3), target size: (512, 512)\n",
            "input tensor shape: torch.Size([1, 3, 512, 512])\n",
            "actual size: (32, 32, 3), target size: (512, 512)\n",
            "input tensor shape: torch.Size([1, 3, 512, 512])\n",
            "actual size: (32, 32, 3), target size: (512, 512)\n",
            "input tensor shape: torch.Size([1, 3, 512, 512])\n",
            "actual size: (32, 32, 3), target size: (512, 512)\n",
            "input tensor shape: torch.Size([1, 3, 512, 512])\n",
            "actual size: (32, 32, 3), target size: (512, 512)\n",
            "input tensor shape: torch.Size([1, 3, 512, 512])\n",
            "actual size: (32, 32, 3), target size: (512, 512)\n",
            "input tensor shape: torch.Size([1, 3, 512, 512])\n",
            "actual size: (32, 32, 3), target size: (512, 512)\n",
            "input tensor shape: torch.Size([1, 3, 512, 512])\n",
            "actual size: (32, 32, 3), target size: (512, 512)\n",
            "input tensor shape: torch.Size([1, 3, 512, 512])\n",
            "actual size: (32, 32, 3), target size: (512, 512)\n",
            "input tensor shape: torch.Size([1, 3, 512, 512])\n",
            "actual size: (32, 32, 3), target size: (512, 512)\n",
            "input tensor shape: torch.Size([1, 3, 512, 512])\n",
            "actual size: (32, 32, 3), target size: (512, 512)\n",
            "input tensor shape: torch.Size([1, 3, 512, 512])\n",
            "actual size: (32, 32, 3), target size: (512, 512)\n",
            "input tensor shape: torch.Size([1, 3, 512, 512])\n",
            "actual size: (32, 32, 3), target size: (512, 512)\n",
            "input tensor shape: torch.Size([1, 3, 512, 512])\n",
            "actual size: (32, 32, 3), target size: (512, 512)\n",
            "input tensor shape: torch.Size([1, 3, 512, 512])\n",
            "actual size: (32, 32, 3), target size: (512, 512)\n",
            "input tensor shape: torch.Size([1, 3, 512, 512])\n",
            "actual size: (32, 32, 3), target size: (512, 512)\n",
            "input tensor shape: torch.Size([1, 3, 512, 512])\n",
            "actual size: (32, 32, 3), target size: (512, 512)\n",
            "input tensor shape: torch.Size([1, 3, 512, 512])\n",
            "actual size: (32, 32, 3), target size: (512, 512)\n",
            "input tensor shape: torch.Size([1, 3, 512, 512])\n",
            "input tensor shape: torch.Size([1, 3, 512, 512])\n",
            "input tensor shape: torch.Size([1, 3, 512, 512])\n",
            "input tensor shape: torch.Size([1, 3, 512, 512])\n",
            "input tensor shape: torch.Size([1, 3, 512, 512])\n",
            "input tensor shape: torch.Size([1, 3, 512, 512])\n",
            "input tensor shape: torch.Size([1, 3, 512, 512])\n",
            "input tensor shape: torch.Size([1, 3, 512, 512])\n",
            "input tensor shape: torch.Size([1, 3, 512, 512])\n",
            "input tensor shape: torch.Size([1, 3, 512, 512])\n",
            "input tensor shape: torch.Size([1, 3, 512, 512])\n",
            "input tensor shape: torch.Size([1, 3, 512, 512])\n",
            "input tensor shape: torch.Size([1, 3, 512, 512])\n",
            "input tensor shape: torch.Size([1, 3, 512, 512])\n",
            "input tensor shape: torch.Size([1, 3, 512, 512])\n",
            "input tensor shape: torch.Size([1, 3, 512, 512])\n",
            "input tensor shape: torch.Size([1, 3, 512, 512])\n",
            "input tensor shape: torch.Size([1, 3, 512, 512])\n",
            "input tensor shape: torch.Size([1, 3, 512, 512])\n",
            "input tensor shape: torch.Size([1, 3, 512, 512])\n",
            "input tensor shape: torch.Size([1, 3, 512, 512])\n",
            "input tensor shape: torch.Size([1, 3, 512, 512])\n",
            "input tensor shape: torch.Size([1, 3, 512, 512])\n",
            "input tensor shape: torch.Size([1, 3, 512, 512])\n",
            "input tensor shape: torch.Size([1, 3, 512, 512])\n",
            "input tensor shape: torch.Size([1, 3, 512, 512])\n",
            "input tensor shape: torch.Size([1, 3, 512, 512])\n",
            "input tensor shape: torch.Size([1, 3, 512, 512])\n",
            "input tensor shape: torch.Size([1, 3, 512, 512])\n",
            "input tensor shape: torch.Size([1, 3, 512, 512])\n",
            "input tensor shape: torch.Size([1, 3, 512, 512])\n",
            "input tensor shape: torch.Size([1, 3, 512, 512])\n",
            "input tensor shape: torch.Size([1, 3, 512, 512])\n",
            "******** Testing finished in CLASSIC dataset. *****\n",
            "Average time per image: 0.019375.4 seconds\n",
            "Time spend in the Dataset: 1.937478.4 seconds\n",
            "-------------------------------------------------------\n",
            "Number of parameters of current DexiNed model:\n",
            "35215245\n",
            "-------------------------------------------------------\n",
            "renamed '/content/DexiNed/result/BIPED2CLASSIC/fused/00000.png' -> '/content/SVHN-edges/test/01/00000.png'\n",
            "renamed '/content/DexiNed/result/BIPED2CLASSIC/fused/00001.png' -> '/content/SVHN-edges/test/01/00001.png'\n",
            "renamed '/content/DexiNed/result/BIPED2CLASSIC/fused/00002.png' -> '/content/SVHN-edges/test/01/00002.png'\n",
            "renamed '/content/DexiNed/result/BIPED2CLASSIC/fused/00003.png' -> '/content/SVHN-edges/test/01/00003.png'\n",
            "renamed '/content/DexiNed/result/BIPED2CLASSIC/fused/00004.png' -> '/content/SVHN-edges/test/01/00004.png'\n",
            "renamed '/content/DexiNed/result/BIPED2CLASSIC/fused/00005.png' -> '/content/SVHN-edges/test/01/00005.png'\n",
            "renamed '/content/DexiNed/result/BIPED2CLASSIC/fused/00006.png' -> '/content/SVHN-edges/test/01/00006.png'\n",
            "renamed '/content/DexiNed/result/BIPED2CLASSIC/fused/00007.png' -> '/content/SVHN-edges/test/01/00007.png'\n",
            "renamed '/content/DexiNed/result/BIPED2CLASSIC/fused/00008.png' -> '/content/SVHN-edges/test/01/00008.png'\n",
            "renamed '/content/DexiNed/result/BIPED2CLASSIC/fused/00009.png' -> '/content/SVHN-edges/test/01/00009.png'\n",
            "renamed '/content/DexiNed/result/BIPED2CLASSIC/fused/00010.png' -> '/content/SVHN-edges/test/01/00010.png'\n",
            "renamed '/content/DexiNed/result/BIPED2CLASSIC/fused/00011.png' -> '/content/SVHN-edges/test/01/00011.png'\n",
            "renamed '/content/DexiNed/result/BIPED2CLASSIC/fused/00012.png' -> '/content/SVHN-edges/test/01/00012.png'\n",
            "renamed '/content/DexiNed/result/BIPED2CLASSIC/fused/00013.png' -> '/content/SVHN-edges/test/01/00013.png'\n",
            "renamed '/content/DexiNed/result/BIPED2CLASSIC/fused/00014.png' -> '/content/SVHN-edges/test/01/00014.png'\n",
            "renamed '/content/DexiNed/result/BIPED2CLASSIC/fused/00015.png' -> '/content/SVHN-edges/test/01/00015.png'\n",
            "renamed '/content/DexiNed/result/BIPED2CLASSIC/fused/00016.png' -> '/content/SVHN-edges/test/01/00016.png'\n",
            "renamed '/content/DexiNed/result/BIPED2CLASSIC/fused/00017.png' -> '/content/SVHN-edges/test/01/00017.png'\n",
            "renamed '/content/DexiNed/result/BIPED2CLASSIC/fused/00018.png' -> '/content/SVHN-edges/test/01/00018.png'\n",
            "renamed '/content/DexiNed/result/BIPED2CLASSIC/fused/00019.png' -> '/content/SVHN-edges/test/01/00019.png'\n",
            "renamed '/content/DexiNed/result/BIPED2CLASSIC/fused/00020.png' -> '/content/SVHN-edges/test/01/00020.png'\n",
            "renamed '/content/DexiNed/result/BIPED2CLASSIC/fused/00021.png' -> '/content/SVHN-edges/test/01/00021.png'\n",
            "renamed '/content/DexiNed/result/BIPED2CLASSIC/fused/00022.png' -> '/content/SVHN-edges/test/01/00022.png'\n",
            "renamed '/content/DexiNed/result/BIPED2CLASSIC/fused/00023.png' -> '/content/SVHN-edges/test/01/00023.png'\n",
            "renamed '/content/DexiNed/result/BIPED2CLASSIC/fused/00024.png' -> '/content/SVHN-edges/test/01/00024.png'\n",
            "renamed '/content/DexiNed/result/BIPED2CLASSIC/fused/00025.png' -> '/content/SVHN-edges/test/01/00025.png'\n",
            "renamed '/content/DexiNed/result/BIPED2CLASSIC/fused/00026.png' -> '/content/SVHN-edges/test/01/00026.png'\n",
            "renamed '/content/DexiNed/result/BIPED2CLASSIC/fused/00027.png' -> '/content/SVHN-edges/test/01/00027.png'\n",
            "renamed '/content/DexiNed/result/BIPED2CLASSIC/fused/00028.png' -> '/content/SVHN-edges/test/01/00028.png'\n",
            "renamed '/content/DexiNed/result/BIPED2CLASSIC/fused/00029.png' -> '/content/SVHN-edges/test/01/00029.png'\n",
            "renamed '/content/DexiNed/result/BIPED2CLASSIC/fused/00030.png' -> '/content/SVHN-edges/test/01/00030.png'\n",
            "renamed '/content/DexiNed/result/BIPED2CLASSIC/fused/00031.png' -> '/content/SVHN-edges/test/01/00031.png'\n",
            "renamed '/content/DexiNed/result/BIPED2CLASSIC/fused/00032.png' -> '/content/SVHN-edges/test/01/00032.png'\n",
            "renamed '/content/DexiNed/result/BIPED2CLASSIC/fused/00033.png' -> '/content/SVHN-edges/test/01/00033.png'\n",
            "renamed '/content/DexiNed/result/BIPED2CLASSIC/fused/00034.png' -> '/content/SVHN-edges/test/01/00034.png'\n",
            "renamed '/content/DexiNed/result/BIPED2CLASSIC/fused/00035.png' -> '/content/SVHN-edges/test/01/00035.png'\n",
            "renamed '/content/DexiNed/result/BIPED2CLASSIC/fused/00036.png' -> '/content/SVHN-edges/test/01/00036.png'\n",
            "renamed '/content/DexiNed/result/BIPED2CLASSIC/fused/00037.png' -> '/content/SVHN-edges/test/01/00037.png'\n",
            "renamed '/content/DexiNed/result/BIPED2CLASSIC/fused/00038.png' -> '/content/SVHN-edges/test/01/00038.png'\n",
            "renamed '/content/DexiNed/result/BIPED2CLASSIC/fused/00039.png' -> '/content/SVHN-edges/test/01/00039.png'\n",
            "renamed '/content/DexiNed/result/BIPED2CLASSIC/fused/00040.png' -> '/content/SVHN-edges/test/01/00040.png'\n",
            "renamed '/content/DexiNed/result/BIPED2CLASSIC/fused/00041.png' -> '/content/SVHN-edges/test/01/00041.png'\n",
            "renamed '/content/DexiNed/result/BIPED2CLASSIC/fused/00042.png' -> '/content/SVHN-edges/test/01/00042.png'\n",
            "renamed '/content/DexiNed/result/BIPED2CLASSIC/fused/00043.png' -> '/content/SVHN-edges/test/01/00043.png'\n",
            "renamed '/content/DexiNed/result/BIPED2CLASSIC/fused/00044.png' -> '/content/SVHN-edges/test/01/00044.png'\n",
            "renamed '/content/DexiNed/result/BIPED2CLASSIC/fused/00045.png' -> '/content/SVHN-edges/test/01/00045.png'\n",
            "renamed '/content/DexiNed/result/BIPED2CLASSIC/fused/00046.png' -> '/content/SVHN-edges/test/01/00046.png'\n",
            "renamed '/content/DexiNed/result/BIPED2CLASSIC/fused/00047.png' -> '/content/SVHN-edges/test/01/00047.png'\n",
            "renamed '/content/DexiNed/result/BIPED2CLASSIC/fused/00048.png' -> '/content/SVHN-edges/test/01/00048.png'\n",
            "renamed '/content/DexiNed/result/BIPED2CLASSIC/fused/00049.png' -> '/content/SVHN-edges/test/01/00049.png'\n",
            "renamed '/content/DexiNed/result/BIPED2CLASSIC/fused/00050.png' -> '/content/SVHN-edges/test/01/00050.png'\n",
            "renamed '/content/DexiNed/result/BIPED2CLASSIC/fused/00051.png' -> '/content/SVHN-edges/test/01/00051.png'\n",
            "renamed '/content/DexiNed/result/BIPED2CLASSIC/fused/00052.png' -> '/content/SVHN-edges/test/01/00052.png'\n",
            "renamed '/content/DexiNed/result/BIPED2CLASSIC/fused/00053.png' -> '/content/SVHN-edges/test/01/00053.png'\n",
            "renamed '/content/DexiNed/result/BIPED2CLASSIC/fused/00054.png' -> '/content/SVHN-edges/test/01/00054.png'\n",
            "renamed '/content/DexiNed/result/BIPED2CLASSIC/fused/00055.png' -> '/content/SVHN-edges/test/01/00055.png'\n",
            "renamed '/content/DexiNed/result/BIPED2CLASSIC/fused/00056.png' -> '/content/SVHN-edges/test/01/00056.png'\n",
            "renamed '/content/DexiNed/result/BIPED2CLASSIC/fused/00057.png' -> '/content/SVHN-edges/test/01/00057.png'\n",
            "renamed '/content/DexiNed/result/BIPED2CLASSIC/fused/00058.png' -> '/content/SVHN-edges/test/01/00058.png'\n",
            "renamed '/content/DexiNed/result/BIPED2CLASSIC/fused/00059.png' -> '/content/SVHN-edges/test/01/00059.png'\n",
            "renamed '/content/DexiNed/result/BIPED2CLASSIC/fused/00060.png' -> '/content/SVHN-edges/test/01/00060.png'\n",
            "renamed '/content/DexiNed/result/BIPED2CLASSIC/fused/00061.png' -> '/content/SVHN-edges/test/01/00061.png'\n",
            "renamed '/content/DexiNed/result/BIPED2CLASSIC/fused/00062.png' -> '/content/SVHN-edges/test/01/00062.png'\n",
            "renamed '/content/DexiNed/result/BIPED2CLASSIC/fused/00063.png' -> '/content/SVHN-edges/test/01/00063.png'\n",
            "renamed '/content/DexiNed/result/BIPED2CLASSIC/fused/00064.png' -> '/content/SVHN-edges/test/01/00064.png'\n",
            "renamed '/content/DexiNed/result/BIPED2CLASSIC/fused/00065.png' -> '/content/SVHN-edges/test/01/00065.png'\n",
            "renamed '/content/DexiNed/result/BIPED2CLASSIC/fused/00066.png' -> '/content/SVHN-edges/test/01/00066.png'\n",
            "renamed '/content/DexiNed/result/BIPED2CLASSIC/fused/00067.png' -> '/content/SVHN-edges/test/01/00067.png'\n",
            "renamed '/content/DexiNed/result/BIPED2CLASSIC/fused/00068.png' -> '/content/SVHN-edges/test/01/00068.png'\n",
            "renamed '/content/DexiNed/result/BIPED2CLASSIC/fused/00069.png' -> '/content/SVHN-edges/test/01/00069.png'\n",
            "renamed '/content/DexiNed/result/BIPED2CLASSIC/fused/00070.png' -> '/content/SVHN-edges/test/01/00070.png'\n",
            "renamed '/content/DexiNed/result/BIPED2CLASSIC/fused/00071.png' -> '/content/SVHN-edges/test/01/00071.png'\n",
            "renamed '/content/DexiNed/result/BIPED2CLASSIC/fused/00072.png' -> '/content/SVHN-edges/test/01/00072.png'\n",
            "renamed '/content/DexiNed/result/BIPED2CLASSIC/fused/00073.png' -> '/content/SVHN-edges/test/01/00073.png'\n",
            "renamed '/content/DexiNed/result/BIPED2CLASSIC/fused/00074.png' -> '/content/SVHN-edges/test/01/00074.png'\n",
            "renamed '/content/DexiNed/result/BIPED2CLASSIC/fused/00075.png' -> '/content/SVHN-edges/test/01/00075.png'\n",
            "renamed '/content/DexiNed/result/BIPED2CLASSIC/fused/00076.png' -> '/content/SVHN-edges/test/01/00076.png'\n",
            "renamed '/content/DexiNed/result/BIPED2CLASSIC/fused/00077.png' -> '/content/SVHN-edges/test/01/00077.png'\n",
            "renamed '/content/DexiNed/result/BIPED2CLASSIC/fused/00078.png' -> '/content/SVHN-edges/test/01/00078.png'\n",
            "renamed '/content/DexiNed/result/BIPED2CLASSIC/fused/00079.png' -> '/content/SVHN-edges/test/01/00079.png'\n",
            "renamed '/content/DexiNed/result/BIPED2CLASSIC/fused/00080.png' -> '/content/SVHN-edges/test/01/00080.png'\n",
            "renamed '/content/DexiNed/result/BIPED2CLASSIC/fused/00081.png' -> '/content/SVHN-edges/test/01/00081.png'\n",
            "renamed '/content/DexiNed/result/BIPED2CLASSIC/fused/00082.png' -> '/content/SVHN-edges/test/01/00082.png'\n",
            "renamed '/content/DexiNed/result/BIPED2CLASSIC/fused/00083.png' -> '/content/SVHN-edges/test/01/00083.png'\n",
            "renamed '/content/DexiNed/result/BIPED2CLASSIC/fused/00084.png' -> '/content/SVHN-edges/test/01/00084.png'\n",
            "renamed '/content/DexiNed/result/BIPED2CLASSIC/fused/00085.png' -> '/content/SVHN-edges/test/01/00085.png'\n",
            "renamed '/content/DexiNed/result/BIPED2CLASSIC/fused/00086.png' -> '/content/SVHN-edges/test/01/00086.png'\n",
            "renamed '/content/DexiNed/result/BIPED2CLASSIC/fused/00087.png' -> '/content/SVHN-edges/test/01/00087.png'\n",
            "renamed '/content/DexiNed/result/BIPED2CLASSIC/fused/00088.png' -> '/content/SVHN-edges/test/01/00088.png'\n",
            "renamed '/content/DexiNed/result/BIPED2CLASSIC/fused/00089.png' -> '/content/SVHN-edges/test/01/00089.png'\n",
            "renamed '/content/DexiNed/result/BIPED2CLASSIC/fused/00090.png' -> '/content/SVHN-edges/test/01/00090.png'\n",
            "renamed '/content/DexiNed/result/BIPED2CLASSIC/fused/00091.png' -> '/content/SVHN-edges/test/01/00091.png'\n",
            "renamed '/content/DexiNed/result/BIPED2CLASSIC/fused/00092.png' -> '/content/SVHN-edges/test/01/00092.png'\n",
            "renamed '/content/DexiNed/result/BIPED2CLASSIC/fused/00093.png' -> '/content/SVHN-edges/test/01/00093.png'\n",
            "renamed '/content/DexiNed/result/BIPED2CLASSIC/fused/00094.png' -> '/content/SVHN-edges/test/01/00094.png'\n",
            "renamed '/content/DexiNed/result/BIPED2CLASSIC/fused/00095.png' -> '/content/SVHN-edges/test/01/00095.png'\n",
            "renamed '/content/DexiNed/result/BIPED2CLASSIC/fused/00096.png' -> '/content/SVHN-edges/test/01/00096.png'\n",
            "renamed '/content/DexiNed/result/BIPED2CLASSIC/fused/00097.png' -> '/content/SVHN-edges/test/01/00097.png'\n",
            "renamed '/content/DexiNed/result/BIPED2CLASSIC/fused/00098.png' -> '/content/SVHN-edges/test/01/00098.png'\n",
            "renamed '/content/DexiNed/result/BIPED2CLASSIC/fused/00099.png' -> '/content/SVHN-edges/test/01/00099.png'\n",
            "01\n"
          ]
        },
        {
          "output_type": "execute_result",
          "data": {
            "text/plain": [
              ""
            ]
          },
          "metadata": {},
          "execution_count": 30
        }
      ]
    },
    {
      "cell_type": "markdown",
      "source": [
        "running edge detection on train dataset and storing results"
      ],
      "metadata": {
        "id": "USOizLlMpeGe"
      }
    },
    {
      "cell_type": "code",
      "source": [
        "%%shell\n",
        "cd /content/DexiNed/\n",
        "# data_dir = \"/content/SVHN-images\"\n",
        "for dir in /content/SVHN-images/train/*/    # list directories in the form \"/tmp/dirname/\"\n",
        "do\n",
        "    dir=${dir%*/}      # remove the trailing \"/\"\n",
        "    mkdir -p \"/content/SVHN-edges/train/${dir##*/}\"\n",
        "\n",
        "    rm -rf /content/DexiNed/data/*\n",
        "    rm -rf /content/DexiNed/result/\n",
        "\n",
        "    cp -v `ls -d /content/SVHN-images/train/${dir##*/}/* | head -1000` /content/DexiNed/data\n",
        "\n",
        "    python /content/DexiNed/main.py --choose_test_data=-1\n",
        "\n",
        "    mv -v /content/DexiNed/result/BIPED2CLASSIC/fused/* /content/SVHN-edges/train/${dir##*/}/\n",
        "    \n",
        "    echo \"${dir##*/}\"    # print everything after the final \"/\"\n",
        "done\n",
        "\n",
        "cd /content/"
      ],
      "metadata": {
        "id": "GUR3J6MoptzJ",
        "colab": {
          "base_uri": "https://localhost:8080/"
        },
        "outputId": "e25568c4-547b-46e8-a9c6-32a5e53b6d07"
      },
      "execution_count": null,
      "outputs": [
        {
          "output_type": "stream",
          "name": "stdout",
          "text": [
            "'/content/SVHN-images/train/01/00000.png' -> '/content/DexiNed/data/00000.png'\n",
            "'/content/SVHN-images/train/01/00001.png' -> '/content/DexiNed/data/00001.png'\n",
            "'/content/SVHN-images/train/01/00002.png' -> '/content/DexiNed/data/00002.png'\n",
            "'/content/SVHN-images/train/01/00003.png' -> '/content/DexiNed/data/00003.png'\n",
            "'/content/SVHN-images/train/01/00004.png' -> '/content/DexiNed/data/00004.png'\n",
            "'/content/SVHN-images/train/01/00005.png' -> '/content/DexiNed/data/00005.png'\n",
            "'/content/SVHN-images/train/01/00006.png' -> '/content/DexiNed/data/00006.png'\n",
            "'/content/SVHN-images/train/01/00007.png' -> '/content/DexiNed/data/00007.png'\n",
            "'/content/SVHN-images/train/01/00008.png' -> '/content/DexiNed/data/00008.png'\n",
            "'/content/SVHN-images/train/01/00009.png' -> '/content/DexiNed/data/00009.png'\n",
            "'/content/SVHN-images/train/01/00010.png' -> '/content/DexiNed/data/00010.png'\n",
            "'/content/SVHN-images/train/01/00011.png' -> '/content/DexiNed/data/00011.png'\n",
            "'/content/SVHN-images/train/01/00012.png' -> '/content/DexiNed/data/00012.png'\n",
            "'/content/SVHN-images/train/01/00013.png' -> '/content/DexiNed/data/00013.png'\n",
            "'/content/SVHN-images/train/01/00014.png' -> '/content/DexiNed/data/00014.png'\n",
            "'/content/SVHN-images/train/01/00015.png' -> '/content/DexiNed/data/00015.png'\n",
            "'/content/SVHN-images/train/01/00016.png' -> '/content/DexiNed/data/00016.png'\n",
            "'/content/SVHN-images/train/01/00017.png' -> '/content/DexiNed/data/00017.png'\n",
            "'/content/SVHN-images/train/01/00018.png' -> '/content/DexiNed/data/00018.png'\n",
            "'/content/SVHN-images/train/01/00019.png' -> '/content/DexiNed/data/00019.png'\n",
            "'/content/SVHN-images/train/01/00020.png' -> '/content/DexiNed/data/00020.png'\n",
            "'/content/SVHN-images/train/01/00021.png' -> '/content/DexiNed/data/00021.png'\n",
            "'/content/SVHN-images/train/01/00022.png' -> '/content/DexiNed/data/00022.png'\n",
            "'/content/SVHN-images/train/01/00023.png' -> '/content/DexiNed/data/00023.png'\n",
            "'/content/SVHN-images/train/01/00024.png' -> '/content/DexiNed/data/00024.png'\n",
            "'/content/SVHN-images/train/01/00025.png' -> '/content/DexiNed/data/00025.png'\n",
            "'/content/SVHN-images/train/01/00026.png' -> '/content/DexiNed/data/00026.png'\n",
            "'/content/SVHN-images/train/01/00027.png' -> '/content/DexiNed/data/00027.png'\n",
            "'/content/SVHN-images/train/01/00028.png' -> '/content/DexiNed/data/00028.png'\n",
            "'/content/SVHN-images/train/01/00029.png' -> '/content/DexiNed/data/00029.png'\n",
            "'/content/SVHN-images/train/01/00030.png' -> '/content/DexiNed/data/00030.png'\n",
            "'/content/SVHN-images/train/01/00031.png' -> '/content/DexiNed/data/00031.png'\n",
            "'/content/SVHN-images/train/01/00032.png' -> '/content/DexiNed/data/00032.png'\n",
            "'/content/SVHN-images/train/01/00033.png' -> '/content/DexiNed/data/00033.png'\n",
            "'/content/SVHN-images/train/01/00034.png' -> '/content/DexiNed/data/00034.png'\n",
            "'/content/SVHN-images/train/01/00035.png' -> '/content/DexiNed/data/00035.png'\n",
            "'/content/SVHN-images/train/01/00036.png' -> '/content/DexiNed/data/00036.png'\n",
            "'/content/SVHN-images/train/01/00037.png' -> '/content/DexiNed/data/00037.png'\n",
            "'/content/SVHN-images/train/01/00038.png' -> '/content/DexiNed/data/00038.png'\n",
            "'/content/SVHN-images/train/01/00039.png' -> '/content/DexiNed/data/00039.png'\n",
            "'/content/SVHN-images/train/01/00040.png' -> '/content/DexiNed/data/00040.png'\n",
            "'/content/SVHN-images/train/01/00041.png' -> '/content/DexiNed/data/00041.png'\n",
            "'/content/SVHN-images/train/01/00042.png' -> '/content/DexiNed/data/00042.png'\n",
            "'/content/SVHN-images/train/01/00043.png' -> '/content/DexiNed/data/00043.png'\n",
            "'/content/SVHN-images/train/01/00044.png' -> '/content/DexiNed/data/00044.png'\n",
            "'/content/SVHN-images/train/01/00045.png' -> '/content/DexiNed/data/00045.png'\n",
            "'/content/SVHN-images/train/01/00046.png' -> '/content/DexiNed/data/00046.png'\n",
            "'/content/SVHN-images/train/01/00047.png' -> '/content/DexiNed/data/00047.png'\n",
            "'/content/SVHN-images/train/01/00048.png' -> '/content/DexiNed/data/00048.png'\n",
            "'/content/SVHN-images/train/01/00049.png' -> '/content/DexiNed/data/00049.png'\n",
            "'/content/SVHN-images/train/01/00050.png' -> '/content/DexiNed/data/00050.png'\n",
            "'/content/SVHN-images/train/01/00051.png' -> '/content/DexiNed/data/00051.png'\n",
            "'/content/SVHN-images/train/01/00052.png' -> '/content/DexiNed/data/00052.png'\n",
            "'/content/SVHN-images/train/01/00053.png' -> '/content/DexiNed/data/00053.png'\n",
            "'/content/SVHN-images/train/01/00054.png' -> '/content/DexiNed/data/00054.png'\n",
            "'/content/SVHN-images/train/01/00055.png' -> '/content/DexiNed/data/00055.png'\n",
            "'/content/SVHN-images/train/01/00056.png' -> '/content/DexiNed/data/00056.png'\n",
            "'/content/SVHN-images/train/01/00057.png' -> '/content/DexiNed/data/00057.png'\n",
            "'/content/SVHN-images/train/01/00058.png' -> '/content/DexiNed/data/00058.png'\n",
            "'/content/SVHN-images/train/01/00059.png' -> '/content/DexiNed/data/00059.png'\n",
            "'/content/SVHN-images/train/01/00060.png' -> '/content/DexiNed/data/00060.png'\n",
            "'/content/SVHN-images/train/01/00061.png' -> '/content/DexiNed/data/00061.png'\n",
            "'/content/SVHN-images/train/01/00062.png' -> '/content/DexiNed/data/00062.png'\n",
            "'/content/SVHN-images/train/01/00063.png' -> '/content/DexiNed/data/00063.png'\n",
            "'/content/SVHN-images/train/01/00064.png' -> '/content/DexiNed/data/00064.png'\n",
            "'/content/SVHN-images/train/01/00065.png' -> '/content/DexiNed/data/00065.png'\n",
            "'/content/SVHN-images/train/01/00066.png' -> '/content/DexiNed/data/00066.png'\n",
            "'/content/SVHN-images/train/01/00067.png' -> '/content/DexiNed/data/00067.png'\n",
            "'/content/SVHN-images/train/01/00068.png' -> '/content/DexiNed/data/00068.png'\n",
            "'/content/SVHN-images/train/01/00069.png' -> '/content/DexiNed/data/00069.png'\n",
            "'/content/SVHN-images/train/01/00070.png' -> '/content/DexiNed/data/00070.png'\n",
            "'/content/SVHN-images/train/01/00071.png' -> '/content/DexiNed/data/00071.png'\n",
            "'/content/SVHN-images/train/01/00072.png' -> '/content/DexiNed/data/00072.png'\n",
            "'/content/SVHN-images/train/01/00073.png' -> '/content/DexiNed/data/00073.png'\n",
            "'/content/SVHN-images/train/01/00074.png' -> '/content/DexiNed/data/00074.png'\n",
            "'/content/SVHN-images/train/01/00075.png' -> '/content/DexiNed/data/00075.png'\n",
            "'/content/SVHN-images/train/01/00076.png' -> '/content/DexiNed/data/00076.png'\n",
            "'/content/SVHN-images/train/01/00077.png' -> '/content/DexiNed/data/00077.png'\n",
            "'/content/SVHN-images/train/01/00078.png' -> '/content/DexiNed/data/00078.png'\n",
            "'/content/SVHN-images/train/01/00079.png' -> '/content/DexiNed/data/00079.png'\n",
            "'/content/SVHN-images/train/01/00080.png' -> '/content/DexiNed/data/00080.png'\n",
            "'/content/SVHN-images/train/01/00081.png' -> '/content/DexiNed/data/00081.png'\n",
            "'/content/SVHN-images/train/01/00082.png' -> '/content/DexiNed/data/00082.png'\n",
            "'/content/SVHN-images/train/01/00083.png' -> '/content/DexiNed/data/00083.png'\n",
            "'/content/SVHN-images/train/01/00084.png' -> '/content/DexiNed/data/00084.png'\n",
            "'/content/SVHN-images/train/01/00085.png' -> '/content/DexiNed/data/00085.png'\n",
            "'/content/SVHN-images/train/01/00086.png' -> '/content/DexiNed/data/00086.png'\n",
            "'/content/SVHN-images/train/01/00087.png' -> '/content/DexiNed/data/00087.png'\n",
            "'/content/SVHN-images/train/01/00088.png' -> '/content/DexiNed/data/00088.png'\n",
            "'/content/SVHN-images/train/01/00089.png' -> '/content/DexiNed/data/00089.png'\n",
            "'/content/SVHN-images/train/01/00090.png' -> '/content/DexiNed/data/00090.png'\n",
            "'/content/SVHN-images/train/01/00091.png' -> '/content/DexiNed/data/00091.png'\n",
            "'/content/SVHN-images/train/01/00092.png' -> '/content/DexiNed/data/00092.png'\n",
            "'/content/SVHN-images/train/01/00093.png' -> '/content/DexiNed/data/00093.png'\n",
            "'/content/SVHN-images/train/01/00094.png' -> '/content/DexiNed/data/00094.png'\n",
            "'/content/SVHN-images/train/01/00095.png' -> '/content/DexiNed/data/00095.png'\n",
            "'/content/SVHN-images/train/01/00096.png' -> '/content/DexiNed/data/00096.png'\n",
            "'/content/SVHN-images/train/01/00097.png' -> '/content/DexiNed/data/00097.png'\n",
            "'/content/SVHN-images/train/01/00098.png' -> '/content/DexiNed/data/00098.png'\n",
            "'/content/SVHN-images/train/01/00099.png' -> '/content/DexiNed/data/00099.png'\n",
            "Number of GPU's available: 1\n",
            "Pytorch version: 1.10.0+cu111\n",
            "mean_bgr: [103.939, 116.779, 123.68]\n",
            "/usr/local/lib/python3.7/dist-packages/torch/utils/data/dataloader.py:481: UserWarning: This DataLoader will create 16 worker processes in total. Our suggested max number of worker in current system is 2, which is smaller than what this DataLoader is going to create. Please be aware that excessive worker creation might get DataLoader running slow or even freeze, lower the worker number to avoid potential slowness/freeze if necessary.\n",
            "  cpuset_checked))\n",
            "output_dir: result/BIPED2CLASSIC\n",
            "Restoring weights from: checkpoints/BIPED/10/10_model.pth\n",
            "actual size: (32, 32, 3), target size: (512, 512)\n",
            "actual size: (32, 32, 3), target size: (512, 512)\n",
            "actual size: (32, 32, 3), target size: (512, 512)\n",
            "actual size: (32, 32, 3), target size: (512, 512)\n",
            "actual size: (32, 32, 3), target size: (512, 512)\n",
            "actual size: (32, 32, 3), target size: (512, 512)\n",
            "actual size: (32, 32, 3), target size: (512, 512)\n",
            "actual size: (32, 32, 3), target size: (512, 512)\n",
            "actual size: (32, 32, 3), target size: (512, 512)\n",
            "actual size: (32, 32, 3), target size: (512, 512)\n",
            "actual size: (32, 32, 3), target size: (512, 512)\n",
            "actual size: (32, 32, 3), target size: (512, 512)\n",
            "actual size: (32, 32, 3), target size: (512, 512)\n",
            "actual size: (32, 32, 3), target size: (512, 512)\n",
            "actual size: (32, 32, 3), target size: (512, 512)\n",
            "actual size: (32, 32, 3), target size: (512, 512)\n",
            "actual size: (32, 32, 3), target size: (512, 512)\n",
            "actual size: (32, 32, 3), target size: (512, 512)\n",
            "actual size: (32, 32, 3), target size: (512, 512)\n",
            "actual size: (32, 32, 3), target size: (512, 512)\n",
            "actual size: (32, 32, 3), target size: (512, 512)\n",
            "actual size: (32, 32, 3), target size: (512, 512)\n",
            "actual size: (32, 32, 3), target size: (512, 512)\n",
            "actual size: (32, 32, 3), target size: (512, 512)\n",
            "actual size: (32, 32, 3), target size: (512, 512)\n",
            "actual size: (32, 32, 3), target size: (512, 512)\n",
            "actual size: (32, 32, 3), target size: (512, 512)\n",
            "actual size: (32, 32, 3), target size: (512, 512)\n",
            "actual size: (32, 32, 3), target size: (512, 512)\n",
            "actual size: (32, 32, 3), target size: (512, 512)\n",
            "actual size: (32, 32, 3), target size: (512, 512)\n",
            "actual size: (32, 32, 3), target size: (512, 512)\n",
            "input tensor shape: torch.Size([1, 3, 512, 512])\n",
            "actual size: (32, 32, 3), target size: (512, 512)\n",
            "actual size: (32, 32, 3), target size: (512, 512)\n",
            "input tensor shape: torch.Size([1, 3, 512, 512])\n",
            "actual size: (32, 32, 3), target size: (512, 512)\n",
            "input tensor shape: torch.Size([1, 3, 512, 512])\n",
            "input tensor shape: torch.Size([1, 3, 512, 512])\n",
            "actual size: (32, 32, 3), target size: (512, 512)\n",
            "actual size: (32, 32, 3), target size: (512, 512)\n",
            "input tensor shape: torch.Size([1, 3, 512, 512])\n",
            "actual size: (32, 32, 3), target size: (512, 512)\n",
            "input tensor shape: torch.Size([1, 3, 512, 512])\n",
            "actual size: (32, 32, 3), target size: (512, 512)\n",
            "input tensor shape: torch.Size([1, 3, 512, 512])\n",
            "actual size: (32, 32, 3), target size: (512, 512)\n",
            "input tensor shape: torch.Size([1, 3, 512, 512])\n",
            "actual size: (32, 32, 3), target size: (512, 512)\n",
            "input tensor shape: torch.Size([1, 3, 512, 512])\n",
            "actual size: (32, 32, 3), target size: (512, 512)\n",
            "input tensor shape: torch.Size([1, 3, 512, 512])\n",
            "actual size: (32, 32, 3), target size: (512, 512)\n",
            "input tensor shape: torch.Size([1, 3, 512, 512])\n",
            "actual size: (32, 32, 3), target size: (512, 512)\n",
            "input tensor shape: torch.Size([1, 3, 512, 512])\n",
            "actual size: (32, 32, 3), target size: (512, 512)\n",
            "input tensor shape: torch.Size([1, 3, 512, 512])\n",
            "actual size: (32, 32, 3), target size: (512, 512)\n",
            "input tensor shape: torch.Size([1, 3, 512, 512])\n",
            "actual size: (32, 32, 3), target size: (512, 512)\n",
            "input tensor shape: torch.Size([1, 3, 512, 512])\n",
            "actual size: (32, 32, 3), target size: (512, 512)\n",
            "input tensor shape: torch.Size([1, 3, 512, 512])\n",
            "actual size: (32, 32, 3), target size: (512, 512)\n",
            "input tensor shape: torch.Size([1, 3, 512, 512])\n",
            "actual size: (32, 32, 3), target size: (512, 512)\n",
            "input tensor shape: torch.Size([1, 3, 512, 512])\n",
            "actual size: (32, 32, 3), target size: (512, 512)\n",
            "input tensor shape: torch.Size([1, 3, 512, 512])\n",
            "actual size: (32, 32, 3), target size: (512, 512)\n",
            "input tensor shape: torch.Size([1, 3, 512, 512])\n",
            "actual size: (32, 32, 3), target size: (512, 512)\n",
            "input tensor shape: torch.Size([1, 3, 512, 512])\n",
            "actual size: (32, 32, 3), target size: (512, 512)\n",
            "input tensor shape: torch.Size([1, 3, 512, 512])\n",
            "actual size: (32, 32, 3), target size: (512, 512)\n",
            "input tensor shape: torch.Size([1, 3, 512, 512])\n",
            "actual size: (32, 32, 3), target size: (512, 512)\n",
            "input tensor shape: torch.Size([1, 3, 512, 512])\n",
            "actual size: (32, 32, 3), target size: (512, 512)\n",
            "input tensor shape: torch.Size([1, 3, 512, 512])\n",
            "actual size: (32, 32, 3), target size: (512, 512)\n",
            "input tensor shape: torch.Size([1, 3, 512, 512])\n",
            "actual size: (32, 32, 3), target size: (512, 512)\n",
            "input tensor shape: torch.Size([1, 3, 512, 512])\n",
            "actual size: (32, 32, 3), target size: (512, 512)\n",
            "input tensor shape: torch.Size([1, 3, 512, 512])\n",
            "actual size: (32, 32, 3), target size: (512, 512)\n",
            "input tensor shape: torch.Size([1, 3, 512, 512])\n",
            "actual size: (32, 32, 3), target size: (512, 512)\n",
            "input tensor shape: torch.Size([1, 3, 512, 512])\n",
            "actual size: (32, 32, 3), target size: (512, 512)\n",
            "input tensor shape: torch.Size([1, 3, 512, 512])\n",
            "actual size: (32, 32, 3), target size: (512, 512)\n",
            "input tensor shape: torch.Size([1, 3, 512, 512])\n",
            "actual size: (32, 32, 3), target size: (512, 512)\n",
            "input tensor shape: torch.Size([1, 3, 512, 512])\n",
            "actual size: (32, 32, 3), target size: (512, 512)\n",
            "input tensor shape: torch.Size([1, 3, 512, 512])\n",
            "actual size: (32, 32, 3), target size: (512, 512)\n",
            "input tensor shape: torch.Size([1, 3, 512, 512])\n",
            "actual size: (32, 32, 3), target size: (512, 512)\n",
            "input tensor shape: torch.Size([1, 3, 512, 512])\n",
            "actual size: (32, 32, 3), target size: (512, 512)\n",
            "input tensor shape: torch.Size([1, 3, 512, 512])\n",
            "actual size: (32, 32, 3), target size: (512, 512)\n",
            "input tensor shape: torch.Size([1, 3, 512, 512])\n",
            "actual size: (32, 32, 3), target size: (512, 512)\n",
            "input tensor shape: torch.Size([1, 3, 512, 512])\n",
            "actual size: (32, 32, 3), target size: (512, 512)\n",
            "input tensor shape: torch.Size([1, 3, 512, 512])\n",
            "actual size: (32, 32, 3), target size: (512, 512)\n",
            "input tensor shape: torch.Size([1, 3, 512, 512])\n",
            "actual size: (32, 32, 3), target size: (512, 512)\n",
            "input tensor shape: torch.Size([1, 3, 512, 512])\n",
            "actual size: (32, 32, 3), target size: (512, 512)\n",
            "input tensor shape: torch.Size([1, 3, 512, 512])\n",
            "actual size: (32, 32, 3), target size: (512, 512)\n",
            "input tensor shape: torch.Size([1, 3, 512, 512])\n",
            "actual size: (32, 32, 3), target size: (512, 512)\n",
            "input tensor shape: torch.Size([1, 3, 512, 512])\n",
            "actual size: (32, 32, 3), target size: (512, 512)\n",
            "input tensor shape: torch.Size([1, 3, 512, 512])\n",
            "actual size: (32, 32, 3), target size: (512, 512)\n",
            "input tensor shape: torch.Size([1, 3, 512, 512])\n",
            "actual size: (32, 32, 3), target size: (512, 512)\n",
            "input tensor shape: torch.Size([1, 3, 512, 512])\n",
            "actual size: (32, 32, 3), target size: (512, 512)\n",
            "input tensor shape: torch.Size([1, 3, 512, 512])\n",
            "actual size: (32, 32, 3), target size: (512, 512)\n",
            "input tensor shape: torch.Size([1, 3, 512, 512])\n",
            "actual size: (32, 32, 3), target size: (512, 512)\n",
            "input tensor shape: torch.Size([1, 3, 512, 512])\n",
            "actual size: (32, 32, 3), target size: (512, 512)\n",
            "input tensor shape: torch.Size([1, 3, 512, 512])\n",
            "actual size: (32, 32, 3), target size: (512, 512)\n",
            "input tensor shape: torch.Size([1, 3, 512, 512])\n",
            "actual size: (32, 32, 3), target size: (512, 512)\n",
            "input tensor shape: torch.Size([1, 3, 512, 512])\n",
            "actual size: (32, 32, 3), target size: (512, 512)\n",
            "input tensor shape: torch.Size([1, 3, 512, 512])\n",
            "actual size: (32, 32, 3), target size: (512, 512)\n",
            "input tensor shape: torch.Size([1, 3, 512, 512])\n",
            "actual size: (32, 32, 3), target size: (512, 512)\n",
            "input tensor shape: torch.Size([1, 3, 512, 512])\n",
            "actual size: (32, 32, 3), target size: (512, 512)\n",
            "input tensor shape: torch.Size([1, 3, 512, 512])\n",
            "actual size: (32, 32, 3), target size: (512, 512)\n",
            "input tensor shape: torch.Size([1, 3, 512, 512])\n",
            "actual size: (32, 32, 3), target size: (512, 512)\n",
            "input tensor shape: torch.Size([1, 3, 512, 512])\n",
            "actual size: (32, 32, 3), target size: (512, 512)\n",
            "input tensor shape: torch.Size([1, 3, 512, 512])\n",
            "actual size: (32, 32, 3), target size: (512, 512)\n",
            "input tensor shape: torch.Size([1, 3, 512, 512])\n",
            "actual size: (32, 32, 3), target size: (512, 512)\n",
            "input tensor shape: torch.Size([1, 3, 512, 512])\n",
            "actual size: (32, 32, 3), target size: (512, 512)\n",
            "input tensor shape: torch.Size([1, 3, 512, 512])\n",
            "actual size: (32, 32, 3), target size: (512, 512)\n",
            "input tensor shape: torch.Size([1, 3, 512, 512])\n",
            "actual size: (32, 32, 3), target size: (512, 512)\n",
            "input tensor shape: torch.Size([1, 3, 512, 512])\n",
            "input tensor shape: torch.Size([1, 3, 512, 512])\n",
            "actual size: (32, 32, 3), target size: (512, 512)\n",
            "actual size: (32, 32, 3), target size: (512, 512)\n",
            "input tensor shape: torch.Size([1, 3, 512, 512])\n",
            "input tensor shape: torch.Size([1, 3, 512, 512])\n",
            "input tensor shape: torch.Size([1, 3, 512, 512])\n",
            "input tensor shape: torch.Size([1, 3, 512, 512])\n",
            "input tensor shape: torch.Size([1, 3, 512, 512])\n",
            "input tensor shape: torch.Size([1, 3, 512, 512])\n",
            "input tensor shape: torch.Size([1, 3, 512, 512])\n",
            "input tensor shape: torch.Size([1, 3, 512, 512])\n",
            "input tensor shape: torch.Size([1, 3, 512, 512])\n",
            "input tensor shape: torch.Size([1, 3, 512, 512])\n",
            "input tensor shape: torch.Size([1, 3, 512, 512])\n",
            "input tensor shape: torch.Size([1, 3, 512, 512])\n",
            "input tensor shape: torch.Size([1, 3, 512, 512])\n",
            "input tensor shape: torch.Size([1, 3, 512, 512])\n",
            "input tensor shape: torch.Size([1, 3, 512, 512])\n",
            "input tensor shape: torch.Size([1, 3, 512, 512])\n",
            "input tensor shape: torch.Size([1, 3, 512, 512])\n",
            "input tensor shape: torch.Size([1, 3, 512, 512])\n",
            "input tensor shape: torch.Size([1, 3, 512, 512])\n",
            "input tensor shape: torch.Size([1, 3, 512, 512])\n",
            "input tensor shape: torch.Size([1, 3, 512, 512])\n",
            "input tensor shape: torch.Size([1, 3, 512, 512])\n",
            "input tensor shape: torch.Size([1, 3, 512, 512])\n",
            "input tensor shape: torch.Size([1, 3, 512, 512])\n",
            "input tensor shape: torch.Size([1, 3, 512, 512])\n",
            "input tensor shape: torch.Size([1, 3, 512, 512])\n",
            "input tensor shape: torch.Size([1, 3, 512, 512])\n",
            "input tensor shape: torch.Size([1, 3, 512, 512])\n",
            "input tensor shape: torch.Size([1, 3, 512, 512])\n",
            "input tensor shape: torch.Size([1, 3, 512, 512])\n",
            "input tensor shape: torch.Size([1, 3, 512, 512])\n",
            "input tensor shape: torch.Size([1, 3, 512, 512])\n",
            "input tensor shape: torch.Size([1, 3, 512, 512])\n",
            "******** Testing finished in CLASSIC dataset. *****\n",
            "Average time per image: 0.018934.4 seconds\n",
            "Time spend in the Dataset: 1.893367.4 seconds\n",
            "-------------------------------------------------------\n",
            "Number of parameters of current DexiNed model:\n",
            "35215245\n",
            "-------------------------------------------------------\n",
            "renamed '/content/DexiNed/result/BIPED2CLASSIC/fused/00000.png' -> '/content/SVHN-edges/train/01/00000.png'\n",
            "renamed '/content/DexiNed/result/BIPED2CLASSIC/fused/00001.png' -> '/content/SVHN-edges/train/01/00001.png'\n",
            "renamed '/content/DexiNed/result/BIPED2CLASSIC/fused/00002.png' -> '/content/SVHN-edges/train/01/00002.png'\n",
            "renamed '/content/DexiNed/result/BIPED2CLASSIC/fused/00003.png' -> '/content/SVHN-edges/train/01/00003.png'\n",
            "renamed '/content/DexiNed/result/BIPED2CLASSIC/fused/00004.png' -> '/content/SVHN-edges/train/01/00004.png'\n",
            "renamed '/content/DexiNed/result/BIPED2CLASSIC/fused/00005.png' -> '/content/SVHN-edges/train/01/00005.png'\n",
            "renamed '/content/DexiNed/result/BIPED2CLASSIC/fused/00006.png' -> '/content/SVHN-edges/train/01/00006.png'\n",
            "renamed '/content/DexiNed/result/BIPED2CLASSIC/fused/00007.png' -> '/content/SVHN-edges/train/01/00007.png'\n",
            "renamed '/content/DexiNed/result/BIPED2CLASSIC/fused/00008.png' -> '/content/SVHN-edges/train/01/00008.png'\n",
            "renamed '/content/DexiNed/result/BIPED2CLASSIC/fused/00009.png' -> '/content/SVHN-edges/train/01/00009.png'\n",
            "renamed '/content/DexiNed/result/BIPED2CLASSIC/fused/00010.png' -> '/content/SVHN-edges/train/01/00010.png'\n",
            "renamed '/content/DexiNed/result/BIPED2CLASSIC/fused/00011.png' -> '/content/SVHN-edges/train/01/00011.png'\n",
            "renamed '/content/DexiNed/result/BIPED2CLASSIC/fused/00012.png' -> '/content/SVHN-edges/train/01/00012.png'\n",
            "renamed '/content/DexiNed/result/BIPED2CLASSIC/fused/00013.png' -> '/content/SVHN-edges/train/01/00013.png'\n",
            "renamed '/content/DexiNed/result/BIPED2CLASSIC/fused/00014.png' -> '/content/SVHN-edges/train/01/00014.png'\n",
            "renamed '/content/DexiNed/result/BIPED2CLASSIC/fused/00015.png' -> '/content/SVHN-edges/train/01/00015.png'\n",
            "renamed '/content/DexiNed/result/BIPED2CLASSIC/fused/00016.png' -> '/content/SVHN-edges/train/01/00016.png'\n",
            "renamed '/content/DexiNed/result/BIPED2CLASSIC/fused/00017.png' -> '/content/SVHN-edges/train/01/00017.png'\n",
            "renamed '/content/DexiNed/result/BIPED2CLASSIC/fused/00018.png' -> '/content/SVHN-edges/train/01/00018.png'\n",
            "renamed '/content/DexiNed/result/BIPED2CLASSIC/fused/00019.png' -> '/content/SVHN-edges/train/01/00019.png'\n",
            "renamed '/content/DexiNed/result/BIPED2CLASSIC/fused/00020.png' -> '/content/SVHN-edges/train/01/00020.png'\n",
            "renamed '/content/DexiNed/result/BIPED2CLASSIC/fused/00021.png' -> '/content/SVHN-edges/train/01/00021.png'\n",
            "renamed '/content/DexiNed/result/BIPED2CLASSIC/fused/00022.png' -> '/content/SVHN-edges/train/01/00022.png'\n",
            "renamed '/content/DexiNed/result/BIPED2CLASSIC/fused/00023.png' -> '/content/SVHN-edges/train/01/00023.png'\n",
            "renamed '/content/DexiNed/result/BIPED2CLASSIC/fused/00024.png' -> '/content/SVHN-edges/train/01/00024.png'\n",
            "renamed '/content/DexiNed/result/BIPED2CLASSIC/fused/00025.png' -> '/content/SVHN-edges/train/01/00025.png'\n",
            "renamed '/content/DexiNed/result/BIPED2CLASSIC/fused/00026.png' -> '/content/SVHN-edges/train/01/00026.png'\n",
            "renamed '/content/DexiNed/result/BIPED2CLASSIC/fused/00027.png' -> '/content/SVHN-edges/train/01/00027.png'\n",
            "renamed '/content/DexiNed/result/BIPED2CLASSIC/fused/00028.png' -> '/content/SVHN-edges/train/01/00028.png'\n",
            "renamed '/content/DexiNed/result/BIPED2CLASSIC/fused/00029.png' -> '/content/SVHN-edges/train/01/00029.png'\n",
            "renamed '/content/DexiNed/result/BIPED2CLASSIC/fused/00030.png' -> '/content/SVHN-edges/train/01/00030.png'\n",
            "renamed '/content/DexiNed/result/BIPED2CLASSIC/fused/00031.png' -> '/content/SVHN-edges/train/01/00031.png'\n",
            "renamed '/content/DexiNed/result/BIPED2CLASSIC/fused/00032.png' -> '/content/SVHN-edges/train/01/00032.png'\n",
            "renamed '/content/DexiNed/result/BIPED2CLASSIC/fused/00033.png' -> '/content/SVHN-edges/train/01/00033.png'\n",
            "renamed '/content/DexiNed/result/BIPED2CLASSIC/fused/00034.png' -> '/content/SVHN-edges/train/01/00034.png'\n",
            "renamed '/content/DexiNed/result/BIPED2CLASSIC/fused/00035.png' -> '/content/SVHN-edges/train/01/00035.png'\n",
            "renamed '/content/DexiNed/result/BIPED2CLASSIC/fused/00036.png' -> '/content/SVHN-edges/train/01/00036.png'\n",
            "renamed '/content/DexiNed/result/BIPED2CLASSIC/fused/00037.png' -> '/content/SVHN-edges/train/01/00037.png'\n",
            "renamed '/content/DexiNed/result/BIPED2CLASSIC/fused/00038.png' -> '/content/SVHN-edges/train/01/00038.png'\n",
            "renamed '/content/DexiNed/result/BIPED2CLASSIC/fused/00039.png' -> '/content/SVHN-edges/train/01/00039.png'\n",
            "renamed '/content/DexiNed/result/BIPED2CLASSIC/fused/00040.png' -> '/content/SVHN-edges/train/01/00040.png'\n",
            "renamed '/content/DexiNed/result/BIPED2CLASSIC/fused/00041.png' -> '/content/SVHN-edges/train/01/00041.png'\n",
            "renamed '/content/DexiNed/result/BIPED2CLASSIC/fused/00042.png' -> '/content/SVHN-edges/train/01/00042.png'\n",
            "renamed '/content/DexiNed/result/BIPED2CLASSIC/fused/00043.png' -> '/content/SVHN-edges/train/01/00043.png'\n",
            "renamed '/content/DexiNed/result/BIPED2CLASSIC/fused/00044.png' -> '/content/SVHN-edges/train/01/00044.png'\n",
            "renamed '/content/DexiNed/result/BIPED2CLASSIC/fused/00045.png' -> '/content/SVHN-edges/train/01/00045.png'\n",
            "renamed '/content/DexiNed/result/BIPED2CLASSIC/fused/00046.png' -> '/content/SVHN-edges/train/01/00046.png'\n",
            "renamed '/content/DexiNed/result/BIPED2CLASSIC/fused/00047.png' -> '/content/SVHN-edges/train/01/00047.png'\n",
            "renamed '/content/DexiNed/result/BIPED2CLASSIC/fused/00048.png' -> '/content/SVHN-edges/train/01/00048.png'\n",
            "renamed '/content/DexiNed/result/BIPED2CLASSIC/fused/00049.png' -> '/content/SVHN-edges/train/01/00049.png'\n",
            "renamed '/content/DexiNed/result/BIPED2CLASSIC/fused/00050.png' -> '/content/SVHN-edges/train/01/00050.png'\n",
            "renamed '/content/DexiNed/result/BIPED2CLASSIC/fused/00051.png' -> '/content/SVHN-edges/train/01/00051.png'\n",
            "renamed '/content/DexiNed/result/BIPED2CLASSIC/fused/00052.png' -> '/content/SVHN-edges/train/01/00052.png'\n",
            "renamed '/content/DexiNed/result/BIPED2CLASSIC/fused/00053.png' -> '/content/SVHN-edges/train/01/00053.png'\n",
            "renamed '/content/DexiNed/result/BIPED2CLASSIC/fused/00054.png' -> '/content/SVHN-edges/train/01/00054.png'\n",
            "renamed '/content/DexiNed/result/BIPED2CLASSIC/fused/00055.png' -> '/content/SVHN-edges/train/01/00055.png'\n",
            "renamed '/content/DexiNed/result/BIPED2CLASSIC/fused/00056.png' -> '/content/SVHN-edges/train/01/00056.png'\n",
            "renamed '/content/DexiNed/result/BIPED2CLASSIC/fused/00057.png' -> '/content/SVHN-edges/train/01/00057.png'\n",
            "renamed '/content/DexiNed/result/BIPED2CLASSIC/fused/00058.png' -> '/content/SVHN-edges/train/01/00058.png'\n",
            "renamed '/content/DexiNed/result/BIPED2CLASSIC/fused/00059.png' -> '/content/SVHN-edges/train/01/00059.png'\n",
            "renamed '/content/DexiNed/result/BIPED2CLASSIC/fused/00060.png' -> '/content/SVHN-edges/train/01/00060.png'\n",
            "renamed '/content/DexiNed/result/BIPED2CLASSIC/fused/00061.png' -> '/content/SVHN-edges/train/01/00061.png'\n",
            "renamed '/content/DexiNed/result/BIPED2CLASSIC/fused/00062.png' -> '/content/SVHN-edges/train/01/00062.png'\n",
            "renamed '/content/DexiNed/result/BIPED2CLASSIC/fused/00063.png' -> '/content/SVHN-edges/train/01/00063.png'\n",
            "renamed '/content/DexiNed/result/BIPED2CLASSIC/fused/00064.png' -> '/content/SVHN-edges/train/01/00064.png'\n",
            "renamed '/content/DexiNed/result/BIPED2CLASSIC/fused/00065.png' -> '/content/SVHN-edges/train/01/00065.png'\n",
            "renamed '/content/DexiNed/result/BIPED2CLASSIC/fused/00066.png' -> '/content/SVHN-edges/train/01/00066.png'\n",
            "renamed '/content/DexiNed/result/BIPED2CLASSIC/fused/00067.png' -> '/content/SVHN-edges/train/01/00067.png'\n",
            "renamed '/content/DexiNed/result/BIPED2CLASSIC/fused/00068.png' -> '/content/SVHN-edges/train/01/00068.png'\n",
            "renamed '/content/DexiNed/result/BIPED2CLASSIC/fused/00069.png' -> '/content/SVHN-edges/train/01/00069.png'\n",
            "renamed '/content/DexiNed/result/BIPED2CLASSIC/fused/00070.png' -> '/content/SVHN-edges/train/01/00070.png'\n",
            "renamed '/content/DexiNed/result/BIPED2CLASSIC/fused/00071.png' -> '/content/SVHN-edges/train/01/00071.png'\n",
            "renamed '/content/DexiNed/result/BIPED2CLASSIC/fused/00072.png' -> '/content/SVHN-edges/train/01/00072.png'\n",
            "renamed '/content/DexiNed/result/BIPED2CLASSIC/fused/00073.png' -> '/content/SVHN-edges/train/01/00073.png'\n",
            "renamed '/content/DexiNed/result/BIPED2CLASSIC/fused/00074.png' -> '/content/SVHN-edges/train/01/00074.png'\n",
            "renamed '/content/DexiNed/result/BIPED2CLASSIC/fused/00075.png' -> '/content/SVHN-edges/train/01/00075.png'\n",
            "renamed '/content/DexiNed/result/BIPED2CLASSIC/fused/00076.png' -> '/content/SVHN-edges/train/01/00076.png'\n",
            "renamed '/content/DexiNed/result/BIPED2CLASSIC/fused/00077.png' -> '/content/SVHN-edges/train/01/00077.png'\n",
            "renamed '/content/DexiNed/result/BIPED2CLASSIC/fused/00078.png' -> '/content/SVHN-edges/train/01/00078.png'\n",
            "renamed '/content/DexiNed/result/BIPED2CLASSIC/fused/00079.png' -> '/content/SVHN-edges/train/01/00079.png'\n",
            "renamed '/content/DexiNed/result/BIPED2CLASSIC/fused/00080.png' -> '/content/SVHN-edges/train/01/00080.png'\n",
            "renamed '/content/DexiNed/result/BIPED2CLASSIC/fused/00081.png' -> '/content/SVHN-edges/train/01/00081.png'\n",
            "renamed '/content/DexiNed/result/BIPED2CLASSIC/fused/00082.png' -> '/content/SVHN-edges/train/01/00082.png'\n",
            "renamed '/content/DexiNed/result/BIPED2CLASSIC/fused/00083.png' -> '/content/SVHN-edges/train/01/00083.png'\n",
            "renamed '/content/DexiNed/result/BIPED2CLASSIC/fused/00084.png' -> '/content/SVHN-edges/train/01/00084.png'\n",
            "renamed '/content/DexiNed/result/BIPED2CLASSIC/fused/00085.png' -> '/content/SVHN-edges/train/01/00085.png'\n",
            "renamed '/content/DexiNed/result/BIPED2CLASSIC/fused/00086.png' -> '/content/SVHN-edges/train/01/00086.png'\n",
            "renamed '/content/DexiNed/result/BIPED2CLASSIC/fused/00087.png' -> '/content/SVHN-edges/train/01/00087.png'\n",
            "renamed '/content/DexiNed/result/BIPED2CLASSIC/fused/00088.png' -> '/content/SVHN-edges/train/01/00088.png'\n",
            "renamed '/content/DexiNed/result/BIPED2CLASSIC/fused/00089.png' -> '/content/SVHN-edges/train/01/00089.png'\n",
            "renamed '/content/DexiNed/result/BIPED2CLASSIC/fused/00090.png' -> '/content/SVHN-edges/train/01/00090.png'\n",
            "renamed '/content/DexiNed/result/BIPED2CLASSIC/fused/00091.png' -> '/content/SVHN-edges/train/01/00091.png'\n",
            "renamed '/content/DexiNed/result/BIPED2CLASSIC/fused/00092.png' -> '/content/SVHN-edges/train/01/00092.png'\n",
            "renamed '/content/DexiNed/result/BIPED2CLASSIC/fused/00093.png' -> '/content/SVHN-edges/train/01/00093.png'\n",
            "renamed '/content/DexiNed/result/BIPED2CLASSIC/fused/00094.png' -> '/content/SVHN-edges/train/01/00094.png'\n",
            "renamed '/content/DexiNed/result/BIPED2CLASSIC/fused/00095.png' -> '/content/SVHN-edges/train/01/00095.png'\n",
            "renamed '/content/DexiNed/result/BIPED2CLASSIC/fused/00096.png' -> '/content/SVHN-edges/train/01/00096.png'\n",
            "renamed '/content/DexiNed/result/BIPED2CLASSIC/fused/00097.png' -> '/content/SVHN-edges/train/01/00097.png'\n",
            "renamed '/content/DexiNed/result/BIPED2CLASSIC/fused/00098.png' -> '/content/SVHN-edges/train/01/00098.png'\n",
            "renamed '/content/DexiNed/result/BIPED2CLASSIC/fused/00099.png' -> '/content/SVHN-edges/train/01/00099.png'\n",
            "01\n"
          ]
        },
        {
          "output_type": "execute_result",
          "data": {
            "text/plain": [
              ""
            ]
          },
          "metadata": {},
          "execution_count": 10
        }
      ]
    },
    {
      "cell_type": "markdown",
      "source": [
        "# Edges and Edge-enhanced Images \n",
        "\n",
        "\n",
        "\n"
      ],
      "metadata": {
        "id": "yfoGjBYdIDA9"
      }
    },
    {
      "cell_type": "code",
      "source": [
        "import matplotlib.pyplot as plt\n",
        "import numpy as np\n",
        "import os\n",
        "import cv2\n",
        "from natsort import natsorted as nsort\n",
        "%matplotlib inline"
      ],
      "metadata": {
        "id": "DgMZqUZBIBBZ"
      },
      "execution_count": null,
      "outputs": []
    },
    {
      "cell_type": "code",
      "source": [
        "#combined example\n",
        "images_path = nsort([image for image in os.listdir(os.path.join('SVHN-edges','train','01')) if image.startswith('0')])\n",
        "input_path = nsort([image for image in os.listdir(os.path.join('SVHN-images','train','01')) if image.startswith('0')])\n",
        "\n",
        "\n",
        "fig = plt.figure(figsize=(10,2))\n",
        "\n",
        "# setting values to rows and column variables\n",
        "rows = 3\n",
        "columns = 20\n",
        "\n",
        "for i in range(columns):\n",
        "  fig.add_subplot(rows, columns, i+1)\n",
        "  image = cv2.imread(os.path.join(os.path.join('SVHN-images','train','01',input_path[i])))\n",
        "  plt.imshow(image)\n",
        "  plt.axis('off')\n",
        "  \n",
        "#edges\n",
        "for i in range(columns, 2*columns):\n",
        "  fig.add_subplot(rows, columns, i+1)\n",
        "  image = cv2.imread(os.path.join(os.path.join('SVHN-edges','train','01',images_path[i-columns])))\n",
        "  plt.imshow(image)\n",
        "  plt.axis('off')\n",
        "\n",
        "# edge enhanced images\n",
        "for i in range(2*columns, 3*columns):\n",
        "  fig.add_subplot(rows, columns, i+1)\n",
        "  original = cv2.imread(os.path.join(os.path.join('SVHN-images','train','01',input_path[i-2*columns])))\n",
        "  edges = cv2.imread(os.path.join(os.path.join('SVHN-edges','train','01',images_path[i-2*columns])))\n",
        "  img2 = original.copy()\n",
        "  img2[edges[:,:,0] <= 200] = [0, 0, 0]  \n",
        "  plt.imshow(img2)\n",
        "  plt.axis('off')\n",
        "\n"
      ],
      "metadata": {
        "colab": {
          "base_uri": "https://localhost:8080/",
          "height": 131
        },
        "id": "OJyqDEYxJBN0",
        "outputId": "0064dbdc-9700-4266-a4f3-5a22bf622098"
      },
      "execution_count": null,
      "outputs": [
        {
          "output_type": "display_data",
          "data": {
            "image/png": "[encoded data removed]",
            "text/plain": [
              "<Figure size 720x144 with 60 Axes>"
            ]
          },
          "metadata": {
            "needs_background": "light"
          }
        }
      ]
    },
    {
      "cell_type": "markdown",
      "source": [
        "##Individual Exapmles"
      ],
      "metadata": {
        "id": "Xpzet0wlHjvc"
      }
    },
    {
      "cell_type": "code",
      "source": [
        "#Original image\n",
        "img = cv2.imread(os.path.join(os.path.join('SVHN-images','train','01',input_path[18])))  # creat RGB image from grayscale\n",
        "plt.imshow(img)\n"
      ],
      "metadata": {
        "colab": {
          "base_uri": "https://localhost:8080/",
          "height": 282
        },
        "id": "wdiZsoJVThVi",
        "outputId": "e6c92244-37a2-473e-aa05-66c6423528cd"
      },
      "execution_count": null,
      "outputs": [
        {
          "output_type": "execute_result",
          "data": {
            "text/plain": [
              "<matplotlib.image.AxesImage at 0x7f62bd3d1210>"
            ]
          },
          "metadata": {},
          "execution_count": 13
        },
        {
          "output_type": "display_data",
          "data": {
            "image/png": "[encoded data removed]",
            "text/plain": [
              "<Figure size 432x288 with 1 Axes>"
            ]
          },
          "metadata": {
            "needs_background": "light"
          }
        }
      ]
    },
    {
      "cell_type": "code",
      "source": [
        "#detected edge\n",
        "edges = cv2.imread(os.path.join(os.path.join('SVHN-edges','train','01',images_path[18])))\n",
        "plt.imshow(edges)"
      ],
      "metadata": {
        "colab": {
          "base_uri": "https://localhost:8080/",
          "height": 282
        },
        "id": "HwszXZM0HwpE",
        "outputId": "7e98b8b0-e95e-4965-b2e6-1861fd47fb53"
      },
      "execution_count": null,
      "outputs": [
        {
          "output_type": "execute_result",
          "data": {
            "text/plain": [
              "<matplotlib.image.AxesImage at 0x7f62bd360ad0>"
            ]
          },
          "metadata": {},
          "execution_count": 14
        },
        {
          "output_type": "display_data",
          "data": {
            "image/png": "[encoded data removed]",
            "text/plain": [
              "<Figure size 432x288 with 1 Axes>"
            ]
          },
          "metadata": {
            "needs_background": "light"
          }
        }
      ]
    },
    {
      "cell_type": "code",
      "source": [
        "#Edge-enhanced image\n",
        "img2 = img.copy()\n",
        "img2[edges[:,:,0] <= 200] = [0, 0, 0]  \n",
        "plt.imshow(img2)"
      ],
      "metadata": {
        "colab": {
          "base_uri": "https://localhost:8080/",
          "height": 282
        },
        "id": "g9qEiSJiH9VJ",
        "outputId": "cc93a3c2-c6e8-4c22-987d-9b0ac5b64213"
      },
      "execution_count": null,
      "outputs": [
        {
          "output_type": "execute_result",
          "data": {
            "text/plain": [
              "<matplotlib.image.AxesImage at 0x7f62bd303f90>"
            ]
          },
          "metadata": {},
          "execution_count": 15
        },
        {
          "output_type": "display_data",
          "data": {
            "image/png": "[encoded data removed]",
            "text/plain": [
              "<Figure size 432x288 with 1 Axes>"
            ]
          },
          "metadata": {
            "needs_background": "light"
          }
        }
      ]
    },
    {
      "cell_type": "code",
      "source": [
        "#another example\n",
        "img = cv2.imread(os.path.join(os.path.join('SVHN-images','train','01',input_path[19])))\n",
        "edges = cv2.imread(os.path.join(os.path.join('SVHN-edges','train','01',images_path[19])))\n",
        "img2 = img.copy()\n",
        "img2[edges[:,:,0] <= 200] = [0, 0, 0]  \n",
        "plt.imshow(img2)"
      ],
      "metadata": {
        "colab": {
          "base_uri": "https://localhost:8080/",
          "height": 282
        },
        "id": "b5Nx6mwhIjZ3",
        "outputId": "0dc73198-78f5-420e-8c1a-e57d46bacd91"
      },
      "execution_count": null,
      "outputs": [
        {
          "output_type": "execute_result",
          "data": {
            "text/plain": [
              "<matplotlib.image.AxesImage at 0x7f62bd23c810>"
            ]
          },
          "metadata": {},
          "execution_count": 16
        },
        {
          "output_type": "display_data",
          "data": {
            "image/png": "[encoded data removed]",
            "text/plain": [
              "<Figure size 432x288 with 1 Axes>"
            ]
          },
          "metadata": {
            "needs_background": "light"
          }
        }
      ]
    },
    {
      "cell_type": "markdown",
      "source": [
        "##Saving edge enhanced images for further problems"
      ],
      "metadata": {
        "id": "EQXgX5H7aqeB"
      }
    },
    {
      "cell_type": "code",
      "source": [
        "%mkdir -p /content/SVHN-enhanced/train/\n",
        "\n",
        "data_dir1 = '/content/SVHN-images/'\n",
        "data_dir2 = '/content/SVHN-edges/'\n",
        "\n",
        "#print(os.listdir(data_dir))\n",
        "classes = os.listdir(data_dir1 + \"/train\")\n",
        "print(classes)"
      ],
      "metadata": {
        "id": "AY61XA2fdOsx",
        "colab": {
          "base_uri": "https://localhost:8080/"
        },
        "outputId": "a3ffef6b-9bb2-4b82-a9e6-9c2129dcb777"
      },
      "execution_count": null,
      "outputs": [
        {
          "output_type": "stream",
          "name": "stdout",
          "text": [
            "['01']\n"
          ]
        }
      ]
    },
    {
      "cell_type": "code",
      "source": [
        "for x in classes:\n",
        "  path = os.path.join('SVHN-enhanced', 'train', x)\n",
        "  os.mkdir(path)\n",
        "\n",
        "  images_path = nsort([image for image in os.listdir(os.path.join('SVHN-edges','train',x))])\n",
        "  input_path = nsort([image for image in os.listdir(os.path.join('SVHN-images','train',x))])\n",
        "\n",
        "  \n",
        "  for i in range(len(images_path)):\n",
        "    original = cv2.imread(os.path.join(os.path.join('SVHN-images', 'train', x, input_path[i])))\n",
        "   \n",
        "    edges = cv2.imread(os.path.join(os.path.join('SVHN-edges', 'train', x, images_path[i])))\n",
        "    img2 = original.copy()\n",
        "    img2[edges[:,:,0] <= 200] = [0, 0, 0]  \n",
        "    cv2.imwrite(os.path.join(path, images_path[i]), img2)\n",
        "  "
      ],
      "metadata": {
        "id": "ETgC-4nja35e"
      },
      "execution_count": null,
      "outputs": []
    },
    {
      "cell_type": "code",
      "source": [
        "%mkdir -p /content/SVHN-enhanced/test/\n",
        "\n",
        "data_dir1 = '/content/SVHN-images/'\n",
        "data_dir2 = '/content/SVHN-edges/'\n",
        "\n",
        "#print(os.listdir(data_dir))\n",
        "classes = os.listdir(data_dir1 + \"/test\")\n",
        "print(classes)"
      ],
      "metadata": {
        "colab": {
          "base_uri": "https://localhost:8080/"
        },
        "outputId": "38b37b75-a086-4c8c-f84a-facb10e2c49a",
        "id": "v08SA2qqJw-X"
      },
      "execution_count": null,
      "outputs": [
        {
          "output_type": "stream",
          "name": "stdout",
          "text": [
            "['01']\n"
          ]
        }
      ]
    },
    {
      "cell_type": "code",
      "source": [
        "for x in classes:\n",
        "  path = os.path.join('SVHN-enhanced', 'test', x)\n",
        "  os.mkdir(path)\n",
        "\n",
        "  images_path = nsort([image for image in os.listdir(os.path.join('SVHN-edges','test',x))])\n",
        "  input_path = nsort([image for image in os.listdir(os.path.join('SVHN-images','test',x))])\n",
        "\n",
        "  \n",
        "  for i in range(len(images_path)):\n",
        "    original = cv2.imread(os.path.join(os.path.join('SVHN-images', 'test', x, input_path[i])))\n",
        "  \n",
        "    edges = cv2.imread(os.path.join(os.path.join('SVHN-edges', 'test', x, images_path[i])))\n",
        "    img2 = original.copy()\n",
        "    img2[edges[:,:,0] <= 200] = [0, 0, 0]  \n",
        "    cv2.imwrite(os.path.join(path, images_path[i]), img2)\n",
        "  "
      ],
      "metadata": {
        "id": "2b-baphvJw-Y"
      },
      "execution_count": null,
      "outputs": []
    },
    {
      "cell_type": "markdown",
      "source": [
        "#Problem 6"
      ],
      "metadata": {
        "id": "AarLnBMJdlWn"
      }
    },
    {
      "cell_type": "code",
      "source": [
        "import os\n",
        "import torch\n",
        "import torchvision\n",
        "import tarfile\n",
        "import torch.nn as nn\n",
        "import numpy as np\n",
        "import torch.nn.functional as F\n",
        "from torchvision.datasets.utils import download_url\n",
        "from torchvision.datasets import ImageFolder\n",
        "from torch.utils.data import DataLoader\n",
        "import torchvision.transforms as tt\n",
        "from torch.utils.data import random_split\n",
        "from torchvision.utils import make_grid\n",
        "import matplotlib.pyplot as plt\n",
        "%matplotlib inline"
      ],
      "metadata": {
        "id": "0KbWF0g6k4Wf"
      },
      "execution_count": null,
      "outputs": []
    },
    {
      "cell_type": "code",
      "source": [
        "# Look into the data directory\n",
        "data_dir = '/content/SVHN-edges'\n",
        "print(os.listdir(data_dir))\n",
        "classes = os.listdir(data_dir + \"/train\")\n",
        "print(classes)"
      ],
      "metadata": {
        "id": "vhkZPlWLtjfk"
      },
      "execution_count": null,
      "outputs": []
    },
    {
      "cell_type": "code",
      "source": [
        "# Data transforms (normalization & data augmentation)\n",
        "stats = ((0.4914, 0.4822, 0.4465), (0.2023, 0.1994, 0.2010))\n",
        "train_tfms = tt.Compose([tt.RandomCrop(32, padding=4, padding_mode='reflect'), \n",
        "                         tt.RandomHorizontalFlip(), \n",
        "                         tt.ToTensor(), \n",
        "                         tt.Normalize(*stats,inplace=True)])\n",
        "valid_tfms = tt.Compose([tt.ToTensor(), tt.Normalize(*stats)])\n",
        "\n",
        "# PyTorch datasets\n",
        "train_ds = ImageFolder(data_dir+'/train', train_tfms)\n",
        "valid_ds = ImageFolder(data_dir+'/test', valid_tfms)\n",
        "\n",
        "batch_size = 400\n",
        "\n",
        "# PyTorch data loaders\n",
        "train_dl = DataLoader(train_ds, batch_size, shuffle=True, num_workers=2, pin_memory=True)\n",
        "valid_dl = DataLoader(valid_ds, batch_size*2, num_workers=2, pin_memory=True)\n",
        "\n"
      ],
      "metadata": {
        "id": "tAQdlePBt_DR"
      },
      "execution_count": null,
      "outputs": []
    },
    {
      "cell_type": "code",
      "source": [
        "def get_default_device():\n",
        "    \"\"\"Pick GPU if available, else CPU\"\"\"\n",
        "    if torch.cuda.is_available():\n",
        "        return torch.device('cuda')\n",
        "    else:\n",
        "        return torch.device('cpu')\n",
        "    \n",
        "def to_device(data, device):\n",
        "    \"\"\"Move tensor(s) to chosen device\"\"\"\n",
        "    if isinstance(data, (list,tuple)):\n",
        "        return [to_device(x, device) for x in data]\n",
        "    return data.to(device, non_blocking=True)\n",
        "\n",
        "class DeviceDataLoader():\n",
        "    \"\"\"Wrap a dataloader to move data to a device\"\"\"\n",
        "    def __init__(self, dl, device):\n",
        "        self.dl = dl\n",
        "        self.device = device\n",
        "        \n",
        "    def __iter__(self):\n",
        "        \"\"\"Yield a batch of data after moving it to device\"\"\"\n",
        "        for b in self.dl: \n",
        "            yield to_device(b, self.device)\n",
        "\n",
        "    def __len__(self):\n",
        "        \"\"\"Number of batches\"\"\"\n",
        "        return len(self.dl)"
      ],
      "metadata": {
        "id": "UACoGzg5udLu"
      },
      "execution_count": null,
      "outputs": []
    },
    {
      "cell_type": "code",
      "source": [
        "device = get_default_device()\n",
        "device"
      ],
      "metadata": {
        "colab": {
          "base_uri": "https://localhost:8080/"
        },
        "id": "aDBI06rEugU1",
        "outputId": "3cfca9aa-243a-4ebd-96c7-e897192c3f02"
      },
      "execution_count": null,
      "outputs": [
        {
          "output_type": "execute_result",
          "data": {
            "text/plain": [
              "device(type='cuda')"
            ]
          },
          "metadata": {},
          "execution_count": 46
        }
      ]
    },
    {
      "cell_type": "code",
      "source": [
        "train_dl = DeviceDataLoader(train_dl, device)\n",
        "valid_dl = DeviceDataLoader(valid_dl, device)\n",
        "\n",
        "class SimpleResidualBlock(nn.Module):\n",
        "    def __init__(self):\n",
        "        super().__init__()\n",
        "        self.conv1 = nn.Conv2d(in_channels=3, out_channels=3, kernel_size=3, stride=1, padding=1)\n",
        "        self.relu1 = nn.ReLU()\n",
        "        self.conv2 = nn.Conv2d(in_channels=3, out_channels=3, kernel_size=3, stride=1, padding=1)\n",
        "        self.relu2 = nn.ReLU()\n",
        "        \n",
        "    def forward(self, x):\n",
        "        out = self.conv1(x)\n",
        "        out = self.relu1(out)\n",
        "        out = self.conv2(out)\n",
        "        return self.relu2(out) + x # ReLU can be applied before or after adding the input\n",
        "\n",
        "simple_resnet = to_device(SimpleResidualBlock(), device)\n",
        "\n",
        "for images, labels in train_dl:\n",
        "    out = simple_resnet(images)\n",
        "    print(out.shape)\n",
        "    break\n",
        "    \n",
        "del simple_resnet, images, labels\n",
        "torch.cuda.empty_cache()"
      ],
      "metadata": {
        "colab": {
          "base_uri": "https://localhost:8080/"
        },
        "id": "F4sQ6zIzuj3d",
        "outputId": "d51a3260-7d6e-4af8-f992-692ede3ade92"
      },
      "execution_count": null,
      "outputs": [
        {
          "output_type": "stream",
          "name": "stdout",
          "text": [
            "torch.Size([100, 3, 32, 32])\n"
          ]
        }
      ]
    },
    {
      "cell_type": "code",
      "source": [
        "def accuracy(outputs, labels):\n",
        "    _, preds = torch.max(outputs, dim=1)\n",
        "    return torch.tensor(torch.sum(preds == labels).item() / len(preds))\n",
        "\n",
        "class ImageClassificationBase(nn.Module):\n",
        "    def training_step(self, batch):\n",
        "        images, labels = batch \n",
        "        out = self(images)                  # Generate predictions\n",
        "        loss = F.cross_entropy(out, labels) # Calculate loss\n",
        "        return loss\n",
        "    \n",
        "    def validation_step(self, batch):\n",
        "        images, labels = batch \n",
        "        out = self(images)                    # Generate predictions\n",
        "        loss = F.cross_entropy(out, labels)   # Calculate loss\n",
        "        acc = accuracy(out, labels)           # Calculate accuracy\n",
        "        return {'val_loss': loss.detach(), 'val_acc': acc}\n",
        "        \n",
        "    def validation_epoch_end(self, outputs):\n",
        "        batch_losses = [x['val_loss'] for x in outputs]\n",
        "        epoch_loss = torch.stack(batch_losses).mean()   # Combine losses\n",
        "        batch_accs = [x['val_acc'] for x in outputs]\n",
        "        epoch_acc = torch.stack(batch_accs).mean()      # Combine accuracies\n",
        "        return {'val_loss': epoch_loss.item(), 'val_acc': epoch_acc.item()}\n",
        "    \n",
        "    def epoch_end(self, epoch, result):\n",
        "        print(\"Epoch [{}], last_lr: {:.5f}, train_loss: {:.4f}, val_loss: {:.4f}, val_acc: {:.4f}\".format(\n",
        "            epoch, result['lrs'][-1], result['train_loss'], result['val_loss'], result['val_acc']))"
      ],
      "metadata": {
        "id": "mwuNnygduwRT"
      },
      "execution_count": null,
      "outputs": []
    },
    {
      "cell_type": "code",
      "source": [
        "def conv_block(in_channels, out_channels, pool=False):\n",
        "    layers = [nn.Conv2d(in_channels, out_channels, kernel_size=3, padding=1), \n",
        "              nn.BatchNorm2d(out_channels), \n",
        "              nn.ReLU(inplace=True)]\n",
        "    if pool: layers.append(nn.MaxPool2d(2))\n",
        "    return nn.Sequential(*layers)\n",
        "\n",
        "class ResNet9(ImageClassificationBase):\n",
        "    def __init__(self, in_channels, num_classes):\n",
        "        super().__init__()\n",
        "        \n",
        "        self.conv1 = conv_block(in_channels, 64)\n",
        "        self.conv2 = conv_block(64, 128, pool=True)\n",
        "        self.res1 = nn.Sequential(conv_block(128, 128), conv_block(128, 128))\n",
        "        \n",
        "        self.conv3 = conv_block(128, 256, pool=True)\n",
        "        self.conv4 = conv_block(256, 512, pool=True)\n",
        "        self.res2 = nn.Sequential(conv_block(512, 512), conv_block(512, 512))\n",
        "        \n",
        "        self.classifier = nn.Sequential(nn.MaxPool2d(4), \n",
        "                                        nn.Flatten(), \n",
        "                                        nn.Linear(512, num_classes))\n",
        "        \n",
        "    def forward(self, xb):\n",
        "        out = self.conv1(xb)\n",
        "        out = self.conv2(out)\n",
        "        out = self.res1(out) + out\n",
        "        out = self.conv3(out)\n",
        "        out = self.conv4(out)\n",
        "        out = self.res2(out) + out\n",
        "        out = self.classifier(out)\n",
        "        return out\n"
      ],
      "metadata": {
        "id": "AXKgvoHGu0BT"
      },
      "execution_count": null,
      "outputs": []
    },
    {
      "cell_type": "code",
      "source": [
        "model = to_device(ResNet9(3, 10), device)\n",
        "model"
      ],
      "metadata": {
        "colab": {
          "base_uri": "https://localhost:8080/"
        },
        "id": "62EacN5Vu1OK",
        "outputId": "5a3daf6a-c772-486c-bdd7-d7e726049e6c"
      },
      "execution_count": null,
      "outputs": [
        {
          "output_type": "execute_result",
          "data": {
            "text/plain": [
              "ResNet9(\n",
              "  (conv1): Sequential(\n",
              "    (0): Conv2d(3, 64, kernel_size=(3, 3), stride=(1, 1), padding=(1, 1))\n",
              "    (1): BatchNorm2d(64, eps=1e-05, momentum=0.1, affine=True, track_running_stats=True)\n",
              "    (2): ReLU(inplace=True)\n",
              "  )\n",
              "  (conv2): Sequential(\n",
              "    (0): Conv2d(64, 128, kernel_size=(3, 3), stride=(1, 1), padding=(1, 1))\n",
              "    (1): BatchNorm2d(128, eps=1e-05, momentum=0.1, affine=True, track_running_stats=True)\n",
              "    (2): ReLU(inplace=True)\n",
              "    (3): MaxPool2d(kernel_size=2, stride=2, padding=0, dilation=1, ceil_mode=False)\n",
              "  )\n",
              "  (res1): Sequential(\n",
              "    (0): Sequential(\n",
              "      (0): Conv2d(128, 128, kernel_size=(3, 3), stride=(1, 1), padding=(1, 1))\n",
              "      (1): BatchNorm2d(128, eps=1e-05, momentum=0.1, affine=True, track_running_stats=True)\n",
              "      (2): ReLU(inplace=True)\n",
              "    )\n",
              "    (1): Sequential(\n",
              "      (0): Conv2d(128, 128, kernel_size=(3, 3), stride=(1, 1), padding=(1, 1))\n",
              "      (1): BatchNorm2d(128, eps=1e-05, momentum=0.1, affine=True, track_running_stats=True)\n",
              "      (2): ReLU(inplace=True)\n",
              "    )\n",
              "  )\n",
              "  (conv3): Sequential(\n",
              "    (0): Conv2d(128, 256, kernel_size=(3, 3), stride=(1, 1), padding=(1, 1))\n",
              "    (1): BatchNorm2d(256, eps=1e-05, momentum=0.1, affine=True, track_running_stats=True)\n",
              "    (2): ReLU(inplace=True)\n",
              "    (3): MaxPool2d(kernel_size=2, stride=2, padding=0, dilation=1, ceil_mode=False)\n",
              "  )\n",
              "  (conv4): Sequential(\n",
              "    (0): Conv2d(256, 512, kernel_size=(3, 3), stride=(1, 1), padding=(1, 1))\n",
              "    (1): BatchNorm2d(512, eps=1e-05, momentum=0.1, affine=True, track_running_stats=True)\n",
              "    (2): ReLU(inplace=True)\n",
              "    (3): MaxPool2d(kernel_size=2, stride=2, padding=0, dilation=1, ceil_mode=False)\n",
              "  )\n",
              "  (res2): Sequential(\n",
              "    (0): Sequential(\n",
              "      (0): Conv2d(512, 512, kernel_size=(3, 3), stride=(1, 1), padding=(1, 1))\n",
              "      (1): BatchNorm2d(512, eps=1e-05, momentum=0.1, affine=True, track_running_stats=True)\n",
              "      (2): ReLU(inplace=True)\n",
              "    )\n",
              "    (1): Sequential(\n",
              "      (0): Conv2d(512, 512, kernel_size=(3, 3), stride=(1, 1), padding=(1, 1))\n",
              "      (1): BatchNorm2d(512, eps=1e-05, momentum=0.1, affine=True, track_running_stats=True)\n",
              "      (2): ReLU(inplace=True)\n",
              "    )\n",
              "  )\n",
              "  (classifier): Sequential(\n",
              "    (0): MaxPool2d(kernel_size=4, stride=4, padding=0, dilation=1, ceil_mode=False)\n",
              "    (1): Flatten(start_dim=1, end_dim=-1)\n",
              "    (2): Linear(in_features=512, out_features=10, bias=True)\n",
              "  )\n",
              ")"
            ]
          },
          "metadata": {},
          "execution_count": 50
        }
      ]
    },
    {
      "cell_type": "code",
      "source": [
        "@torch.no_grad()\n",
        "def evaluate(model, val_loader):\n",
        "    model.eval()\n",
        "    outputs = [model.validation_step(batch) for batch in val_loader]\n",
        "    return model.validation_epoch_end(outputs)\n",
        "\n",
        "def get_lr(optimizer):\n",
        "    for param_group in optimizer.param_groups:\n",
        "        return param_group['lr']\n",
        "\n",
        "def fit_one_cycle(epochs, max_lr, model, train_loader, val_loader, \n",
        "                  weight_decay=0, grad_clip=None, opt_func=torch.optim.SGD):\n",
        "    torch.cuda.empty_cache()\n",
        "    history = []\n",
        "    \n",
        "    # Set up cutom optimizer with weight decay\n",
        "    optimizer = opt_func(model.parameters(), max_lr, weight_decay=weight_decay)\n",
        "    # Set up one-cycle learning rate scheduler\n",
        "    sched = torch.optim.lr_scheduler.OneCycleLR(optimizer, max_lr, epochs=epochs, \n",
        "                                                steps_per_epoch=len(train_loader))\n",
        "    \n",
        "    for epoch in range(epochs):\n",
        "        # Training Phase \n",
        "        model.train()\n",
        "        train_losses = []\n",
        "        lrs = []\n",
        "        for batch in train_loader:\n",
        "            loss = model.training_step(batch)\n",
        "            train_losses.append(loss)\n",
        "            loss.backward()\n",
        "            \n",
        "            # Gradient clipping\n",
        "            if grad_clip: \n",
        "                nn.utils.clip_grad_value_(model.parameters(), grad_clip)\n",
        "            \n",
        "            optimizer.step()\n",
        "            optimizer.zero_grad()\n",
        "            \n",
        "            # Record & update learning rate\n",
        "            lrs.append(get_lr(optimizer))\n",
        "            sched.step()\n",
        "        \n",
        "        # Validation phase\n",
        "        result = evaluate(model, val_loader)\n",
        "        result['train_loss'] = torch.stack(train_losses).mean().item()\n",
        "        result['lrs'] = lrs\n",
        "        model.epoch_end(epoch, result)\n",
        "        history.append(result)\n",
        "    return history\n",
        "\n",
        "history = [evaluate(model, valid_dl)]\n",
        "history"
      ],
      "metadata": {
        "colab": {
          "base_uri": "https://localhost:8080/"
        },
        "id": "M2EcaWYyu779",
        "outputId": "0229ce39-6451-4d30-f6bb-48a14346cef6"
      },
      "execution_count": null,
      "outputs": [
        {
          "output_type": "execute_result",
          "data": {
            "text/plain": [
              "[{'val_acc': 0.0, 'val_loss': 2.5569000244140625}]"
            ]
          },
          "metadata": {},
          "execution_count": 51
        }
      ]
    },
    {
      "cell_type": "code",
      "source": [
        "epochs = 30\n",
        "max_lr = 0.01\n",
        "grad_clip = 0.1\n",
        "weight_decay = 1e-4\n",
        "opt_func = torch.optim.Adam"
      ],
      "metadata": {
        "id": "L2xdFBn5vBXZ"
      },
      "execution_count": null,
      "outputs": []
    },
    {
      "cell_type": "code",
      "source": [
        "%%time\n",
        "history += fit_one_cycle(epochs, max_lr, model, train_dl, valid_dl, \n",
        "                             grad_clip=grad_clip, \n",
        "                             weight_decay=weight_decay, \n",
        "                             opt_func=opt_func)"
      ],
      "metadata": {
        "colab": {
          "base_uri": "https://localhost:8080/"
        },
        "id": "iHyrYpZBvFzB",
        "outputId": "15b03914-0440-4da0-8386-5385323a43ab"
      },
      "execution_count": null,
      "outputs": [
        {
          "output_type": "stream",
          "name": "stdout",
          "text": [
            "Epoch [0], last_lr: 0.00066, train_loss: 0.1314, val_loss: 0.7736, val_acc: 0.7663\n",
            "Epoch [1], last_lr: 0.00147, train_loss: 0.1244, val_loss: 0.8020, val_acc: 0.7663\n",
            "Epoch [2], last_lr: 0.00274, train_loss: 0.1482, val_loss: 0.9684, val_acc: 0.7387\n",
            "Epoch [3], last_lr: 0.00430, train_loss: 0.2340, val_loss: 2.6384, val_acc: 0.5394\n",
            "Epoch [4], last_lr: 0.00598, train_loss: 0.4934, val_loss: 1.8701, val_acc: 0.5569\n",
            "Epoch [5], last_lr: 0.00757, train_loss: 0.6579, val_loss: 1.3654, val_acc: 0.6350\n",
            "Epoch [6], last_lr: 0.00886, train_loss: 0.6669, val_loss: 2.7925, val_acc: 0.5294\n",
            "Epoch [7], last_lr: 0.00971, train_loss: 0.6654, val_loss: 2.1612, val_acc: 0.5087\n",
            "Epoch [8], last_lr: 0.01000, train_loss: 0.7168, val_loss: 3.1856, val_acc: 0.3888\n",
            "Epoch [9], last_lr: 0.00994, train_loss: 0.6962, val_loss: 3.9033, val_acc: 0.4081\n",
            "Epoch [10], last_lr: 0.00978, train_loss: 0.7557, val_loss: 1.4562, val_acc: 0.6125\n",
            "Epoch [11], last_lr: 0.00950, train_loss: 0.5648, val_loss: 1.1589, val_acc: 0.6931\n",
            "Epoch [12], last_lr: 0.00913, train_loss: 0.4552, val_loss: 1.8464, val_acc: 0.5450\n",
            "Epoch [13], last_lr: 0.00867, train_loss: 0.3659, val_loss: 1.1429, val_acc: 0.6788\n",
            "Epoch [14], last_lr: 0.00812, train_loss: 0.3116, val_loss: 0.8990, val_acc: 0.7400\n",
            "Epoch [15], last_lr: 0.00750, train_loss: 0.2671, val_loss: 0.9335, val_acc: 0.7356\n",
            "Epoch [16], last_lr: 0.00683, train_loss: 0.2210, val_loss: 1.2339, val_acc: 0.6925\n",
            "Epoch [17], last_lr: 0.00611, train_loss: 0.1877, val_loss: 1.2279, val_acc: 0.6700\n",
            "Epoch [18], last_lr: 0.00537, train_loss: 0.1789, val_loss: 1.0425, val_acc: 0.7419\n",
            "Epoch [19], last_lr: 0.00463, train_loss: 0.1530, val_loss: 0.8062, val_acc: 0.7631\n",
            "Epoch [20], last_lr: 0.00389, train_loss: 0.1213, val_loss: 0.8658, val_acc: 0.7437\n",
            "Epoch [21], last_lr: 0.00317, train_loss: 0.0820, val_loss: 0.8587, val_acc: 0.7731\n",
            "Epoch [22], last_lr: 0.00250, train_loss: 0.0626, val_loss: 0.7833, val_acc: 0.7756\n",
            "Epoch [23], last_lr: 0.00188, train_loss: 0.0466, val_loss: 0.8753, val_acc: 0.7694\n",
            "Epoch [24], last_lr: 0.00133, train_loss: 0.0360, val_loss: 0.8079, val_acc: 0.7831\n",
            "Epoch [25], last_lr: 0.00087, train_loss: 0.0305, val_loss: 0.8207, val_acc: 0.7812\n",
            "Epoch [26], last_lr: 0.00050, train_loss: 0.0268, val_loss: 0.8446, val_acc: 0.7825\n",
            "Epoch [27], last_lr: 0.00022, train_loss: 0.0216, val_loss: 0.8547, val_acc: 0.7844\n",
            "Epoch [28], last_lr: 0.00006, train_loss: 0.0214, val_loss: 0.8517, val_acc: 0.7837\n",
            "Epoch [29], last_lr: 0.00000, train_loss: 0.0207, val_loss: 0.8498, val_acc: 0.7850\n",
            "CPU times: user 2min 12s, sys: 1min 50s, total: 4min 3s\n",
            "Wall time: 5min 9s\n"
          ]
        }
      ]
    },
    {
      "cell_type": "markdown",
      "source": [
        "#Problem 7\n"
      ],
      "metadata": {
        "id": "NekHQhjlF13D"
      }
    },
    {
      "cell_type": "code",
      "source": [
        "import os\n",
        "import torch\n",
        "import torchvision\n",
        "import tarfile\n",
        "import torch.nn as nn\n",
        "import numpy as np\n",
        "import torch.nn.functional as F\n",
        "from torchvision.datasets.utils import download_url\n",
        "from torchvision.datasets import ImageFolder\n",
        "from torch.utils.data import DataLoader\n",
        "import torchvision.transforms as tt\n",
        "from torch.utils.data import random_split\n",
        "from torchvision.utils import make_grid\n",
        "import matplotlib.pyplot as plt\n",
        "%matplotlib inline"
      ],
      "metadata": {
        "id": "e_NCkcDNF6nY"
      },
      "execution_count": null,
      "outputs": []
    },
    {
      "cell_type": "code",
      "source": [
        "# Look into the data directory\n",
        "data_dir = '/content/SVHN-enhanced'\n",
        "print(os.listdir(data_dir))\n",
        "classes = os.listdir(data_dir + \"/train\")\n",
        "print(classes)"
      ],
      "metadata": {
        "id": "ultvFOs7F6nY"
      },
      "execution_count": null,
      "outputs": []
    },
    {
      "cell_type": "code",
      "source": [
        "# Data transforms (normalization & data augmentation)\n",
        "stats = ((0.4914, 0.4822, 0.4465), (0.2023, 0.1994, 0.2010))\n",
        "train_tfms = tt.Compose([tt.RandomCrop(32, padding=4, padding_mode='reflect'), \n",
        "                         tt.RandomHorizontalFlip(), \n",
        "                         tt.ToTensor(), \n",
        "                         tt.Normalize(*stats,inplace=True)])\n",
        "valid_tfms = tt.Compose([tt.ToTensor(), tt.Normalize(*stats)])\n",
        "\n",
        "# PyTorch datasets\n",
        "train_ds = ImageFolder(data_dir+'/train', train_tfms)\n",
        "valid_ds = ImageFolder(data_dir+'/test', valid_tfms)\n",
        "\n",
        "batch_size = 400\n",
        "\n",
        "# PyTorch data loaders\n",
        "train_dl = DataLoader(train_ds, batch_size, shuffle=True, num_workers=2, pin_memory=True)\n",
        "valid_dl = DataLoader(valid_ds, batch_size*2, num_workers=2, pin_memory=True)\n",
        "\n"
      ],
      "metadata": {
        "id": "Yf4eY-MnF6nZ"
      },
      "execution_count": null,
      "outputs": []
    },
    {
      "cell_type": "code",
      "source": [
        "def get_default_device():\n",
        "    \"\"\"Pick GPU if available, else CPU\"\"\"\n",
        "    if torch.cuda.is_available():\n",
        "        return torch.device('cuda')\n",
        "    else:\n",
        "        return torch.device('cpu')\n",
        "    \n",
        "def to_device(data, device):\n",
        "    \"\"\"Move tensor(s) to chosen device\"\"\"\n",
        "    if isinstance(data, (list,tuple)):\n",
        "        return [to_device(x, device) for x in data]\n",
        "    return data.to(device, non_blocking=True)\n",
        "\n",
        "class DeviceDataLoader():\n",
        "    \"\"\"Wrap a dataloader to move data to a device\"\"\"\n",
        "    def __init__(self, dl, device):\n",
        "        self.dl = dl\n",
        "        self.device = device\n",
        "        \n",
        "    def __iter__(self):\n",
        "        \"\"\"Yield a batch of data after moving it to device\"\"\"\n",
        "        for b in self.dl: \n",
        "            yield to_device(b, self.device)\n",
        "\n",
        "    def __len__(self):\n",
        "        \"\"\"Number of batches\"\"\"\n",
        "        return len(self.dl)"
      ],
      "metadata": {
        "id": "TfzOcwX3F6na"
      },
      "execution_count": null,
      "outputs": []
    },
    {
      "cell_type": "code",
      "source": [
        "device = get_default_device()\n",
        "device"
      ],
      "metadata": {
        "colab": {
          "base_uri": "https://localhost:8080/"
        },
        "outputId": "f3c31313-40b0-4c52-d916-15aa91473a78",
        "id": "-HTYjxjEF6na"
      },
      "execution_count": null,
      "outputs": [
        {
          "output_type": "execute_result",
          "data": {
            "text/plain": [
              "device(type='cuda')"
            ]
          },
          "metadata": {},
          "execution_count": 121
        }
      ]
    },
    {
      "cell_type": "code",
      "source": [
        "train_dl = DeviceDataLoader(train_dl, device)\n",
        "valid_dl = DeviceDataLoader(valid_dl, device)\n",
        "\n",
        "class SimpleResidualBlock(nn.Module):\n",
        "    def __init__(self):\n",
        "        super().__init__()\n",
        "        self.conv1 = nn.Conv2d(in_channels=3, out_channels=3, kernel_size=3, stride=1, padding=1)\n",
        "        self.relu1 = nn.ReLU()\n",
        "        self.conv2 = nn.Conv2d(in_channels=3, out_channels=3, kernel_size=3, stride=1, padding=1)\n",
        "        self.relu2 = nn.ReLU()\n",
        "        \n",
        "    def forward(self, x):\n",
        "        out = self.conv1(x)\n",
        "        out = self.relu1(out)\n",
        "        out = self.conv2(out)\n",
        "        return self.relu2(out) + x # ReLU can be applied before or after adding the input\n",
        "\n",
        "simple_resnet = to_device(SimpleResidualBlock(), device)\n",
        "\n",
        "for images, labels in train_dl:\n",
        "    out = simple_resnet(images)\n",
        "    print(out.shape)\n",
        "    break\n",
        "    \n",
        "del simple_resnet, images, labels\n",
        "torch.cuda.empty_cache()"
      ],
      "metadata": {
        "colab": {
          "base_uri": "https://localhost:8080/"
        },
        "outputId": "e0e738ca-aeda-4afb-8550-463e7f3aec9d",
        "id": "Sv-1RvGxF6nb"
      },
      "execution_count": null,
      "outputs": [
        {
          "output_type": "stream",
          "name": "stdout",
          "text": [
            "torch.Size([400, 3, 32, 32])\n"
          ]
        }
      ]
    },
    {
      "cell_type": "code",
      "source": [
        "def accuracy(outputs, labels):\n",
        "    _, preds = torch.max(outputs, dim=1)\n",
        "    return torch.tensor(torch.sum(preds == labels).item() / len(preds))\n",
        "\n",
        "class ImageClassificationBase(nn.Module):\n",
        "    def training_step(self, batch):\n",
        "        images, labels = batch \n",
        "        out = self(images)                  # Generate predictions\n",
        "        loss = F.cross_entropy(out, labels) # Calculate loss\n",
        "        return loss\n",
        "    \n",
        "    def validation_step(self, batch):\n",
        "        images, labels = batch \n",
        "        out = self(images)                    # Generate predictions\n",
        "        loss = F.cross_entropy(out, labels)   # Calculate loss\n",
        "        acc = accuracy(out, labels)           # Calculate accuracy\n",
        "        return {'val_loss': loss.detach(), 'val_acc': acc}\n",
        "        \n",
        "    def validation_epoch_end(self, outputs):\n",
        "        batch_losses = [x['val_loss'] for x in outputs]\n",
        "        epoch_loss = torch.stack(batch_losses).mean()   # Combine losses\n",
        "        batch_accs = [x['val_acc'] for x in outputs]\n",
        "        epoch_acc = torch.stack(batch_accs).mean()      # Combine accuracies\n",
        "        return {'val_loss': epoch_loss.item(), 'val_acc': epoch_acc.item()}\n",
        "    \n",
        "    def epoch_end(self, epoch, result):\n",
        "        print(\"Epoch [{}], last_lr: {:.5f}, train_loss: {:.4f}, val_loss: {:.4f}, val_acc: {:.4f}\".format(\n",
        "            epoch, result['lrs'][-1], result['train_loss'], result['val_loss'], result['val_acc']))"
      ],
      "metadata": {
        "id": "NSM1M6YCF6nc"
      },
      "execution_count": null,
      "outputs": []
    },
    {
      "cell_type": "code",
      "source": [
        "def conv_block(in_channels, out_channels, pool=False):\n",
        "    layers = [nn.Conv2d(in_channels, out_channels, kernel_size=3, padding=1), \n",
        "              nn.BatchNorm2d(out_channels), \n",
        "              nn.ReLU(inplace=True)]\n",
        "    if pool: layers.append(nn.MaxPool2d(2))\n",
        "    return nn.Sequential(*layers)\n",
        "\n",
        "class ResNet9(ImageClassificationBase):\n",
        "    def __init__(self, in_channels, num_classes):\n",
        "        super().__init__()\n",
        "        \n",
        "        self.conv1 = conv_block(in_channels, 64)\n",
        "        self.conv2 = conv_block(64, 128, pool=True)\n",
        "        self.res1 = nn.Sequential(conv_block(128, 128), conv_block(128, 128))\n",
        "        \n",
        "        self.conv3 = conv_block(128, 256, pool=True)\n",
        "        self.conv4 = conv_block(256, 512, pool=True)\n",
        "        self.res2 = nn.Sequential(conv_block(512, 512), conv_block(512, 512))\n",
        "        \n",
        "        self.classifier = nn.Sequential(nn.MaxPool2d(4), \n",
        "                                        nn.Flatten(), \n",
        "                                        nn.Linear(512, num_classes))\n",
        "        \n",
        "    def forward(self, xb):\n",
        "        out = self.conv1(xb)\n",
        "        out = self.conv2(out)\n",
        "        out = self.res1(out) + out\n",
        "        out = self.conv3(out)\n",
        "        out = self.conv4(out)\n",
        "        out = self.res2(out) + out\n",
        "        out = self.classifier(out)\n",
        "        return out\n"
      ],
      "metadata": {
        "id": "Rhm6osJGF6nc"
      },
      "execution_count": null,
      "outputs": []
    },
    {
      "cell_type": "code",
      "source": [
        "model = to_device(ResNet9(3, 10), device)\n",
        "model"
      ],
      "metadata": {
        "colab": {
          "base_uri": "https://localhost:8080/"
        },
        "outputId": "8884f0a2-5229-41b6-8d34-31cf74a728a0",
        "id": "IyxNnDsZF6nd"
      },
      "execution_count": null,
      "outputs": [
        {
          "output_type": "execute_result",
          "data": {
            "text/plain": [
              "ResNet9(\n",
              "  (conv1): Sequential(\n",
              "    (0): Conv2d(3, 64, kernel_size=(3, 3), stride=(1, 1), padding=(1, 1))\n",
              "    (1): BatchNorm2d(64, eps=1e-05, momentum=0.1, affine=True, track_running_stats=True)\n",
              "    (2): ReLU(inplace=True)\n",
              "  )\n",
              "  (conv2): Sequential(\n",
              "    (0): Conv2d(64, 128, kernel_size=(3, 3), stride=(1, 1), padding=(1, 1))\n",
              "    (1): BatchNorm2d(128, eps=1e-05, momentum=0.1, affine=True, track_running_stats=True)\n",
              "    (2): ReLU(inplace=True)\n",
              "    (3): MaxPool2d(kernel_size=2, stride=2, padding=0, dilation=1, ceil_mode=False)\n",
              "  )\n",
              "  (res1): Sequential(\n",
              "    (0): Sequential(\n",
              "      (0): Conv2d(128, 128, kernel_size=(3, 3), stride=(1, 1), padding=(1, 1))\n",
              "      (1): BatchNorm2d(128, eps=1e-05, momentum=0.1, affine=True, track_running_stats=True)\n",
              "      (2): ReLU(inplace=True)\n",
              "    )\n",
              "    (1): Sequential(\n",
              "      (0): Conv2d(128, 128, kernel_size=(3, 3), stride=(1, 1), padding=(1, 1))\n",
              "      (1): BatchNorm2d(128, eps=1e-05, momentum=0.1, affine=True, track_running_stats=True)\n",
              "      (2): ReLU(inplace=True)\n",
              "    )\n",
              "  )\n",
              "  (conv3): Sequential(\n",
              "    (0): Conv2d(128, 256, kernel_size=(3, 3), stride=(1, 1), padding=(1, 1))\n",
              "    (1): BatchNorm2d(256, eps=1e-05, momentum=0.1, affine=True, track_running_stats=True)\n",
              "    (2): ReLU(inplace=True)\n",
              "    (3): MaxPool2d(kernel_size=2, stride=2, padding=0, dilation=1, ceil_mode=False)\n",
              "  )\n",
              "  (conv4): Sequential(\n",
              "    (0): Conv2d(256, 512, kernel_size=(3, 3), stride=(1, 1), padding=(1, 1))\n",
              "    (1): BatchNorm2d(512, eps=1e-05, momentum=0.1, affine=True, track_running_stats=True)\n",
              "    (2): ReLU(inplace=True)\n",
              "    (3): MaxPool2d(kernel_size=2, stride=2, padding=0, dilation=1, ceil_mode=False)\n",
              "  )\n",
              "  (res2): Sequential(\n",
              "    (0): Sequential(\n",
              "      (0): Conv2d(512, 512, kernel_size=(3, 3), stride=(1, 1), padding=(1, 1))\n",
              "      (1): BatchNorm2d(512, eps=1e-05, momentum=0.1, affine=True, track_running_stats=True)\n",
              "      (2): ReLU(inplace=True)\n",
              "    )\n",
              "    (1): Sequential(\n",
              "      (0): Conv2d(512, 512, kernel_size=(3, 3), stride=(1, 1), padding=(1, 1))\n",
              "      (1): BatchNorm2d(512, eps=1e-05, momentum=0.1, affine=True, track_running_stats=True)\n",
              "      (2): ReLU(inplace=True)\n",
              "    )\n",
              "  )\n",
              "  (classifier): Sequential(\n",
              "    (0): MaxPool2d(kernel_size=4, stride=4, padding=0, dilation=1, ceil_mode=False)\n",
              "    (1): Flatten(start_dim=1, end_dim=-1)\n",
              "    (2): Linear(in_features=512, out_features=10, bias=True)\n",
              "  )\n",
              ")"
            ]
          },
          "metadata": {},
          "execution_count": 125
        }
      ]
    },
    {
      "cell_type": "code",
      "source": [
        "@torch.no_grad()\n",
        "def evaluate(model, val_loader):\n",
        "    model.eval()\n",
        "    outputs = [model.validation_step(batch) for batch in val_loader]\n",
        "    return model.validation_epoch_end(outputs)\n",
        "\n",
        "def get_lr(optimizer):\n",
        "    for param_group in optimizer.param_groups:\n",
        "        return param_group['lr']\n",
        "\n",
        "def fit_one_cycle(epochs, max_lr, model, train_loader, val_loader, \n",
        "                  weight_decay=0, grad_clip=None, opt_func=torch.optim.SGD):\n",
        "    torch.cuda.empty_cache()\n",
        "    history = []\n",
        "    \n",
        "    # Set up cutom optimizer with weight decay\n",
        "    optimizer = opt_func(model.parameters(), max_lr, weight_decay=weight_decay)\n",
        "    # Set up one-cycle learning rate scheduler\n",
        "    sched = torch.optim.lr_scheduler.OneCycleLR(optimizer, max_lr, epochs=epochs, \n",
        "                                                steps_per_epoch=len(train_loader))\n",
        "    \n",
        "    for epoch in range(epochs):\n",
        "        # Training Phase \n",
        "        model.train()\n",
        "        train_losses = []\n",
        "        lrs = []\n",
        "        for batch in train_loader:\n",
        "            loss = model.training_step(batch)\n",
        "            train_losses.append(loss)\n",
        "            loss.backward()\n",
        "            \n",
        "            # Gradient clipping\n",
        "            if grad_clip: \n",
        "                nn.utils.clip_grad_value_(model.parameters(), grad_clip)\n",
        "            \n",
        "            optimizer.step()\n",
        "            optimizer.zero_grad()\n",
        "            \n",
        "            # Record & update learning rate\n",
        "            lrs.append(get_lr(optimizer))\n",
        "            sched.step()\n",
        "        \n",
        "        # Validation phase\n",
        "        result = evaluate(model, val_loader)\n",
        "        result['train_loss'] = torch.stack(train_losses).mean().item()\n",
        "        result['lrs'] = lrs\n",
        "        model.epoch_end(epoch, result)\n",
        "        history.append(result)\n",
        "    return history\n",
        "\n",
        "history = [evaluate(model, valid_dl)]\n",
        "history"
      ],
      "metadata": {
        "colab": {
          "base_uri": "https://localhost:8080/"
        },
        "outputId": "d73b66a6-3e99-4158-db99-36bd1ac3f2c4",
        "id": "W9N2O9G7F6nd"
      },
      "execution_count": null,
      "outputs": [
        {
          "output_type": "execute_result",
          "data": {
            "text/plain": [
              "[{'val_acc': 0.0625, 'val_loss': 2.329768180847168}]"
            ]
          },
          "metadata": {},
          "execution_count": 126
        }
      ]
    },
    {
      "cell_type": "code",
      "source": [
        "epochs = 30\n",
        "max_lr = 0.01\n",
        "grad_clip = 0.1\n",
        "weight_decay = 1e-4\n",
        "opt_func = torch.optim.Adam"
      ],
      "metadata": {
        "id": "MN9gICAsF6ne"
      },
      "execution_count": null,
      "outputs": []
    },
    {
      "cell_type": "code",
      "source": [
        "%%time\n",
        "history += fit_one_cycle(epochs, max_lr, model, train_dl, valid_dl, \n",
        "                             grad_clip=grad_clip, \n",
        "                             weight_decay=weight_decay, \n",
        "                             opt_func=opt_func)"
      ],
      "metadata": {
        "colab": {
          "base_uri": "https://localhost:8080/"
        },
        "outputId": "ba8029b8-f846-4c67-dc43-7c322cc380f4",
        "id": "4UAMIDHbF6ne"
      },
      "execution_count": null,
      "outputs": [
        {
          "output_type": "stream",
          "name": "stdout",
          "text": [
            "Epoch [0], last_lr: 0.00066, train_loss: 1.0868, val_loss: 1.0563, val_acc: 0.6225\n",
            "Epoch [1], last_lr: 0.00147, train_loss: 1.0371, val_loss: 1.2217, val_acc: 0.5638\n",
            "Epoch [2], last_lr: 0.00274, train_loss: 1.0088, val_loss: 1.2669, val_acc: 0.5881\n",
            "Epoch [3], last_lr: 0.00430, train_loss: 1.0364, val_loss: 1.6740, val_acc: 0.5256\n",
            "Epoch [4], last_lr: 0.00598, train_loss: 1.1114, val_loss: 2.3463, val_acc: 0.3925\n",
            "Epoch [5], last_lr: 0.00757, train_loss: 1.2472, val_loss: 1.8541, val_acc: 0.5137\n",
            "Epoch [6], last_lr: 0.00886, train_loss: 1.3280, val_loss: 2.5516, val_acc: 0.4556\n",
            "Epoch [7], last_lr: 0.00971, train_loss: 1.3048, val_loss: 1.6481, val_acc: 0.4350\n",
            "Epoch [8], last_lr: 0.01000, train_loss: 1.1036, val_loss: 1.3297, val_acc: 0.5531\n",
            "Epoch [9], last_lr: 0.00994, train_loss: 1.1446, val_loss: 1.9190, val_acc: 0.4762\n",
            "Epoch [10], last_lr: 0.00978, train_loss: 1.2708, val_loss: 1.0269, val_acc: 0.6569\n",
            "Epoch [11], last_lr: 0.00950, train_loss: 1.0058, val_loss: 0.9897, val_acc: 0.6594\n",
            "Epoch [12], last_lr: 0.00913, train_loss: 0.8779, val_loss: 1.2227, val_acc: 0.6106\n",
            "Epoch [13], last_lr: 0.00867, train_loss: 0.9364, val_loss: 2.1814, val_acc: 0.4888\n",
            "Epoch [14], last_lr: 0.00812, train_loss: 0.7789, val_loss: 1.0979, val_acc: 0.6419\n",
            "Epoch [15], last_lr: 0.00750, train_loss: 0.7067, val_loss: 1.4728, val_acc: 0.5244\n",
            "Epoch [16], last_lr: 0.00683, train_loss: 0.6803, val_loss: 1.1264, val_acc: 0.6313\n",
            "Epoch [17], last_lr: 0.00611, train_loss: 0.6254, val_loss: 0.8491, val_acc: 0.7050\n",
            "Epoch [18], last_lr: 0.00537, train_loss: 0.5321, val_loss: 0.8905, val_acc: 0.6938\n",
            "Epoch [19], last_lr: 0.00463, train_loss: 0.4740, val_loss: 0.8533, val_acc: 0.7081\n",
            "Epoch [20], last_lr: 0.00389, train_loss: 0.3989, val_loss: 0.7633, val_acc: 0.7681\n",
            "Epoch [21], last_lr: 0.00317, train_loss: 0.3613, val_loss: 0.8710, val_acc: 0.7163\n",
            "Epoch [22], last_lr: 0.00250, train_loss: 0.3058, val_loss: 0.7876, val_acc: 0.7687\n",
            "Epoch [23], last_lr: 0.00188, train_loss: 0.2303, val_loss: 0.7993, val_acc: 0.7487\n",
            "Epoch [24], last_lr: 0.00133, train_loss: 0.1942, val_loss: 0.6757, val_acc: 0.7844\n",
            "Epoch [25], last_lr: 0.00087, train_loss: 0.1646, val_loss: 0.7462, val_acc: 0.7575\n",
            "Epoch [26], last_lr: 0.00050, train_loss: 0.1375, val_loss: 0.7505, val_acc: 0.7675\n",
            "Epoch [27], last_lr: 0.00022, train_loss: 0.1259, val_loss: 0.7192, val_acc: 0.7931\n",
            "Epoch [28], last_lr: 0.00006, train_loss: 0.1156, val_loss: 0.7144, val_acc: 0.7938\n",
            "Epoch [29], last_lr: 0.00000, train_loss: 0.1094, val_loss: 0.7209, val_acc: 0.7894\n",
            "CPU times: user 2min 15s, sys: 1min 49s, total: 4min 4s\n",
            "Wall time: 5min 10s\n"
          ]
        }
      ]
    }
  ]
}