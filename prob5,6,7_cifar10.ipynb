{
  "nbformat": 4,
  "nbformat_minor": 0,
  "metadata": {
    "colab": {
      "provenance": [],
      "collapsed_sections": [
        "Zo8PnihtHfXC",
        "EQXgX5H7aqeB",
        "AarLnBMJdlWn",
        "NekHQhjlF13D"
      ]
    },
    "kernelspec": {
      "name": "python3",
      "display_name": "Python 3"
    },
    "language_info": {
      "name": "python"
    },
    "accelerator": "GPU"
  },
  "cells": [
    {
      "cell_type": "markdown",
      "source": [
        "#Problem 5"
      ],
      "metadata": {
        "id": "Zo8PnihtHfXC"
      }
    },
    {
      "cell_type": "code",
      "execution_count": null,
      "metadata": {
        "colab": {
          "base_uri": "https://localhost:8080/"
        },
        "id": "1ZIA1VgOdkQK",
        "outputId": "321e8bd7-6ab4-49b4-d9b3-8f5799652061"
      },
      "outputs": [
        {
          "output_type": "stream",
          "name": "stdout",
          "text": [
            "Cloning into 'DexiNed'...\n",
            "remote: Enumerating objects: 1051, done.\u001b[K\n",
            "remote: Counting objects: 100% (147/147), done.\u001b[K\n",
            "remote: Compressing objects: 100% (98/98), done.\u001b[K\n",
            "remote: Total 1051 (delta 87), reused 101 (delta 45), pack-reused 904\u001b[K\n",
            "Receiving objects: 100% (1051/1051), 158.92 MiB | 25.44 MiB/s, done.\n",
            "Resolving deltas: 100% (517/517), done.\n",
            "/content/DexiNed\n"
          ]
        }
      ],
      "source": [
        "#download the model\n",
        "!git clone https://github.com/xavysp/DexiNed.git\n",
        "%cd DexiNed"
      ]
    },
    {
      "cell_type": "code",
      "source": [
        "#check for graphics card\n",
        "!nvidia-smi"
      ],
      "metadata": {
        "colab": {
          "base_uri": "https://localhost:8080/"
        },
        "id": "pr34_SFWer8E",
        "outputId": "efb0a048-eb60-4d05-a3ba-c88fc889a4ec"
      },
      "execution_count": null,
      "outputs": [
        {
          "output_type": "stream",
          "name": "stdout",
          "text": [
            "Fri Dec 10 21:59:22 2021       \n",
            "+-----------------------------------------------------------------------------+\n",
            "| NVIDIA-SMI 495.44       Driver Version: 460.32.03    CUDA Version: 11.2     |\n",
            "|-------------------------------+----------------------+----------------------+\n",
            "| GPU  Name        Persistence-M| Bus-Id        Disp.A | Volatile Uncorr. ECC |\n",
            "| Fan  Temp  Perf  Pwr:Usage/Cap|         Memory-Usage | GPU-Util  Compute M. |\n",
            "|                               |                      |               MIG M. |\n",
            "|===============================+======================+======================|\n",
            "|   0  Tesla K80           Off  | 00000000:00:04.0 Off |                    0 |\n",
            "| N/A   39C    P8    26W / 149W |      0MiB / 11441MiB |      0%      Default |\n",
            "|                               |                      |                  N/A |\n",
            "+-------------------------------+----------------------+----------------------+\n",
            "                                                                               \n",
            "+-----------------------------------------------------------------------------+\n",
            "| Processes:                                                                  |\n",
            "|  GPU   GI   CI        PID   Type   Process name                  GPU Memory |\n",
            "|        ID   ID                                                   Usage      |\n",
            "|=============================================================================|\n",
            "|  No running processes found                                                 |\n",
            "+-----------------------------------------------------------------------------+\n"
          ]
        }
      ]
    },
    {
      "cell_type": "code",
      "source": [
        "!pip install kornia"
      ],
      "metadata": {
        "colab": {
          "base_uri": "https://localhost:8080/"
        },
        "id": "8mE28LwYiBw5",
        "outputId": "b62c6951-0f02-4a98-e2ac-2e22846d360c"
      },
      "execution_count": null,
      "outputs": [
        {
          "output_type": "stream",
          "name": "stdout",
          "text": [
            "Collecting kornia\n",
            "  Downloading kornia-0.6.2-py2.py3-none-any.whl (401 kB)\n",
            "\u001b[?25l\r\u001b[K     |▉                               | 10 kB 16.0 MB/s eta 0:00:01\r\u001b[K     |█▋                              | 20 kB 21.6 MB/s eta 0:00:01\r\u001b[K     |██▌                             | 30 kB 19.5 MB/s eta 0:00:01\r\u001b[K     |███▎                            | 40 kB 16.9 MB/s eta 0:00:01\r\u001b[K     |████                            | 51 kB 13.7 MB/s eta 0:00:01\r\u001b[K     |█████                           | 61 kB 12.2 MB/s eta 0:00:01\r\u001b[K     |█████▊                          | 71 kB 11.9 MB/s eta 0:00:01\r\u001b[K     |██████▌                         | 81 kB 13.0 MB/s eta 0:00:01\r\u001b[K     |███████▍                        | 92 kB 13.6 MB/s eta 0:00:01\r\u001b[K     |████████▏                       | 102 kB 12.5 MB/s eta 0:00:01\r\u001b[K     |█████████                       | 112 kB 12.5 MB/s eta 0:00:01\r\u001b[K     |█████████▉                      | 122 kB 12.5 MB/s eta 0:00:01\r\u001b[K     |██████████▋                     | 133 kB 12.5 MB/s eta 0:00:01\r\u001b[K     |███████████▍                    | 143 kB 12.5 MB/s eta 0:00:01\r\u001b[K     |████████████▎                   | 153 kB 12.5 MB/s eta 0:00:01\r\u001b[K     |█████████████                   | 163 kB 12.5 MB/s eta 0:00:01\r\u001b[K     |█████████████▉                  | 174 kB 12.5 MB/s eta 0:00:01\r\u001b[K     |██████████████▊                 | 184 kB 12.5 MB/s eta 0:00:01\r\u001b[K     |███████████████▌                | 194 kB 12.5 MB/s eta 0:00:01\r\u001b[K     |████████████████▍               | 204 kB 12.5 MB/s eta 0:00:01\r\u001b[K     |█████████████████▏              | 215 kB 12.5 MB/s eta 0:00:01\r\u001b[K     |██████████████████              | 225 kB 12.5 MB/s eta 0:00:01\r\u001b[K     |██████████████████▉             | 235 kB 12.5 MB/s eta 0:00:01\r\u001b[K     |███████████████████▋            | 245 kB 12.5 MB/s eta 0:00:01\r\u001b[K     |████████████████████▍           | 256 kB 12.5 MB/s eta 0:00:01\r\u001b[K     |█████████████████████▎          | 266 kB 12.5 MB/s eta 0:00:01\r\u001b[K     |██████████████████████          | 276 kB 12.5 MB/s eta 0:00:01\r\u001b[K     |██████████████████████▉         | 286 kB 12.5 MB/s eta 0:00:01\r\u001b[K     |███████████████████████▊        | 296 kB 12.5 MB/s eta 0:00:01\r\u001b[K     |████████████████████████▌       | 307 kB 12.5 MB/s eta 0:00:01\r\u001b[K     |█████████████████████████▎      | 317 kB 12.5 MB/s eta 0:00:01\r\u001b[K     |██████████████████████████▏     | 327 kB 12.5 MB/s eta 0:00:01\r\u001b[K     |███████████████████████████     | 337 kB 12.5 MB/s eta 0:00:01\r\u001b[K     |███████████████████████████▊    | 348 kB 12.5 MB/s eta 0:00:01\r\u001b[K     |████████████████████████████▋   | 358 kB 12.5 MB/s eta 0:00:01\r\u001b[K     |█████████████████████████████▍  | 368 kB 12.5 MB/s eta 0:00:01\r\u001b[K     |██████████████████████████████▎ | 378 kB 12.5 MB/s eta 0:00:01\r\u001b[K     |███████████████████████████████ | 389 kB 12.5 MB/s eta 0:00:01\r\u001b[K     |███████████████████████████████▉| 399 kB 12.5 MB/s eta 0:00:01\r\u001b[K     |████████████████████████████████| 401 kB 12.5 MB/s \n",
            "\u001b[?25hRequirement already satisfied: packaging in /usr/local/lib/python3.7/dist-packages (from kornia) (21.3)\n",
            "Requirement already satisfied: torch>=1.8.1 in /usr/local/lib/python3.7/dist-packages (from kornia) (1.10.0+cu111)\n",
            "Requirement already satisfied: typing-extensions in /usr/local/lib/python3.7/dist-packages (from torch>=1.8.1->kornia) (3.10.0.2)\n",
            "Requirement already satisfied: pyparsing!=3.0.5,>=2.0.2 in /usr/local/lib/python3.7/dist-packages (from packaging->kornia) (3.0.6)\n",
            "Installing collected packages: kornia\n",
            "Successfully installed kornia-0.6.2\n"
          ]
        }
      ]
    },
    {
      "cell_type": "code",
      "source": [
        "#downloading the pretrained weights\n",
        "!gdown --id 1V56vGTsu7GYiQouCIKvTWl5UKCZ6yCNu"
      ],
      "metadata": {
        "colab": {
          "base_uri": "https://localhost:8080/"
        },
        "id": "vHSdVQuenQjB",
        "outputId": "0d7e0eed-f85a-4690-f8a0-b25c891ebcb8"
      },
      "execution_count": null,
      "outputs": [
        {
          "output_type": "stream",
          "name": "stdout",
          "text": [
            "Downloading...\n",
            "From: https://drive.google.com/uc?id=1V56vGTsu7GYiQouCIKvTWl5UKCZ6yCNu\n",
            "To: /content/DexiNed/10_model.pth\n",
            "100% 141M/141M [00:01<00:00, 84.6MB/s]\n"
          ]
        }
      ]
    },
    {
      "cell_type": "code",
      "source": [
        "%mkdir -p checkpoints/BIPED/10\n",
        "%mv 10_model.pth checkpoints/BIPED/10/"
      ],
      "metadata": {
        "id": "g2MjnNLPndMM"
      },
      "execution_count": null,
      "outputs": []
    },
    {
      "cell_type": "markdown",
      "source": [
        "##CIFAR-10"
      ],
      "metadata": {
        "id": "LCyQnp8ft8NV"
      }
    },
    {
      "cell_type": "code",
      "source": [
        "#download the CIFAR-10 dataset\n",
        "%cd /content/\n",
        "!git clone https://github.com/YoongiKim/CIFAR-10-images.git"
      ],
      "metadata": {
        "colab": {
          "base_uri": "https://localhost:8080/"
        },
        "id": "N6Sk7M4ty94l",
        "outputId": "9a3d626f-9237-425e-c167-bca1dc194803"
      },
      "execution_count": null,
      "outputs": [
        {
          "output_type": "stream",
          "name": "stdout",
          "text": [
            "/content\n",
            "Cloning into 'CIFAR-10-images'...\n",
            "remote: Enumerating objects: 60027, done.\u001b[K\n",
            "remote: Total 60027 (delta 0), reused 0 (delta 0), pack-reused 60027\u001b[K\n",
            "Receiving objects: 100% (60027/60027), 19.94 MiB | 36.59 MiB/s, done.\n",
            "Resolving deltas: 100% (59990/59990), done.\n",
            "Checking out files: 100% (60001/60001), done.\n"
          ]
        }
      ]
    },
    {
      "cell_type": "code",
      "source": [
        "%rm -rf CIFAR-10-edges/"
      ],
      "metadata": {
        "id": "eGic0tjlg0zu"
      },
      "execution_count": null,
      "outputs": []
    },
    {
      "cell_type": "code",
      "source": [
        "%rm -rf DexiNed/data/*"
      ],
      "metadata": {
        "id": "P08kXWkrixiu"
      },
      "execution_count": null,
      "outputs": []
    },
    {
      "cell_type": "code",
      "source": [
        "%rm -rf /content/DexiNed/result/"
      ],
      "metadata": {
        "id": "ZAPUTKGEroqc"
      },
      "execution_count": null,
      "outputs": []
    },
    {
      "cell_type": "markdown",
      "source": [
        "Running edge detection on test dataset and storing the results"
      ],
      "metadata": {
        "id": "kZpNuho4k6sv"
      }
    },
    {
      "cell_type": "code",
      "source": [
        "%%shell\n",
        "cd /content/DexiNed/\n",
        "# data_dir = \"/content/CIFAR-10-images\"\n",
        "for dir in /content/CIFAR-10-images/test/*/    # list directories in the form \"/tmp/dirname/\"\n",
        "do\n",
        "    dir=${dir%*/}      # remove the trailing \"/\"\n",
        "    mkdir -p \"/content/CIFAR-10-edges/test/${dir##*/}\"\n",
        "\n",
        "    rm -rf /content/DexiNed/data/*\n",
        "    rm -rf /content/DexiNed/result/\n",
        "\n",
        "    cp -v `ls -d /content/CIFAR-10-images/test/${dir##*/}/* | head -100` /content/DexiNed/data\n",
        "\n",
        "    python /content/DexiNed/main.py --choose_test_data=-1\n",
        "\n",
        "    mv -v /content/DexiNed/result/BIPED2CLASSIC/fused/* /content/CIFAR-10-edges/test/${dir##*/}/\n",
        "    \n",
        "    echo \"${dir##*/}\"    # print everything after the final \"/\"\n",
        "done\n",
        "\n",
        "cd /content/"
      ],
      "metadata": {
        "colab": {
          "base_uri": "https://localhost:8080/",
          "height": 1000
        },
        "id": "MBLAqDbwfCln",
        "outputId": "c03413a8-212a-4f47-cfc8-a162d78d9809"
      },
      "execution_count": null,
      "outputs": [
        {
          "output_type": "stream",
          "name": "stdout",
          "text": [
            "'/content/CIFAR-10-images/test/airplane/0000.jpg' -> '/content/DexiNed/data/0000.jpg'\n",
            "'/content/CIFAR-10-images/test/airplane/0001.jpg' -> '/content/DexiNed/data/0001.jpg'\n",
            "'/content/CIFAR-10-images/test/airplane/0002.jpg' -> '/content/DexiNed/data/0002.jpg'\n",
            "'/content/CIFAR-10-images/test/airplane/0003.jpg' -> '/content/DexiNed/data/0003.jpg'\n",
            "'/content/CIFAR-10-images/test/airplane/0004.jpg' -> '/content/DexiNed/data/0004.jpg'\n",
            "'/content/CIFAR-10-images/test/airplane/0005.jpg' -> '/content/DexiNed/data/0005.jpg'\n",
            "'/content/CIFAR-10-images/test/airplane/0006.jpg' -> '/content/DexiNed/data/0006.jpg'\n",
            "'/content/CIFAR-10-images/test/airplane/0007.jpg' -> '/content/DexiNed/data/0007.jpg'\n",
            "'/content/CIFAR-10-images/test/airplane/0008.jpg' -> '/content/DexiNed/data/0008.jpg'\n",
            "'/content/CIFAR-10-images/test/airplane/0009.jpg' -> '/content/DexiNed/data/0009.jpg'\n",
            "'/content/CIFAR-10-images/test/airplane/0010.jpg' -> '/content/DexiNed/data/0010.jpg'\n",
            "'/content/CIFAR-10-images/test/airplane/0011.jpg' -> '/content/DexiNed/data/0011.jpg'\n",
            "'/content/CIFAR-10-images/test/airplane/0012.jpg' -> '/content/DexiNed/data/0012.jpg'\n",
            "'/content/CIFAR-10-images/test/airplane/0013.jpg' -> '/content/DexiNed/data/0013.jpg'\n",
            "'/content/CIFAR-10-images/test/airplane/0014.jpg' -> '/content/DexiNed/data/0014.jpg'\n",
            "'/content/CIFAR-10-images/test/airplane/0015.jpg' -> '/content/DexiNed/data/0015.jpg'\n",
            "'/content/CIFAR-10-images/test/airplane/0016.jpg' -> '/content/DexiNed/data/0016.jpg'\n",
            "'/content/CIFAR-10-images/test/airplane/0017.jpg' -> '/content/DexiNed/data/0017.jpg'\n",
            "'/content/CIFAR-10-images/test/airplane/0018.jpg' -> '/content/DexiNed/data/0018.jpg'\n",
            "'/content/CIFAR-10-images/test/airplane/0019.jpg' -> '/content/DexiNed/data/0019.jpg'\n",
            "'/content/CIFAR-10-images/test/airplane/0020.jpg' -> '/content/DexiNed/data/0020.jpg'\n",
            "'/content/CIFAR-10-images/test/airplane/0021.jpg' -> '/content/DexiNed/data/0021.jpg'\n",
            "'/content/CIFAR-10-images/test/airplane/0022.jpg' -> '/content/DexiNed/data/0022.jpg'\n",
            "'/content/CIFAR-10-images/test/airplane/0023.jpg' -> '/content/DexiNed/data/0023.jpg'\n",
            "'/content/CIFAR-10-images/test/airplane/0024.jpg' -> '/content/DexiNed/data/0024.jpg'\n",
            "'/content/CIFAR-10-images/test/airplane/0025.jpg' -> '/content/DexiNed/data/0025.jpg'\n",
            "'/content/CIFAR-10-images/test/airplane/0026.jpg' -> '/content/DexiNed/data/0026.jpg'\n",
            "'/content/CIFAR-10-images/test/airplane/0027.jpg' -> '/content/DexiNed/data/0027.jpg'\n",
            "'/content/CIFAR-10-images/test/airplane/0028.jpg' -> '/content/DexiNed/data/0028.jpg'\n",
            "'/content/CIFAR-10-images/test/airplane/0029.jpg' -> '/content/DexiNed/data/0029.jpg'\n",
            "'/content/CIFAR-10-images/test/airplane/0030.jpg' -> '/content/DexiNed/data/0030.jpg'\n",
            "'/content/CIFAR-10-images/test/airplane/0031.jpg' -> '/content/DexiNed/data/0031.jpg'\n",
            "'/content/CIFAR-10-images/test/airplane/0032.jpg' -> '/content/DexiNed/data/0032.jpg'\n",
            "'/content/CIFAR-10-images/test/airplane/0033.jpg' -> '/content/DexiNed/data/0033.jpg'\n",
            "'/content/CIFAR-10-images/test/airplane/0034.jpg' -> '/content/DexiNed/data/0034.jpg'\n",
            "'/content/CIFAR-10-images/test/airplane/0035.jpg' -> '/content/DexiNed/data/0035.jpg'\n",
            "'/content/CIFAR-10-images/test/airplane/0036.jpg' -> '/content/DexiNed/data/0036.jpg'\n",
            "'/content/CIFAR-10-images/test/airplane/0037.jpg' -> '/content/DexiNed/data/0037.jpg'\n",
            "'/content/CIFAR-10-images/test/airplane/0038.jpg' -> '/content/DexiNed/data/0038.jpg'\n",
            "'/content/CIFAR-10-images/test/airplane/0039.jpg' -> '/content/DexiNed/data/0039.jpg'\n",
            "'/content/CIFAR-10-images/test/airplane/0040.jpg' -> '/content/DexiNed/data/0040.jpg'\n",
            "'/content/CIFAR-10-images/test/airplane/0041.jpg' -> '/content/DexiNed/data/0041.jpg'\n",
            "'/content/CIFAR-10-images/test/airplane/0042.jpg' -> '/content/DexiNed/data/0042.jpg'\n",
            "'/content/CIFAR-10-images/test/airplane/0043.jpg' -> '/content/DexiNed/data/0043.jpg'\n",
            "'/content/CIFAR-10-images/test/airplane/0044.jpg' -> '/content/DexiNed/data/0044.jpg'\n",
            "'/content/CIFAR-10-images/test/airplane/0045.jpg' -> '/content/DexiNed/data/0045.jpg'\n",
            "'/content/CIFAR-10-images/test/airplane/0046.jpg' -> '/content/DexiNed/data/0046.jpg'\n",
            "'/content/CIFAR-10-images/test/airplane/0047.jpg' -> '/content/DexiNed/data/0047.jpg'\n",
            "'/content/CIFAR-10-images/test/airplane/0048.jpg' -> '/content/DexiNed/data/0048.jpg'\n",
            "'/content/CIFAR-10-images/test/airplane/0049.jpg' -> '/content/DexiNed/data/0049.jpg'\n",
            "'/content/CIFAR-10-images/test/airplane/0050.jpg' -> '/content/DexiNed/data/0050.jpg'\n",
            "'/content/CIFAR-10-images/test/airplane/0051.jpg' -> '/content/DexiNed/data/0051.jpg'\n",
            "'/content/CIFAR-10-images/test/airplane/0052.jpg' -> '/content/DexiNed/data/0052.jpg'\n",
            "'/content/CIFAR-10-images/test/airplane/0053.jpg' -> '/content/DexiNed/data/0053.jpg'\n",
            "'/content/CIFAR-10-images/test/airplane/0054.jpg' -> '/content/DexiNed/data/0054.jpg'\n",
            "'/content/CIFAR-10-images/test/airplane/0055.jpg' -> '/content/DexiNed/data/0055.jpg'\n",
            "'/content/CIFAR-10-images/test/airplane/0056.jpg' -> '/content/DexiNed/data/0056.jpg'\n",
            "'/content/CIFAR-10-images/test/airplane/0057.jpg' -> '/content/DexiNed/data/0057.jpg'\n",
            "'/content/CIFAR-10-images/test/airplane/0058.jpg' -> '/content/DexiNed/data/0058.jpg'\n",
            "'/content/CIFAR-10-images/test/airplane/0059.jpg' -> '/content/DexiNed/data/0059.jpg'\n",
            "'/content/CIFAR-10-images/test/airplane/0060.jpg' -> '/content/DexiNed/data/0060.jpg'\n",
            "'/content/CIFAR-10-images/test/airplane/0061.jpg' -> '/content/DexiNed/data/0061.jpg'\n",
            "'/content/CIFAR-10-images/test/airplane/0062.jpg' -> '/content/DexiNed/data/0062.jpg'\n",
            "'/content/CIFAR-10-images/test/airplane/0063.jpg' -> '/content/DexiNed/data/0063.jpg'\n",
            "'/content/CIFAR-10-images/test/airplane/0064.jpg' -> '/content/DexiNed/data/0064.jpg'\n",
            "'/content/CIFAR-10-images/test/airplane/0065.jpg' -> '/content/DexiNed/data/0065.jpg'\n",
            "'/content/CIFAR-10-images/test/airplane/0066.jpg' -> '/content/DexiNed/data/0066.jpg'\n",
            "'/content/CIFAR-10-images/test/airplane/0067.jpg' -> '/content/DexiNed/data/0067.jpg'\n",
            "'/content/CIFAR-10-images/test/airplane/0068.jpg' -> '/content/DexiNed/data/0068.jpg'\n",
            "'/content/CIFAR-10-images/test/airplane/0069.jpg' -> '/content/DexiNed/data/0069.jpg'\n",
            "'/content/CIFAR-10-images/test/airplane/0070.jpg' -> '/content/DexiNed/data/0070.jpg'\n",
            "'/content/CIFAR-10-images/test/airplane/0071.jpg' -> '/content/DexiNed/data/0071.jpg'\n",
            "'/content/CIFAR-10-images/test/airplane/0072.jpg' -> '/content/DexiNed/data/0072.jpg'\n",
            "'/content/CIFAR-10-images/test/airplane/0073.jpg' -> '/content/DexiNed/data/0073.jpg'\n",
            "'/content/CIFAR-10-images/test/airplane/0074.jpg' -> '/content/DexiNed/data/0074.jpg'\n",
            "'/content/CIFAR-10-images/test/airplane/0075.jpg' -> '/content/DexiNed/data/0075.jpg'\n",
            "'/content/CIFAR-10-images/test/airplane/0076.jpg' -> '/content/DexiNed/data/0076.jpg'\n",
            "'/content/CIFAR-10-images/test/airplane/0077.jpg' -> '/content/DexiNed/data/0077.jpg'\n",
            "'/content/CIFAR-10-images/test/airplane/0078.jpg' -> '/content/DexiNed/data/0078.jpg'\n",
            "'/content/CIFAR-10-images/test/airplane/0079.jpg' -> '/content/DexiNed/data/0079.jpg'\n",
            "'/content/CIFAR-10-images/test/airplane/0080.jpg' -> '/content/DexiNed/data/0080.jpg'\n",
            "'/content/CIFAR-10-images/test/airplane/0081.jpg' -> '/content/DexiNed/data/0081.jpg'\n",
            "'/content/CIFAR-10-images/test/airplane/0082.jpg' -> '/content/DexiNed/data/0082.jpg'\n",
            "'/content/CIFAR-10-images/test/airplane/0083.jpg' -> '/content/DexiNed/data/0083.jpg'\n",
            "'/content/CIFAR-10-images/test/airplane/0084.jpg' -> '/content/DexiNed/data/0084.jpg'\n",
            "'/content/CIFAR-10-images/test/airplane/0085.jpg' -> '/content/DexiNed/data/0085.jpg'\n",
            "'/content/CIFAR-10-images/test/airplane/0086.jpg' -> '/content/DexiNed/data/0086.jpg'\n",
            "'/content/CIFAR-10-images/test/airplane/0087.jpg' -> '/content/DexiNed/data/0087.jpg'\n",
            "'/content/CIFAR-10-images/test/airplane/0088.jpg' -> '/content/DexiNed/data/0088.jpg'\n",
            "'/content/CIFAR-10-images/test/airplane/0089.jpg' -> '/content/DexiNed/data/0089.jpg'\n",
            "'/content/CIFAR-10-images/test/airplane/0090.jpg' -> '/content/DexiNed/data/0090.jpg'\n",
            "'/content/CIFAR-10-images/test/airplane/0091.jpg' -> '/content/DexiNed/data/0091.jpg'\n",
            "'/content/CIFAR-10-images/test/airplane/0092.jpg' -> '/content/DexiNed/data/0092.jpg'\n",
            "'/content/CIFAR-10-images/test/airplane/0093.jpg' -> '/content/DexiNed/data/0093.jpg'\n",
            "'/content/CIFAR-10-images/test/airplane/0094.jpg' -> '/content/DexiNed/data/0094.jpg'\n",
            "'/content/CIFAR-10-images/test/airplane/0095.jpg' -> '/content/DexiNed/data/0095.jpg'\n",
            "'/content/CIFAR-10-images/test/airplane/0096.jpg' -> '/content/DexiNed/data/0096.jpg'\n",
            "'/content/CIFAR-10-images/test/airplane/0097.jpg' -> '/content/DexiNed/data/0097.jpg'\n",
            "'/content/CIFAR-10-images/test/airplane/0098.jpg' -> '/content/DexiNed/data/0098.jpg'\n",
            "'/content/CIFAR-10-images/test/airplane/0099.jpg' -> '/content/DexiNed/data/0099.jpg'\n",
            "Number of GPU's available: 1\n",
            "Pytorch version: 1.10.0+cu111\n",
            "mean_bgr: [103.939, 116.779, 123.68]\n",
            "/usr/local/lib/python3.7/dist-packages/torch/utils/data/dataloader.py:481: UserWarning: This DataLoader will create 16 worker processes in total. Our suggested max number of worker in current system is 2, which is smaller than what this DataLoader is going to create. Please be aware that excessive worker creation might get DataLoader running slow or even freeze, lower the worker number to avoid potential slowness/freeze if necessary.\n",
            "  cpuset_checked))\n",
            "output_dir: result/BIPED2CLASSIC\n",
            "Restoring weights from: checkpoints/BIPED/10/10_model.pth\n",
            "actual size: (32, 32, 3), target size: (512, 512)\n",
            "actual size: (32, 32, 3), target size: (512, 512)\n",
            "actual size: (32, 32, 3), target size: (512, 512)\n",
            "actual size: (32, 32, 3), target size: (512, 512)\n",
            "actual size: (32, 32, 3), target size: (512, 512)\n",
            "actual size: (32, 32, 3), target size: (512, 512)\n",
            "actual size: (32, 32, 3), target size: (512, 512)\n",
            "actual size: (32, 32, 3), target size: (512, 512)\n",
            "actual size: (32, 32, 3), target size: (512, 512)\n",
            "actual size: (32, 32, 3), target size: (512, 512)\n",
            "actual size: (32, 32, 3), target size: (512, 512)\n",
            "actual size: (32, 32, 3), target size: (512, 512)\n",
            "actual size: (32, 32, 3), target size: (512, 512)\n",
            "actual size: (32, 32, 3), target size: (512, 512)\n",
            "actual size: (32, 32, 3), target size: (512, 512)\n",
            "actual size: (32, 32, 3), target size: (512, 512)\n",
            "actual size: (32, 32, 3), target size: (512, 512)\n",
            "actual size: (32, 32, 3), target size: (512, 512)\n",
            "actual size: (32, 32, 3), target size: (512, 512)\n",
            "actual size: (32, 32, 3), target size: (512, 512)\n",
            "actual size: (32, 32, 3), target size: (512, 512)\n",
            "actual size: (32, 32, 3), target size: (512, 512)\n",
            "actual size: (32, 32, 3), target size: (512, 512)\n",
            "actual size: (32, 32, 3), target size: (512, 512)\n",
            "actual size: (32, 32, 3), target size: (512, 512)\n",
            "actual size: (32, 32, 3), target size: (512, 512)\n",
            "actual size: (32, 32, 3), target size: (512, 512)\n",
            "actual size: (32, 32, 3), target size: (512, 512)\n",
            "actual size: (32, 32, 3), target size: (512, 512)\n",
            "actual size: (32, 32, 3), target size: (512, 512)\n",
            "actual size: (32, 32, 3), target size: (512, 512)\n",
            "actual size: (32, 32, 3), target size: (512, 512)\n",
            "actual size: (32, 32, 3), target size: (512, 512)\n",
            "input tensor shape: torch.Size([1, 3, 512, 512])\n",
            "actual size: (32, 32, 3), target size: (512, 512)\n",
            "input tensor shape: torch.Size([1, 3, 512, 512])\n",
            "actual size: (32, 32, 3), target size: (512, 512)\n",
            "input tensor shape: torch.Size([1, 3, 512, 512])\n",
            "actual size: (32, 32, 3), target size: (512, 512)\n",
            "input tensor shape: torch.Size([1, 3, 512, 512])\n",
            "actual size: (32, 32, 3), target size: (512, 512)\n",
            "input tensor shape: torch.Size([1, 3, 512, 512])\n",
            "actual size: (32, 32, 3), target size: (512, 512)\n",
            "input tensor shape: torch.Size([1, 3, 512, 512])\n",
            "actual size: (32, 32, 3), target size: (512, 512)\n",
            "input tensor shape: torch.Size([1, 3, 512, 512])\n",
            "actual size: (32, 32, 3), target size: (512, 512)\n",
            "input tensor shape: torch.Size([1, 3, 512, 512])\n",
            "actual size: (32, 32, 3), target size: (512, 512)\n",
            "input tensor shape: torch.Size([1, 3, 512, 512])\n",
            "actual size: (32, 32, 3), target size: (512, 512)\n",
            "input tensor shape: torch.Size([1, 3, 512, 512])\n",
            "input tensor shape: torch.Size([1, 3, 512, 512])\n",
            "actual size: (32, 32, 3), target size: (512, 512)\n",
            "actual size: (32, 32, 3), target size: (512, 512)\n",
            "input tensor shape: torch.Size([1, 3, 512, 512])\n",
            "actual size: (32, 32, 3), target size: (512, 512)\n",
            "input tensor shape: torch.Size([1, 3, 512, 512])\n",
            "actual size: (32, 32, 3), target size: (512, 512)\n",
            "input tensor shape: torch.Size([1, 3, 512, 512])\n",
            "actual size: (32, 32, 3), target size: (512, 512)\n",
            "input tensor shape: torch.Size([1, 3, 512, 512])\n",
            "actual size: (32, 32, 3), target size: (512, 512)\n",
            "input tensor shape: torch.Size([1, 3, 512, 512])\n",
            "actual size: (32, 32, 3), target size: (512, 512)\n",
            "input tensor shape: torch.Size([1, 3, 512, 512])\n",
            "actual size: (32, 32, 3), target size: (512, 512)\n",
            "input tensor shape: torch.Size([1, 3, 512, 512])\n",
            "actual size: (32, 32, 3), target size: (512, 512)\n",
            "input tensor shape: torch.Size([1, 3, 512, 512])\n",
            "actual size: (32, 32, 3), target size: (512, 512)\n",
            "input tensor shape: torch.Size([1, 3, 512, 512])\n",
            "input tensor shape: torch.Size([1, 3, 512, 512])\n",
            "actual size: (32, 32, 3), target size: (512, 512)\n",
            "actual size: (32, 32, 3), target size: (512, 512)\n",
            "input tensor shape: torch.Size([1, 3, 512, 512])\n",
            "actual size: (32, 32, 3), target size: (512, 512)\n",
            "input tensor shape: torch.Size([1, 3, 512, 512])\n",
            "actual size: (32, 32, 3), target size: (512, 512)\n",
            "input tensor shape: torch.Size([1, 3, 512, 512])\n",
            "actual size: (32, 32, 3), target size: (512, 512)\n",
            "input tensor shape: torch.Size([1, 3, 512, 512])\n",
            "actual size: (32, 32, 3), target size: (512, 512)\n",
            "input tensor shape: torch.Size([1, 3, 512, 512])\n",
            "actual size: (32, 32, 3), target size: (512, 512)\n",
            "input tensor shape: torch.Size([1, 3, 512, 512])\n",
            "actual size: (32, 32, 3), target size: (512, 512)\n",
            "input tensor shape: torch.Size([1, 3, 512, 512])\n",
            "actual size: (32, 32, 3), target size: (512, 512)\n",
            "input tensor shape: torch.Size([1, 3, 512, 512])\n",
            "actual size: (32, 32, 3), target size: (512, 512)\n",
            "input tensor shape: torch.Size([1, 3, 512, 512])\n",
            "actual size: (32, 32, 3), target size: (512, 512)\n",
            "input tensor shape: torch.Size([1, 3, 512, 512])\n",
            "actual size: (32, 32, 3), target size: (512, 512)\n",
            "input tensor shape: torch.Size([1, 3, 512, 512])\n",
            "actual size: (32, 32, 3), target size: (512, 512)\n",
            "input tensor shape: torch.Size([1, 3, 512, 512])\n",
            "actual size: (32, 32, 3), target size: (512, 512)\n",
            "input tensor shape: torch.Size([1, 3, 512, 512])\n",
            "actual size: (32, 32, 3), target size: (512, 512)\n",
            "input tensor shape: torch.Size([1, 3, 512, 512])\n",
            "input tensor shape: torch.Size([1, 3, 512, 512])\n",
            "actual size: (32, 32, 3), target size: (512, 512)\n",
            "actual size: (32, 32, 3), target size: (512, 512)\n",
            "input tensor shape: torch.Size([1, 3, 512, 512])\n",
            "actual size: (32, 32, 3), target size: (512, 512)\n",
            "input tensor shape: torch.Size([1, 3, 512, 512])\n",
            "actual size: (32, 32, 3), target size: (512, 512)\n",
            "input tensor shape: torch.Size([1, 3, 512, 512])\n",
            "actual size: (32, 32, 3), target size: (512, 512)\n",
            "input tensor shape: torch.Size([1, 3, 512, 512])\n",
            "actual size: (32, 32, 3), target size: (512, 512)\n",
            "input tensor shape: torch.Size([1, 3, 512, 512])\n",
            "actual size: (32, 32, 3), target size: (512, 512)\n",
            "input tensor shape: torch.Size([1, 3, 512, 512])\n",
            "actual size: (32, 32, 3), target size: (512, 512)\n",
            "input tensor shape: torch.Size([1, 3, 512, 512])\n",
            "actual size: (32, 32, 3), target size: (512, 512)\n",
            "input tensor shape: torch.Size([1, 3, 512, 512])\n",
            "actual size: (32, 32, 3), target size: (512, 512)\n",
            "input tensor shape: torch.Size([1, 3, 512, 512])\n",
            "actual size: (32, 32, 3), target size: (512, 512)\n",
            "input tensor shape: torch.Size([1, 3, 512, 512])\n",
            "actual size: (32, 32, 3), target size: (512, 512)\n",
            "input tensor shape: torch.Size([1, 3, 512, 512])\n",
            "actual size: (32, 32, 3), target size: (512, 512)\n",
            "input tensor shape: torch.Size([1, 3, 512, 512])\n",
            "actual size: (32, 32, 3), target size: (512, 512)\n",
            "input tensor shape: torch.Size([1, 3, 512, 512])\n",
            "actual size: (32, 32, 3), target size: (512, 512)\n",
            "input tensor shape: torch.Size([1, 3, 512, 512])\n",
            "actual size: (32, 32, 3), target size: (512, 512)\n",
            "input tensor shape: torch.Size([1, 3, 512, 512])\n",
            "actual size: (32, 32, 3), target size: (512, 512)\n",
            "input tensor shape: torch.Size([1, 3, 512, 512])\n",
            "actual size: (32, 32, 3), target size: (512, 512)\n",
            "input tensor shape: torch.Size([1, 3, 512, 512])\n",
            "actual size: (32, 32, 3), target size: (512, 512)\n",
            "input tensor shape: torch.Size([1, 3, 512, 512])\n",
            "actual size: (32, 32, 3), target size: (512, 512)\n",
            "input tensor shape: torch.Size([1, 3, 512, 512])\n",
            "actual size: (32, 32, 3), target size: (512, 512)\n",
            "input tensor shape: torch.Size([1, 3, 512, 512])\n",
            "actual size: (32, 32, 3), target size: (512, 512)\n",
            "input tensor shape: torch.Size([1, 3, 512, 512])\n",
            "input tensor shape: torch.Size([1, 3, 512, 512])\n",
            "actual size: (32, 32, 3), target size: (512, 512)\n",
            "actual size: (32, 32, 3), target size: (512, 512)\n",
            "input tensor shape: torch.Size([1, 3, 512, 512])\n",
            "actual size: (32, 32, 3), target size: (512, 512)\n",
            "input tensor shape: torch.Size([1, 3, 512, 512])\n",
            "actual size: (32, 32, 3), target size: (512, 512)\n",
            "input tensor shape: torch.Size([1, 3, 512, 512])\n",
            "actual size: (32, 32, 3), target size: (512, 512)\n",
            "input tensor shape: torch.Size([1, 3, 512, 512])\n",
            "actual size: (32, 32, 3), target size: (512, 512)\n",
            "input tensor shape: torch.Size([1, 3, 512, 512])\n",
            "actual size: (32, 32, 3), target size: (512, 512)\n",
            "input tensor shape: torch.Size([1, 3, 512, 512])\n",
            "actual size: (32, 32, 3), target size: (512, 512)\n",
            "input tensor shape: torch.Size([1, 3, 512, 512])\n",
            "actual size: (32, 32, 3), target size: (512, 512)\n",
            "input tensor shape: torch.Size([1, 3, 512, 512])\n",
            "actual size: (32, 32, 3), target size: (512, 512)\n",
            "input tensor shape: torch.Size([1, 3, 512, 512])\n",
            "actual size: (32, 32, 3), target size: (512, 512)\n",
            "input tensor shape: torch.Size([1, 3, 512, 512])\n",
            "input tensor shape: torch.Size([1, 3, 512, 512])\n",
            "input tensor shape: torch.Size([1, 3, 512, 512])\n",
            "input tensor shape: torch.Size([1, 3, 512, 512])\n",
            "input tensor shape: torch.Size([1, 3, 512, 512])\n",
            "input tensor shape: torch.Size([1, 3, 512, 512])\n",
            "input tensor shape: torch.Size([1, 3, 512, 512])\n",
            "input tensor shape: torch.Size([1, 3, 512, 512])\n",
            "input tensor shape: torch.Size([1, 3, 512, 512])\n",
            "input tensor shape: torch.Size([1, 3, 512, 512])\n",
            "input tensor shape: torch.Size([1, 3, 512, 512])\n",
            "input tensor shape: torch.Size([1, 3, 512, 512])\n",
            "input tensor shape: torch.Size([1, 3, 512, 512])\n",
            "input tensor shape: torch.Size([1, 3, 512, 512])\n",
            "input tensor shape: torch.Size([1, 3, 512, 512])\n",
            "input tensor shape: torch.Size([1, 3, 512, 512])\n",
            "input tensor shape: torch.Size([1, 3, 512, 512])\n",
            "input tensor shape: torch.Size([1, 3, 512, 512])\n",
            "input tensor shape: torch.Size([1, 3, 512, 512])\n",
            "input tensor shape: torch.Size([1, 3, 512, 512])\n",
            "input tensor shape: torch.Size([1, 3, 512, 512])\n",
            "input tensor shape: torch.Size([1, 3, 512, 512])\n",
            "input tensor shape: torch.Size([1, 3, 512, 512])\n",
            "input tensor shape: torch.Size([1, 3, 512, 512])\n",
            "input tensor shape: torch.Size([1, 3, 512, 512])\n",
            "input tensor shape: torch.Size([1, 3, 512, 512])\n",
            "input tensor shape: torch.Size([1, 3, 512, 512])\n",
            "input tensor shape: torch.Size([1, 3, 512, 512])\n",
            "input tensor shape: torch.Size([1, 3, 512, 512])\n",
            "input tensor shape: torch.Size([1, 3, 512, 512])\n",
            "input tensor shape: torch.Size([1, 3, 512, 512])\n",
            "input tensor shape: torch.Size([1, 3, 512, 512])\n",
            "input tensor shape: torch.Size([1, 3, 512, 512])\n",
            "******** Testing finished in CLASSIC dataset. *****\n",
            "Average time per image: 0.019797.4 seconds\n",
            "Time spend in the Dataset: 1.979653.4 seconds\n",
            "-------------------------------------------------------\n",
            "Number of parameters of current DexiNed model:\n",
            "35215245\n",
            "-------------------------------------------------------\n",
            "renamed '/content/DexiNed/result/BIPED2CLASSIC/fused/0000.png' -> '/content/CIFAR-10-edges/test/airplane/0000.png'\n",
            "renamed '/content/DexiNed/result/BIPED2CLASSIC/fused/0001.png' -> '/content/CIFAR-10-edges/test/airplane/0001.png'\n",
            "renamed '/content/DexiNed/result/BIPED2CLASSIC/fused/0002.png' -> '/content/CIFAR-10-edges/test/airplane/0002.png'\n",
            "renamed '/content/DexiNed/result/BIPED2CLASSIC/fused/0003.png' -> '/content/CIFAR-10-edges/test/airplane/0003.png'\n",
            "renamed '/content/DexiNed/result/BIPED2CLASSIC/fused/0004.png' -> '/content/CIFAR-10-edges/test/airplane/0004.png'\n",
            "renamed '/content/DexiNed/result/BIPED2CLASSIC/fused/0005.png' -> '/content/CIFAR-10-edges/test/airplane/0005.png'\n",
            "renamed '/content/DexiNed/result/BIPED2CLASSIC/fused/0006.png' -> '/content/CIFAR-10-edges/test/airplane/0006.png'\n",
            "renamed '/content/DexiNed/result/BIPED2CLASSIC/fused/0007.png' -> '/content/CIFAR-10-edges/test/airplane/0007.png'\n",
            "renamed '/content/DexiNed/result/BIPED2CLASSIC/fused/0008.png' -> '/content/CIFAR-10-edges/test/airplane/0008.png'\n",
            "renamed '/content/DexiNed/result/BIPED2CLASSIC/fused/0009.png' -> '/content/CIFAR-10-edges/test/airplane/0009.png'\n",
            "renamed '/content/DexiNed/result/BIPED2CLASSIC/fused/0010.png' -> '/content/CIFAR-10-edges/test/airplane/0010.png'\n",
            "renamed '/content/DexiNed/result/BIPED2CLASSIC/fused/0011.png' -> '/content/CIFAR-10-edges/test/airplane/0011.png'\n",
            "renamed '/content/DexiNed/result/BIPED2CLASSIC/fused/0012.png' -> '/content/CIFAR-10-edges/test/airplane/0012.png'\n",
            "renamed '/content/DexiNed/result/BIPED2CLASSIC/fused/0013.png' -> '/content/CIFAR-10-edges/test/airplane/0013.png'\n",
            "renamed '/content/DexiNed/result/BIPED2CLASSIC/fused/0014.png' -> '/content/CIFAR-10-edges/test/airplane/0014.png'\n",
            "renamed '/content/DexiNed/result/BIPED2CLASSIC/fused/0015.png' -> '/content/CIFAR-10-edges/test/airplane/0015.png'\n",
            "renamed '/content/DexiNed/result/BIPED2CLASSIC/fused/0016.png' -> '/content/CIFAR-10-edges/test/airplane/0016.png'\n",
            "renamed '/content/DexiNed/result/BIPED2CLASSIC/fused/0017.png' -> '/content/CIFAR-10-edges/test/airplane/0017.png'\n",
            "renamed '/content/DexiNed/result/BIPED2CLASSIC/fused/0018.png' -> '/content/CIFAR-10-edges/test/airplane/0018.png'\n",
            "renamed '/content/DexiNed/result/BIPED2CLASSIC/fused/0019.png' -> '/content/CIFAR-10-edges/test/airplane/0019.png'\n",
            "renamed '/content/DexiNed/result/BIPED2CLASSIC/fused/0020.png' -> '/content/CIFAR-10-edges/test/airplane/0020.png'\n",
            "renamed '/content/DexiNed/result/BIPED2CLASSIC/fused/0021.png' -> '/content/CIFAR-10-edges/test/airplane/0021.png'\n",
            "renamed '/content/DexiNed/result/BIPED2CLASSIC/fused/0022.png' -> '/content/CIFAR-10-edges/test/airplane/0022.png'\n",
            "renamed '/content/DexiNed/result/BIPED2CLASSIC/fused/0023.png' -> '/content/CIFAR-10-edges/test/airplane/0023.png'\n",
            "renamed '/content/DexiNed/result/BIPED2CLASSIC/fused/0024.png' -> '/content/CIFAR-10-edges/test/airplane/0024.png'\n",
            "renamed '/content/DexiNed/result/BIPED2CLASSIC/fused/0025.png' -> '/content/CIFAR-10-edges/test/airplane/0025.png'\n",
            "renamed '/content/DexiNed/result/BIPED2CLASSIC/fused/0026.png' -> '/content/CIFAR-10-edges/test/airplane/0026.png'\n",
            "renamed '/content/DexiNed/result/BIPED2CLASSIC/fused/0027.png' -> '/content/CIFAR-10-edges/test/airplane/0027.png'\n",
            "renamed '/content/DexiNed/result/BIPED2CLASSIC/fused/0028.png' -> '/content/CIFAR-10-edges/test/airplane/0028.png'\n",
            "renamed '/content/DexiNed/result/BIPED2CLASSIC/fused/0029.png' -> '/content/CIFAR-10-edges/test/airplane/0029.png'\n",
            "renamed '/content/DexiNed/result/BIPED2CLASSIC/fused/0030.png' -> '/content/CIFAR-10-edges/test/airplane/0030.png'\n",
            "renamed '/content/DexiNed/result/BIPED2CLASSIC/fused/0031.png' -> '/content/CIFAR-10-edges/test/airplane/0031.png'\n",
            "renamed '/content/DexiNed/result/BIPED2CLASSIC/fused/0032.png' -> '/content/CIFAR-10-edges/test/airplane/0032.png'\n",
            "renamed '/content/DexiNed/result/BIPED2CLASSIC/fused/0033.png' -> '/content/CIFAR-10-edges/test/airplane/0033.png'\n",
            "renamed '/content/DexiNed/result/BIPED2CLASSIC/fused/0034.png' -> '/content/CIFAR-10-edges/test/airplane/0034.png'\n",
            "renamed '/content/DexiNed/result/BIPED2CLASSIC/fused/0035.png' -> '/content/CIFAR-10-edges/test/airplane/0035.png'\n",
            "renamed '/content/DexiNed/result/BIPED2CLASSIC/fused/0036.png' -> '/content/CIFAR-10-edges/test/airplane/0036.png'\n",
            "renamed '/content/DexiNed/result/BIPED2CLASSIC/fused/0037.png' -> '/content/CIFAR-10-edges/test/airplane/0037.png'\n",
            "renamed '/content/DexiNed/result/BIPED2CLASSIC/fused/0038.png' -> '/content/CIFAR-10-edges/test/airplane/0038.png'\n",
            "renamed '/content/DexiNed/result/BIPED2CLASSIC/fused/0039.png' -> '/content/CIFAR-10-edges/test/airplane/0039.png'\n",
            "renamed '/content/DexiNed/result/BIPED2CLASSIC/fused/0040.png' -> '/content/CIFAR-10-edges/test/airplane/0040.png'\n",
            "renamed '/content/DexiNed/result/BIPED2CLASSIC/fused/0041.png' -> '/content/CIFAR-10-edges/test/airplane/0041.png'\n",
            "renamed '/content/DexiNed/result/BIPED2CLASSIC/fused/0042.png' -> '/content/CIFAR-10-edges/test/airplane/0042.png'\n",
            "renamed '/content/DexiNed/result/BIPED2CLASSIC/fused/0043.png' -> '/content/CIFAR-10-edges/test/airplane/0043.png'\n",
            "renamed '/content/DexiNed/result/BIPED2CLASSIC/fused/0044.png' -> '/content/CIFAR-10-edges/test/airplane/0044.png'\n",
            "renamed '/content/DexiNed/result/BIPED2CLASSIC/fused/0045.png' -> '/content/CIFAR-10-edges/test/airplane/0045.png'\n",
            "renamed '/content/DexiNed/result/BIPED2CLASSIC/fused/0046.png' -> '/content/CIFAR-10-edges/test/airplane/0046.png'\n",
            "renamed '/content/DexiNed/result/BIPED2CLASSIC/fused/0047.png' -> '/content/CIFAR-10-edges/test/airplane/0047.png'\n",
            "renamed '/content/DexiNed/result/BIPED2CLASSIC/fused/0048.png' -> '/content/CIFAR-10-edges/test/airplane/0048.png'\n",
            "renamed '/content/DexiNed/result/BIPED2CLASSIC/fused/0049.png' -> '/content/CIFAR-10-edges/test/airplane/0049.png'\n",
            "renamed '/content/DexiNed/result/BIPED2CLASSIC/fused/0050.png' -> '/content/CIFAR-10-edges/test/airplane/0050.png'\n",
            "renamed '/content/DexiNed/result/BIPED2CLASSIC/fused/0051.png' -> '/content/CIFAR-10-edges/test/airplane/0051.png'\n",
            "renamed '/content/DexiNed/result/BIPED2CLASSIC/fused/0052.png' -> '/content/CIFAR-10-edges/test/airplane/0052.png'\n",
            "renamed '/content/DexiNed/result/BIPED2CLASSIC/fused/0053.png' -> '/content/CIFAR-10-edges/test/airplane/0053.png'\n",
            "renamed '/content/DexiNed/result/BIPED2CLASSIC/fused/0054.png' -> '/content/CIFAR-10-edges/test/airplane/0054.png'\n",
            "renamed '/content/DexiNed/result/BIPED2CLASSIC/fused/0055.png' -> '/content/CIFAR-10-edges/test/airplane/0055.png'\n",
            "renamed '/content/DexiNed/result/BIPED2CLASSIC/fused/0056.png' -> '/content/CIFAR-10-edges/test/airplane/0056.png'\n",
            "renamed '/content/DexiNed/result/BIPED2CLASSIC/fused/0057.png' -> '/content/CIFAR-10-edges/test/airplane/0057.png'\n",
            "renamed '/content/DexiNed/result/BIPED2CLASSIC/fused/0058.png' -> '/content/CIFAR-10-edges/test/airplane/0058.png'\n",
            "renamed '/content/DexiNed/result/BIPED2CLASSIC/fused/0059.png' -> '/content/CIFAR-10-edges/test/airplane/0059.png'\n",
            "renamed '/content/DexiNed/result/BIPED2CLASSIC/fused/0060.png' -> '/content/CIFAR-10-edges/test/airplane/0060.png'\n",
            "renamed '/content/DexiNed/result/BIPED2CLASSIC/fused/0061.png' -> '/content/CIFAR-10-edges/test/airplane/0061.png'\n",
            "renamed '/content/DexiNed/result/BIPED2CLASSIC/fused/0062.png' -> '/content/CIFAR-10-edges/test/airplane/0062.png'\n",
            "renamed '/content/DexiNed/result/BIPED2CLASSIC/fused/0063.png' -> '/content/CIFAR-10-edges/test/airplane/0063.png'\n",
            "renamed '/content/DexiNed/result/BIPED2CLASSIC/fused/0064.png' -> '/content/CIFAR-10-edges/test/airplane/0064.png'\n",
            "renamed '/content/DexiNed/result/BIPED2CLASSIC/fused/0065.png' -> '/content/CIFAR-10-edges/test/airplane/0065.png'\n",
            "renamed '/content/DexiNed/result/BIPED2CLASSIC/fused/0066.png' -> '/content/CIFAR-10-edges/test/airplane/0066.png'\n",
            "renamed '/content/DexiNed/result/BIPED2CLASSIC/fused/0067.png' -> '/content/CIFAR-10-edges/test/airplane/0067.png'\n",
            "renamed '/content/DexiNed/result/BIPED2CLASSIC/fused/0068.png' -> '/content/CIFAR-10-edges/test/airplane/0068.png'\n",
            "renamed '/content/DexiNed/result/BIPED2CLASSIC/fused/0069.png' -> '/content/CIFAR-10-edges/test/airplane/0069.png'\n",
            "renamed '/content/DexiNed/result/BIPED2CLASSIC/fused/0070.png' -> '/content/CIFAR-10-edges/test/airplane/0070.png'\n",
            "renamed '/content/DexiNed/result/BIPED2CLASSIC/fused/0071.png' -> '/content/CIFAR-10-edges/test/airplane/0071.png'\n",
            "renamed '/content/DexiNed/result/BIPED2CLASSIC/fused/0072.png' -> '/content/CIFAR-10-edges/test/airplane/0072.png'\n",
            "renamed '/content/DexiNed/result/BIPED2CLASSIC/fused/0073.png' -> '/content/CIFAR-10-edges/test/airplane/0073.png'\n",
            "renamed '/content/DexiNed/result/BIPED2CLASSIC/fused/0074.png' -> '/content/CIFAR-10-edges/test/airplane/0074.png'\n",
            "renamed '/content/DexiNed/result/BIPED2CLASSIC/fused/0075.png' -> '/content/CIFAR-10-edges/test/airplane/0075.png'\n",
            "renamed '/content/DexiNed/result/BIPED2CLASSIC/fused/0076.png' -> '/content/CIFAR-10-edges/test/airplane/0076.png'\n",
            "renamed '/content/DexiNed/result/BIPED2CLASSIC/fused/0077.png' -> '/content/CIFAR-10-edges/test/airplane/0077.png'\n",
            "renamed '/content/DexiNed/result/BIPED2CLASSIC/fused/0078.png' -> '/content/CIFAR-10-edges/test/airplane/0078.png'\n",
            "renamed '/content/DexiNed/result/BIPED2CLASSIC/fused/0079.png' -> '/content/CIFAR-10-edges/test/airplane/0079.png'\n",
            "renamed '/content/DexiNed/result/BIPED2CLASSIC/fused/0080.png' -> '/content/CIFAR-10-edges/test/airplane/0080.png'\n",
            "renamed '/content/DexiNed/result/BIPED2CLASSIC/fused/0081.png' -> '/content/CIFAR-10-edges/test/airplane/0081.png'\n",
            "renamed '/content/DexiNed/result/BIPED2CLASSIC/fused/0082.png' -> '/content/CIFAR-10-edges/test/airplane/0082.png'\n",
            "renamed '/content/DexiNed/result/BIPED2CLASSIC/fused/0083.png' -> '/content/CIFAR-10-edges/test/airplane/0083.png'\n",
            "renamed '/content/DexiNed/result/BIPED2CLASSIC/fused/0084.png' -> '/content/CIFAR-10-edges/test/airplane/0084.png'\n",
            "renamed '/content/DexiNed/result/BIPED2CLASSIC/fused/0085.png' -> '/content/CIFAR-10-edges/test/airplane/0085.png'\n",
            "renamed '/content/DexiNed/result/BIPED2CLASSIC/fused/0086.png' -> '/content/CIFAR-10-edges/test/airplane/0086.png'\n",
            "renamed '/content/DexiNed/result/BIPED2CLASSIC/fused/0087.png' -> '/content/CIFAR-10-edges/test/airplane/0087.png'\n",
            "renamed '/content/DexiNed/result/BIPED2CLASSIC/fused/0088.png' -> '/content/CIFAR-10-edges/test/airplane/0088.png'\n",
            "renamed '/content/DexiNed/result/BIPED2CLASSIC/fused/0089.png' -> '/content/CIFAR-10-edges/test/airplane/0089.png'\n",
            "renamed '/content/DexiNed/result/BIPED2CLASSIC/fused/0090.png' -> '/content/CIFAR-10-edges/test/airplane/0090.png'\n",
            "renamed '/content/DexiNed/result/BIPED2CLASSIC/fused/0091.png' -> '/content/CIFAR-10-edges/test/airplane/0091.png'\n",
            "renamed '/content/DexiNed/result/BIPED2CLASSIC/fused/0092.png' -> '/content/CIFAR-10-edges/test/airplane/0092.png'\n",
            "renamed '/content/DexiNed/result/BIPED2CLASSIC/fused/0093.png' -> '/content/CIFAR-10-edges/test/airplane/0093.png'\n",
            "renamed '/content/DexiNed/result/BIPED2CLASSIC/fused/0094.png' -> '/content/CIFAR-10-edges/test/airplane/0094.png'\n",
            "renamed '/content/DexiNed/result/BIPED2CLASSIC/fused/0095.png' -> '/content/CIFAR-10-edges/test/airplane/0095.png'\n",
            "renamed '/content/DexiNed/result/BIPED2CLASSIC/fused/0096.png' -> '/content/CIFAR-10-edges/test/airplane/0096.png'\n",
            "renamed '/content/DexiNed/result/BIPED2CLASSIC/fused/0097.png' -> '/content/CIFAR-10-edges/test/airplane/0097.png'\n",
            "renamed '/content/DexiNed/result/BIPED2CLASSIC/fused/0098.png' -> '/content/CIFAR-10-edges/test/airplane/0098.png'\n",
            "renamed '/content/DexiNed/result/BIPED2CLASSIC/fused/0099.png' -> '/content/CIFAR-10-edges/test/airplane/0099.png'\n",
            "airplane\n",
            "'/content/CIFAR-10-images/test/automobile/0000.jpg' -> '/content/DexiNed/data/0000.jpg'\n",
            "'/content/CIFAR-10-images/test/automobile/0001.jpg' -> '/content/DexiNed/data/0001.jpg'\n",
            "'/content/CIFAR-10-images/test/automobile/0002.jpg' -> '/content/DexiNed/data/0002.jpg'\n",
            "'/content/CIFAR-10-images/test/automobile/0003.jpg' -> '/content/DexiNed/data/0003.jpg'\n",
            "'/content/CIFAR-10-images/test/automobile/0004.jpg' -> '/content/DexiNed/data/0004.jpg'\n",
            "'/content/CIFAR-10-images/test/automobile/0005.jpg' -> '/content/DexiNed/data/0005.jpg'\n",
            "'/content/CIFAR-10-images/test/automobile/0006.jpg' -> '/content/DexiNed/data/0006.jpg'\n",
            "'/content/CIFAR-10-images/test/automobile/0007.jpg' -> '/content/DexiNed/data/0007.jpg'\n",
            "'/content/CIFAR-10-images/test/automobile/0008.jpg' -> '/content/DexiNed/data/0008.jpg'\n",
            "'/content/CIFAR-10-images/test/automobile/0009.jpg' -> '/content/DexiNed/data/0009.jpg'\n",
            "'/content/CIFAR-10-images/test/automobile/0010.jpg' -> '/content/DexiNed/data/0010.jpg'\n",
            "'/content/CIFAR-10-images/test/automobile/0011.jpg' -> '/content/DexiNed/data/0011.jpg'\n",
            "'/content/CIFAR-10-images/test/automobile/0012.jpg' -> '/content/DexiNed/data/0012.jpg'\n",
            "'/content/CIFAR-10-images/test/automobile/0013.jpg' -> '/content/DexiNed/data/0013.jpg'\n",
            "'/content/CIFAR-10-images/test/automobile/0014.jpg' -> '/content/DexiNed/data/0014.jpg'\n",
            "'/content/CIFAR-10-images/test/automobile/0015.jpg' -> '/content/DexiNed/data/0015.jpg'\n",
            "'/content/CIFAR-10-images/test/automobile/0016.jpg' -> '/content/DexiNed/data/0016.jpg'\n",
            "'/content/CIFAR-10-images/test/automobile/0017.jpg' -> '/content/DexiNed/data/0017.jpg'\n",
            "'/content/CIFAR-10-images/test/automobile/0018.jpg' -> '/content/DexiNed/data/0018.jpg'\n",
            "'/content/CIFAR-10-images/test/automobile/0019.jpg' -> '/content/DexiNed/data/0019.jpg'\n",
            "'/content/CIFAR-10-images/test/automobile/0020.jpg' -> '/content/DexiNed/data/0020.jpg'\n",
            "'/content/CIFAR-10-images/test/automobile/0021.jpg' -> '/content/DexiNed/data/0021.jpg'\n",
            "'/content/CIFAR-10-images/test/automobile/0022.jpg' -> '/content/DexiNed/data/0022.jpg'\n",
            "'/content/CIFAR-10-images/test/automobile/0023.jpg' -> '/content/DexiNed/data/0023.jpg'\n",
            "'/content/CIFAR-10-images/test/automobile/0024.jpg' -> '/content/DexiNed/data/0024.jpg'\n",
            "'/content/CIFAR-10-images/test/automobile/0025.jpg' -> '/content/DexiNed/data/0025.jpg'\n",
            "'/content/CIFAR-10-images/test/automobile/0026.jpg' -> '/content/DexiNed/data/0026.jpg'\n",
            "'/content/CIFAR-10-images/test/automobile/0027.jpg' -> '/content/DexiNed/data/0027.jpg'\n",
            "'/content/CIFAR-10-images/test/automobile/0028.jpg' -> '/content/DexiNed/data/0028.jpg'\n",
            "'/content/CIFAR-10-images/test/automobile/0029.jpg' -> '/content/DexiNed/data/0029.jpg'\n",
            "'/content/CIFAR-10-images/test/automobile/0030.jpg' -> '/content/DexiNed/data/0030.jpg'\n",
            "'/content/CIFAR-10-images/test/automobile/0031.jpg' -> '/content/DexiNed/data/0031.jpg'\n",
            "'/content/CIFAR-10-images/test/automobile/0032.jpg' -> '/content/DexiNed/data/0032.jpg'\n",
            "'/content/CIFAR-10-images/test/automobile/0033.jpg' -> '/content/DexiNed/data/0033.jpg'\n",
            "'/content/CIFAR-10-images/test/automobile/0034.jpg' -> '/content/DexiNed/data/0034.jpg'\n",
            "'/content/CIFAR-10-images/test/automobile/0035.jpg' -> '/content/DexiNed/data/0035.jpg'\n",
            "'/content/CIFAR-10-images/test/automobile/0036.jpg' -> '/content/DexiNed/data/0036.jpg'\n",
            "'/content/CIFAR-10-images/test/automobile/0037.jpg' -> '/content/DexiNed/data/0037.jpg'\n",
            "'/content/CIFAR-10-images/test/automobile/0038.jpg' -> '/content/DexiNed/data/0038.jpg'\n",
            "'/content/CIFAR-10-images/test/automobile/0039.jpg' -> '/content/DexiNed/data/0039.jpg'\n",
            "'/content/CIFAR-10-images/test/automobile/0040.jpg' -> '/content/DexiNed/data/0040.jpg'\n",
            "'/content/CIFAR-10-images/test/automobile/0041.jpg' -> '/content/DexiNed/data/0041.jpg'\n",
            "'/content/CIFAR-10-images/test/automobile/0042.jpg' -> '/content/DexiNed/data/0042.jpg'\n",
            "'/content/CIFAR-10-images/test/automobile/0043.jpg' -> '/content/DexiNed/data/0043.jpg'\n",
            "'/content/CIFAR-10-images/test/automobile/0044.jpg' -> '/content/DexiNed/data/0044.jpg'\n",
            "'/content/CIFAR-10-images/test/automobile/0045.jpg' -> '/content/DexiNed/data/0045.jpg'\n",
            "'/content/CIFAR-10-images/test/automobile/0046.jpg' -> '/content/DexiNed/data/0046.jpg'\n",
            "'/content/CIFAR-10-images/test/automobile/0047.jpg' -> '/content/DexiNed/data/0047.jpg'\n",
            "'/content/CIFAR-10-images/test/automobile/0048.jpg' -> '/content/DexiNed/data/0048.jpg'\n",
            "'/content/CIFAR-10-images/test/automobile/0049.jpg' -> '/content/DexiNed/data/0049.jpg'\n",
            "'/content/CIFAR-10-images/test/automobile/0050.jpg' -> '/content/DexiNed/data/0050.jpg'\n",
            "'/content/CIFAR-10-images/test/automobile/0051.jpg' -> '/content/DexiNed/data/0051.jpg'\n",
            "'/content/CIFAR-10-images/test/automobile/0052.jpg' -> '/content/DexiNed/data/0052.jpg'\n",
            "'/content/CIFAR-10-images/test/automobile/0053.jpg' -> '/content/DexiNed/data/0053.jpg'\n",
            "'/content/CIFAR-10-images/test/automobile/0054.jpg' -> '/content/DexiNed/data/0054.jpg'\n",
            "'/content/CIFAR-10-images/test/automobile/0055.jpg' -> '/content/DexiNed/data/0055.jpg'\n",
            "'/content/CIFAR-10-images/test/automobile/0056.jpg' -> '/content/DexiNed/data/0056.jpg'\n",
            "'/content/CIFAR-10-images/test/automobile/0057.jpg' -> '/content/DexiNed/data/0057.jpg'\n",
            "'/content/CIFAR-10-images/test/automobile/0058.jpg' -> '/content/DexiNed/data/0058.jpg'\n",
            "'/content/CIFAR-10-images/test/automobile/0059.jpg' -> '/content/DexiNed/data/0059.jpg'\n",
            "'/content/CIFAR-10-images/test/automobile/0060.jpg' -> '/content/DexiNed/data/0060.jpg'\n",
            "'/content/CIFAR-10-images/test/automobile/0061.jpg' -> '/content/DexiNed/data/0061.jpg'\n",
            "'/content/CIFAR-10-images/test/automobile/0062.jpg' -> '/content/DexiNed/data/0062.jpg'\n",
            "'/content/CIFAR-10-images/test/automobile/0063.jpg' -> '/content/DexiNed/data/0063.jpg'\n",
            "'/content/CIFAR-10-images/test/automobile/0064.jpg' -> '/content/DexiNed/data/0064.jpg'\n",
            "'/content/CIFAR-10-images/test/automobile/0065.jpg' -> '/content/DexiNed/data/0065.jpg'\n",
            "'/content/CIFAR-10-images/test/automobile/0066.jpg' -> '/content/DexiNed/data/0066.jpg'\n",
            "'/content/CIFAR-10-images/test/automobile/0067.jpg' -> '/content/DexiNed/data/0067.jpg'\n",
            "'/content/CIFAR-10-images/test/automobile/0068.jpg' -> '/content/DexiNed/data/0068.jpg'\n",
            "'/content/CIFAR-10-images/test/automobile/0069.jpg' -> '/content/DexiNed/data/0069.jpg'\n",
            "'/content/CIFAR-10-images/test/automobile/0070.jpg' -> '/content/DexiNed/data/0070.jpg'\n",
            "'/content/CIFAR-10-images/test/automobile/0071.jpg' -> '/content/DexiNed/data/0071.jpg'\n",
            "'/content/CIFAR-10-images/test/automobile/0072.jpg' -> '/content/DexiNed/data/0072.jpg'\n",
            "'/content/CIFAR-10-images/test/automobile/0073.jpg' -> '/content/DexiNed/data/0073.jpg'\n",
            "'/content/CIFAR-10-images/test/automobile/0074.jpg' -> '/content/DexiNed/data/0074.jpg'\n",
            "'/content/CIFAR-10-images/test/automobile/0075.jpg' -> '/content/DexiNed/data/0075.jpg'\n",
            "'/content/CIFAR-10-images/test/automobile/0076.jpg' -> '/content/DexiNed/data/0076.jpg'\n",
            "'/content/CIFAR-10-images/test/automobile/0077.jpg' -> '/content/DexiNed/data/0077.jpg'\n",
            "'/content/CIFAR-10-images/test/automobile/0078.jpg' -> '/content/DexiNed/data/0078.jpg'\n",
            "'/content/CIFAR-10-images/test/automobile/0079.jpg' -> '/content/DexiNed/data/0079.jpg'\n",
            "'/content/CIFAR-10-images/test/automobile/0080.jpg' -> '/content/DexiNed/data/0080.jpg'\n",
            "'/content/CIFAR-10-images/test/automobile/0081.jpg' -> '/content/DexiNed/data/0081.jpg'\n",
            "'/content/CIFAR-10-images/test/automobile/0082.jpg' -> '/content/DexiNed/data/0082.jpg'\n",
            "'/content/CIFAR-10-images/test/automobile/0083.jpg' -> '/content/DexiNed/data/0083.jpg'\n",
            "'/content/CIFAR-10-images/test/automobile/0084.jpg' -> '/content/DexiNed/data/0084.jpg'\n",
            "'/content/CIFAR-10-images/test/automobile/0085.jpg' -> '/content/DexiNed/data/0085.jpg'\n",
            "'/content/CIFAR-10-images/test/automobile/0086.jpg' -> '/content/DexiNed/data/0086.jpg'\n",
            "'/content/CIFAR-10-images/test/automobile/0087.jpg' -> '/content/DexiNed/data/0087.jpg'\n",
            "'/content/CIFAR-10-images/test/automobile/0088.jpg' -> '/content/DexiNed/data/0088.jpg'\n",
            "'/content/CIFAR-10-images/test/automobile/0089.jpg' -> '/content/DexiNed/data/0089.jpg'\n",
            "'/content/CIFAR-10-images/test/automobile/0090.jpg' -> '/content/DexiNed/data/0090.jpg'\n",
            "'/content/CIFAR-10-images/test/automobile/0091.jpg' -> '/content/DexiNed/data/0091.jpg'\n",
            "'/content/CIFAR-10-images/test/automobile/0092.jpg' -> '/content/DexiNed/data/0092.jpg'\n",
            "'/content/CIFAR-10-images/test/automobile/0093.jpg' -> '/content/DexiNed/data/0093.jpg'\n",
            "'/content/CIFAR-10-images/test/automobile/0094.jpg' -> '/content/DexiNed/data/0094.jpg'\n",
            "'/content/CIFAR-10-images/test/automobile/0095.jpg' -> '/content/DexiNed/data/0095.jpg'\n",
            "'/content/CIFAR-10-images/test/automobile/0096.jpg' -> '/content/DexiNed/data/0096.jpg'\n",
            "'/content/CIFAR-10-images/test/automobile/0097.jpg' -> '/content/DexiNed/data/0097.jpg'\n",
            "'/content/CIFAR-10-images/test/automobile/0098.jpg' -> '/content/DexiNed/data/0098.jpg'\n",
            "'/content/CIFAR-10-images/test/automobile/0099.jpg' -> '/content/DexiNed/data/0099.jpg'\n",
            "Fatal Python error: initsite: Failed to import the site module\n",
            "Traceback (most recent call last):\n",
            "  File \"/usr/lib/python3.7/site.py\", line 79, in <module>\n",
            "    import os\n",
            "  File \"/usr/lib/python3.7/os.py\", line 59, in <module>\n",
            "    import posixpath as path\n",
            "  File \"<frozen importlib._bootstrap>\", line 983, in _find_and_load\n",
            "  File \"<frozen importlib._bootstrap>\", line 967, in _find_and_load_unlocked\n",
            "  File \"<frozen importlib._bootstrap>\", line 677, in _load_unlocked\n",
            "KeyboardInterrupt\n",
            "mv: cannot stat '/content/DexiNed/result/BIPED2CLASSIC/fused/*': No such file or directory\n",
            "automobile\n",
            "'/content/CIFAR-10-images/test/bird/0000.jpg' -> '/content/DexiNed/data/0000.jpg'\n",
            "'/content/CIFAR-10-images/test/bird/0001.jpg' -> '/content/DexiNed/data/0001.jpg'\n",
            "'/content/CIFAR-10-images/test/bird/0002.jpg' -> '/content/DexiNed/data/0002.jpg'\n",
            "'/content/CIFAR-10-images/test/bird/0003.jpg' -> '/content/DexiNed/data/0003.jpg'\n",
            "'/content/CIFAR-10-images/test/bird/0004.jpg' -> '/content/DexiNed/data/0004.jpg'\n",
            "'/content/CIFAR-10-images/test/bird/0005.jpg' -> '/content/DexiNed/data/0005.jpg'\n",
            "'/content/CIFAR-10-images/test/bird/0006.jpg' -> '/content/DexiNed/data/0006.jpg'\n",
            "'/content/CIFAR-10-images/test/bird/0007.jpg' -> '/content/DexiNed/data/0007.jpg'\n",
            "'/content/CIFAR-10-images/test/bird/0008.jpg' -> '/content/DexiNed/data/0008.jpg'\n",
            "'/content/CIFAR-10-images/test/bird/0009.jpg' -> '/content/DexiNed/data/0009.jpg'\n",
            "'/content/CIFAR-10-images/test/bird/0010.jpg' -> '/content/DexiNed/data/0010.jpg'\n",
            "'/content/CIFAR-10-images/test/bird/0011.jpg' -> '/content/DexiNed/data/0011.jpg'\n",
            "'/content/CIFAR-10-images/test/bird/0012.jpg' -> '/content/DexiNed/data/0012.jpg'\n",
            "'/content/CIFAR-10-images/test/bird/0013.jpg' -> '/content/DexiNed/data/0013.jpg'\n",
            "'/content/CIFAR-10-images/test/bird/0014.jpg' -> '/content/DexiNed/data/0014.jpg'\n",
            "'/content/CIFAR-10-images/test/bird/0015.jpg' -> '/content/DexiNed/data/0015.jpg'\n",
            "'/content/CIFAR-10-images/test/bird/0016.jpg' -> '/content/DexiNed/data/0016.jpg'\n",
            "'/content/CIFAR-10-images/test/bird/0017.jpg' -> '/content/DexiNed/data/0017.jpg'\n",
            "'/content/CIFAR-10-images/test/bird/0018.jpg' -> '/content/DexiNed/data/0018.jpg'\n",
            "'/content/CIFAR-10-images/test/bird/0019.jpg' -> '/content/DexiNed/data/0019.jpg'\n",
            "'/content/CIFAR-10-images/test/bird/0020.jpg' -> '/content/DexiNed/data/0020.jpg'\n",
            "'/content/CIFAR-10-images/test/bird/0021.jpg' -> '/content/DexiNed/data/0021.jpg'\n",
            "'/content/CIFAR-10-images/test/bird/0022.jpg' -> '/content/DexiNed/data/0022.jpg'\n",
            "'/content/CIFAR-10-images/test/bird/0023.jpg' -> '/content/DexiNed/data/0023.jpg'\n",
            "'/content/CIFAR-10-images/test/bird/0024.jpg' -> '/content/DexiNed/data/0024.jpg'\n",
            "'/content/CIFAR-10-images/test/bird/0025.jpg' -> '/content/DexiNed/data/0025.jpg'\n",
            "'/content/CIFAR-10-images/test/bird/0026.jpg' -> '/content/DexiNed/data/0026.jpg'\n",
            "'/content/CIFAR-10-images/test/bird/0027.jpg' -> '/content/DexiNed/data/0027.jpg'\n",
            "'/content/CIFAR-10-images/test/bird/0028.jpg' -> '/content/DexiNed/data/0028.jpg'\n",
            "'/content/CIFAR-10-images/test/bird/0029.jpg' -> '/content/DexiNed/data/0029.jpg'\n",
            "'/content/CIFAR-10-images/test/bird/0030.jpg' -> '/content/DexiNed/data/0030.jpg'\n",
            "'/content/CIFAR-10-images/test/bird/0031.jpg' -> '/content/DexiNed/data/0031.jpg'\n",
            "'/content/CIFAR-10-images/test/bird/0032.jpg' -> '/content/DexiNed/data/0032.jpg'\n",
            "'/content/CIFAR-10-images/test/bird/0033.jpg' -> '/content/DexiNed/data/0033.jpg'\n",
            "'/content/CIFAR-10-images/test/bird/0034.jpg' -> '/content/DexiNed/data/0034.jpg'\n",
            "'/content/CIFAR-10-images/test/bird/0035.jpg' -> '/content/DexiNed/data/0035.jpg'\n",
            "'/content/CIFAR-10-images/test/bird/0036.jpg' -> '/content/DexiNed/data/0036.jpg'\n",
            "'/content/CIFAR-10-images/test/bird/0037.jpg' -> '/content/DexiNed/data/0037.jpg'\n",
            "'/content/CIFAR-10-images/test/bird/0038.jpg' -> '/content/DexiNed/data/0038.jpg'\n",
            "'/content/CIFAR-10-images/test/bird/0039.jpg' -> '/content/DexiNed/data/0039.jpg'\n",
            "'/content/CIFAR-10-images/test/bird/0040.jpg' -> '/content/DexiNed/data/0040.jpg'\n",
            "'/content/CIFAR-10-images/test/bird/0041.jpg' -> '/content/DexiNed/data/0041.jpg'\n",
            "'/content/CIFAR-10-images/test/bird/0042.jpg' -> '/content/DexiNed/data/0042.jpg'\n",
            "'/content/CIFAR-10-images/test/bird/0043.jpg' -> '/content/DexiNed/data/0043.jpg'\n",
            "'/content/CIFAR-10-images/test/bird/0044.jpg' -> '/content/DexiNed/data/0044.jpg'\n",
            "'/content/CIFAR-10-images/test/bird/0045.jpg' -> '/content/DexiNed/data/0045.jpg'\n",
            "'/content/CIFAR-10-images/test/bird/0046.jpg' -> '/content/DexiNed/data/0046.jpg'\n",
            "'/content/CIFAR-10-images/test/bird/0047.jpg' -> '/content/DexiNed/data/0047.jpg'\n",
            "'/content/CIFAR-10-images/test/bird/0048.jpg' -> '/content/DexiNed/data/0048.jpg'\n",
            "'/content/CIFAR-10-images/test/bird/0049.jpg' -> '/content/DexiNed/data/0049.jpg'\n",
            "'/content/CIFAR-10-images/test/bird/0050.jpg' -> '/content/DexiNed/data/0050.jpg'\n",
            "'/content/CIFAR-10-images/test/bird/0051.jpg' -> '/content/DexiNed/data/0051.jpg'\n",
            "'/content/CIFAR-10-images/test/bird/0052.jpg' -> '/content/DexiNed/data/0052.jpg'\n",
            "'/content/CIFAR-10-images/test/bird/0053.jpg' -> '/content/DexiNed/data/0053.jpg'\n",
            "'/content/CIFAR-10-images/test/bird/0054.jpg' -> '/content/DexiNed/data/0054.jpg'\n",
            "'/content/CIFAR-10-images/test/bird/0055.jpg' -> '/content/DexiNed/data/0055.jpg'\n",
            "'/content/CIFAR-10-images/test/bird/0056.jpg' -> '/content/DexiNed/data/0056.jpg'\n",
            "'/content/CIFAR-10-images/test/bird/0057.jpg' -> '/content/DexiNed/data/0057.jpg'\n",
            "'/content/CIFAR-10-images/test/bird/0058.jpg' -> '/content/DexiNed/data/0058.jpg'\n",
            "'/content/CIFAR-10-images/test/bird/0059.jpg' -> '/content/DexiNed/data/0059.jpg'\n",
            "'/content/CIFAR-10-images/test/bird/0060.jpg' -> '/content/DexiNed/data/0060.jpg'\n",
            "'/content/CIFAR-10-images/test/bird/0061.jpg' -> '/content/DexiNed/data/0061.jpg'\n",
            "'/content/CIFAR-10-images/test/bird/0062.jpg' -> '/content/DexiNed/data/0062.jpg'\n",
            "'/content/CIFAR-10-images/test/bird/0063.jpg' -> '/content/DexiNed/data/0063.jpg'\n",
            "'/content/CIFAR-10-images/test/bird/0064.jpg' -> '/content/DexiNed/data/0064.jpg'\n",
            "'/content/CIFAR-10-images/test/bird/0065.jpg' -> '/content/DexiNed/data/0065.jpg'\n",
            "'/content/CIFAR-10-images/test/bird/0066.jpg' -> '/content/DexiNed/data/0066.jpg'\n",
            "'/content/CIFAR-10-images/test/bird/0067.jpg' -> '/content/DexiNed/data/0067.jpg'\n",
            "'/content/CIFAR-10-images/test/bird/0068.jpg' -> '/content/DexiNed/data/0068.jpg'\n",
            "'/content/CIFAR-10-images/test/bird/0069.jpg' -> '/content/DexiNed/data/0069.jpg'\n",
            "'/content/CIFAR-10-images/test/bird/0070.jpg' -> '/content/DexiNed/data/0070.jpg'\n",
            "'/content/CIFAR-10-images/test/bird/0071.jpg' -> '/content/DexiNed/data/0071.jpg'\n",
            "'/content/CIFAR-10-images/test/bird/0072.jpg' -> '/content/DexiNed/data/0072.jpg'\n",
            "'/content/CIFAR-10-images/test/bird/0073.jpg' -> '/content/DexiNed/data/0073.jpg'\n",
            "'/content/CIFAR-10-images/test/bird/0074.jpg' -> '/content/DexiNed/data/0074.jpg'\n",
            "'/content/CIFAR-10-images/test/bird/0075.jpg' -> '/content/DexiNed/data/0075.jpg'\n",
            "'/content/CIFAR-10-images/test/bird/0076.jpg' -> '/content/DexiNed/data/0076.jpg'\n",
            "'/content/CIFAR-10-images/test/bird/0077.jpg' -> '/content/DexiNed/data/0077.jpg'\n",
            "'/content/CIFAR-10-images/test/bird/0078.jpg' -> '/content/DexiNed/data/0078.jpg'\n",
            "'/content/CIFAR-10-images/test/bird/0079.jpg' -> '/content/DexiNed/data/0079.jpg'\n",
            "'/content/CIFAR-10-images/test/bird/0080.jpg' -> '/content/DexiNed/data/0080.jpg'\n",
            "'/content/CIFAR-10-images/test/bird/0081.jpg' -> '/content/DexiNed/data/0081.jpg'\n",
            "'/content/CIFAR-10-images/test/bird/0082.jpg' -> '/content/DexiNed/data/0082.jpg'\n",
            "'/content/CIFAR-10-images/test/bird/0083.jpg' -> '/content/DexiNed/data/0083.jpg'\n",
            "'/content/CIFAR-10-images/test/bird/0084.jpg' -> '/content/DexiNed/data/0084.jpg'\n",
            "'/content/CIFAR-10-images/test/bird/0085.jpg' -> '/content/DexiNed/data/0085.jpg'\n",
            "'/content/CIFAR-10-images/test/bird/0086.jpg' -> '/content/DexiNed/data/0086.jpg'\n",
            "'/content/CIFAR-10-images/test/bird/0087.jpg' -> '/content/DexiNed/data/0087.jpg'\n",
            "'/content/CIFAR-10-images/test/bird/0088.jpg' -> '/content/DexiNed/data/0088.jpg'\n",
            "'/content/CIFAR-10-images/test/bird/0089.jpg' -> '/content/DexiNed/data/0089.jpg'\n",
            "'/content/CIFAR-10-images/test/bird/0090.jpg' -> '/content/DexiNed/data/0090.jpg'\n",
            "'/content/CIFAR-10-images/test/bird/0091.jpg' -> '/content/DexiNed/data/0091.jpg'\n",
            "'/content/CIFAR-10-images/test/bird/0092.jpg' -> '/content/DexiNed/data/0092.jpg'\n",
            "'/content/CIFAR-10-images/test/bird/0093.jpg' -> '/content/DexiNed/data/0093.jpg'\n",
            "'/content/CIFAR-10-images/test/bird/0094.jpg' -> '/content/DexiNed/data/0094.jpg'\n",
            "'/content/CIFAR-10-images/test/bird/0095.jpg' -> '/content/DexiNed/data/0095.jpg'\n",
            "'/content/CIFAR-10-images/test/bird/0096.jpg' -> '/content/DexiNed/data/0096.jpg'\n",
            "'/content/CIFAR-10-images/test/bird/0097.jpg' -> '/content/DexiNed/data/0097.jpg'\n",
            "'/content/CIFAR-10-images/test/bird/0098.jpg' -> '/content/DexiNed/data/0098.jpg'\n",
            "'/content/CIFAR-10-images/test/bird/0099.jpg' -> '/content/DexiNed/data/0099.jpg'\n",
            "Number of GPU's available: 1\n",
            "Pytorch version: 1.10.0+cu111\n",
            "mean_bgr: [103.939, 116.779, 123.68]\n",
            "/usr/local/lib/python3.7/dist-packages/torch/utils/data/dataloader.py:481: UserWarning: This DataLoader will create 16 worker processes in total. Our suggested max number of worker in current system is 2, which is smaller than what this DataLoader is going to create. Please be aware that excessive worker creation might get DataLoader running slow or even freeze, lower the worker number to avoid potential slowness/freeze if necessary.\n",
            "  cpuset_checked))\n",
            "output_dir: result/BIPED2CLASSIC\n",
            "Restoring weights from: checkpoints/BIPED/10/10_model.pth\n",
            "actual size: (32, 32, 3), target size: (512, 512)\n",
            "actual size: (32, 32, 3), target size: (512, 512)\n",
            "actual size: (32, 32, 3), target size: (512, 512)\n",
            "actual size: (32, 32, 3), target size: (512, 512)\n",
            "actual size: (32, 32, 3), target size: (512, 512)\n",
            "actual size: (32, 32, 3), target size: (512, 512)\n",
            "actual size: (32, 32, 3), target size: (512, 512)\n",
            "actual size: (32, 32, 3), target size: (512, 512)\n",
            "actual size: (32, 32, 3), target size: (512, 512)\n",
            "actual size: (32, 32, 3), target size: (512, 512)\n",
            "actual size: (32, 32, 3), target size: (512, 512)\n",
            "actual size: (32, 32, 3), target size: (512, 512)\n",
            "actual size: (32, 32, 3), target size: (512, 512)\n",
            "actual size: (32, 32, 3), target size: (512, 512)\n",
            "actual size: (32, 32, 3), target size: (512, 512)\n",
            "actual size: (32, 32, 3), target size: (512, 512)\n",
            "actual size: (32, 32, 3), target size: (512, 512)\n",
            "actual size: (32, 32, 3), target size: (512, 512)\n",
            "actual size: (32, 32, 3), target size: (512, 512)\n",
            "actual size: (32, 32, 3), target size: (512, 512)\n",
            "actual size: (32, 32, 3), target size: (512, 512)\n",
            "actual size: (32, 32, 3), target size: (512, 512)\n",
            "actual size: (32, 32, 3), target size: (512, 512)\n",
            "input tensor shape: torch.Size([1, 3, 512, 512])\n",
            "actual size: (32, 32, 3), target size: (512, 512)\n",
            "actual size: (32, 32, 3), target size: (512, 512)\n",
            "actual size: (32, 32, 3), target size: (512, 512)\n",
            "actual size: (32, 32, 3), target size: (512, 512)\n",
            "actual size: (32, 32, 3), target size: (512, 512)\n",
            "actual size: (32, 32, 3), target size: (512, 512)\n",
            "actual size: (32, 32, 3), target size: (512, 512)\n",
            "actual size: (32, 32, 3), target size: (512, 512)\n",
            "actual size: (32, 32, 3), target size: (512, 512)\n",
            "actual size: (32, 32, 3), target size: (512, 512)\n",
            "actual size: (32, 32, 3), target size: (512, 512)\n",
            "input tensor shape: torch.Size([1, 3, 512, 512])\n",
            "actual size: (32, 32, 3), target size: (512, 512)\n",
            "input tensor shape: torch.Size([1, 3, 512, 512])\n",
            "actual size: (32, 32, 3), target size: (512, 512)\n",
            "input tensor shape: torch.Size([1, 3, 512, 512])\n",
            "actual size: (32, 32, 3), target size: (512, 512)\n",
            "input tensor shape: torch.Size([1, 3, 512, 512])\n",
            "actual size: (32, 32, 3), target size: (512, 512)\n",
            "input tensor shape: torch.Size([1, 3, 512, 512])\n",
            "actual size: (32, 32, 3), target size: (512, 512)\n",
            "input tensor shape: torch.Size([1, 3, 512, 512])\n",
            "actual size: (32, 32, 3), target size: (512, 512)\n",
            "input tensor shape: torch.Size([1, 3, 512, 512])\n",
            "actual size: (32, 32, 3), target size: (512, 512)\n",
            "input tensor shape: torch.Size([1, 3, 512, 512])\n",
            "actual size: (32, 32, 3), target size: (512, 512)\n",
            "input tensor shape: torch.Size([1, 3, 512, 512])\n",
            "actual size: (32, 32, 3), target size: (512, 512)\n",
            "input tensor shape: torch.Size([1, 3, 512, 512])\n",
            "actual size: (32, 32, 3), target size: (512, 512)\n",
            "input tensor shape: torch.Size([1, 3, 512, 512])\n",
            "actual size: (32, 32, 3), target size: (512, 512)\n",
            "input tensor shape: torch.Size([1, 3, 512, 512])\n",
            "actual size: (32, 32, 3), target size: (512, 512)\n",
            "input tensor shape: torch.Size([1, 3, 512, 512])\n",
            "actual size: (32, 32, 3), target size: (512, 512)\n",
            "input tensor shape: torch.Size([1, 3, 512, 512])\n",
            "actual size: (32, 32, 3), target size: (512, 512)\n",
            "input tensor shape: torch.Size([1, 3, 512, 512])\n",
            "actual size: (32, 32, 3), target size: (512, 512)\n",
            "input tensor shape: torch.Size([1, 3, 512, 512])\n",
            "input tensor shape: torch.Size([1, 3, 512, 512])\n",
            "actual size: (32, 32, 3), target size: (512, 512)\n",
            "actual size: (32, 32, 3), target size: (512, 512)\n",
            "input tensor shape: torch.Size([1, 3, 512, 512])\n",
            "Traceback (most recent call last):\n",
            "  File \"/content/DexiNed/main.py\", line 470, in <module>\n",
            "    main(args)\n",
            "  File \"/content/DexiNed/main.py\", line 399, in main\n",
            "    test(checkpoint_path, dataloader_val, model, device, output_dir, args)\n",
            "  File \"/content/DexiNed/main.py\", line 142, in test\n",
            "    torch.cuda.empty_cache()\n",
            "  File \"/usr/local/lib/python3.7/dist-packages/torch/cuda/memory.py\", line 114, in empty_cache\n",
            "    torch._C._cuda_emptyCache()\n",
            "KeyboardInterrupt\n"
          ]
        },
        {
          "output_type": "error",
          "ename": "CalledProcessError",
          "evalue": "ignored",
          "traceback": [
            "\u001b[0;31m---------------------------------------------------------------------------\u001b[0m",
            "\u001b[0;31mCalledProcessError\u001b[0m                        Traceback (most recent call last)",
            "\u001b[0;32m<ipython-input-10-d3cc2812e54a>\u001b[0m in \u001b[0;36m<module>\u001b[0;34m()\u001b[0m\n\u001b[0;32m----> 1\u001b[0;31m \u001b[0mget_ipython\u001b[0m\u001b[0;34m(\u001b[0m\u001b[0;34m)\u001b[0m\u001b[0;34m.\u001b[0m\u001b[0mrun_cell_magic\u001b[0m\u001b[0;34m(\u001b[0m\u001b[0;34m'shell'\u001b[0m\u001b[0;34m,\u001b[0m \u001b[0;34m''\u001b[0m\u001b[0;34m,\u001b[0m \u001b[0;34m'cd /content/DexiNed/\\n# data_dir = \"/content/CIFAR-10-images\"\\nfor dir in /content/CIFAR-10-images/test/*/    # list directories in the form \"/tmp/dirname/\"\\ndo\\n    dir=${dir%*/}      # remove the trailing \"/\"\\n    mkdir -p \"/content/CIFAR-10-edges/test/${dir##*/}\"\\n\\n    rm -rf /content/DexiNed/data/*\\n    rm -rf /content/DexiNed/result/\\n\\n    cp -v `ls -d /content/CIFAR-10-images/test/${dir##*/}/* | head -100` /content/DexiNed/data\\n\\n    python /content/DexiNed/main.py --choose_test_data=-1\\n\\n    mv -v /content/DexiNed/result/BIPED2CLASSIC/fused/* /content/CIFAR-10-edges/test/${dir##*/}/\\n    \\n    echo \"${dir##*/}\"    # print everything after the final \"/\"\\ndone\\n\\ncd /content/'\u001b[0m\u001b[0;34m)\u001b[0m\u001b[0;34m\u001b[0m\u001b[0;34m\u001b[0m\u001b[0m\n\u001b[0m",
            "\u001b[0;32m/usr/local/lib/python3.7/dist-packages/IPython/core/interactiveshell.py\u001b[0m in \u001b[0;36mrun_cell_magic\u001b[0;34m(self, magic_name, line, cell)\u001b[0m\n\u001b[1;32m   2115\u001b[0m             \u001b[0mmagic_arg_s\u001b[0m \u001b[0;34m=\u001b[0m \u001b[0mself\u001b[0m\u001b[0;34m.\u001b[0m\u001b[0mvar_expand\u001b[0m\u001b[0;34m(\u001b[0m\u001b[0mline\u001b[0m\u001b[0;34m,\u001b[0m \u001b[0mstack_depth\u001b[0m\u001b[0;34m)\u001b[0m\u001b[0;34m\u001b[0m\u001b[0;34m\u001b[0m\u001b[0m\n\u001b[1;32m   2116\u001b[0m             \u001b[0;32mwith\u001b[0m \u001b[0mself\u001b[0m\u001b[0;34m.\u001b[0m\u001b[0mbuiltin_trap\u001b[0m\u001b[0;34m:\u001b[0m\u001b[0;34m\u001b[0m\u001b[0;34m\u001b[0m\u001b[0m\n\u001b[0;32m-> 2117\u001b[0;31m                 \u001b[0mresult\u001b[0m \u001b[0;34m=\u001b[0m \u001b[0mfn\u001b[0m\u001b[0;34m(\u001b[0m\u001b[0mmagic_arg_s\u001b[0m\u001b[0;34m,\u001b[0m \u001b[0mcell\u001b[0m\u001b[0;34m)\u001b[0m\u001b[0;34m\u001b[0m\u001b[0;34m\u001b[0m\u001b[0m\n\u001b[0m\u001b[1;32m   2118\u001b[0m             \u001b[0;32mreturn\u001b[0m \u001b[0mresult\u001b[0m\u001b[0;34m\u001b[0m\u001b[0;34m\u001b[0m\u001b[0m\n\u001b[1;32m   2119\u001b[0m \u001b[0;34m\u001b[0m\u001b[0m\n",
            "\u001b[0;32m/usr/local/lib/python3.7/dist-packages/google/colab/_system_commands.py\u001b[0m in \u001b[0;36m_shell_cell_magic\u001b[0;34m(args, cmd)\u001b[0m\n\u001b[1;32m    111\u001b[0m   \u001b[0mresult\u001b[0m \u001b[0;34m=\u001b[0m \u001b[0m_run_command\u001b[0m\u001b[0;34m(\u001b[0m\u001b[0mcmd\u001b[0m\u001b[0;34m,\u001b[0m \u001b[0mclear_streamed_output\u001b[0m\u001b[0;34m=\u001b[0m\u001b[0;32mFalse\u001b[0m\u001b[0;34m)\u001b[0m\u001b[0;34m\u001b[0m\u001b[0;34m\u001b[0m\u001b[0m\n\u001b[1;32m    112\u001b[0m   \u001b[0;32mif\u001b[0m \u001b[0;32mnot\u001b[0m \u001b[0mparsed_args\u001b[0m\u001b[0;34m.\u001b[0m\u001b[0mignore_errors\u001b[0m\u001b[0;34m:\u001b[0m\u001b[0;34m\u001b[0m\u001b[0;34m\u001b[0m\u001b[0m\n\u001b[0;32m--> 113\u001b[0;31m     \u001b[0mresult\u001b[0m\u001b[0;34m.\u001b[0m\u001b[0mcheck_returncode\u001b[0m\u001b[0;34m(\u001b[0m\u001b[0;34m)\u001b[0m\u001b[0;34m\u001b[0m\u001b[0;34m\u001b[0m\u001b[0m\n\u001b[0m\u001b[1;32m    114\u001b[0m   \u001b[0;32mreturn\u001b[0m \u001b[0mresult\u001b[0m\u001b[0;34m\u001b[0m\u001b[0;34m\u001b[0m\u001b[0m\n\u001b[1;32m    115\u001b[0m \u001b[0;34m\u001b[0m\u001b[0m\n",
            "\u001b[0;32m/usr/local/lib/python3.7/dist-packages/google/colab/_system_commands.py\u001b[0m in \u001b[0;36mcheck_returncode\u001b[0;34m(self)\u001b[0m\n\u001b[1;32m    137\u001b[0m     \u001b[0;32mif\u001b[0m \u001b[0mself\u001b[0m\u001b[0;34m.\u001b[0m\u001b[0mreturncode\u001b[0m\u001b[0;34m:\u001b[0m\u001b[0;34m\u001b[0m\u001b[0;34m\u001b[0m\u001b[0m\n\u001b[1;32m    138\u001b[0m       raise subprocess.CalledProcessError(\n\u001b[0;32m--> 139\u001b[0;31m           returncode=self.returncode, cmd=self.args, output=self.output)\n\u001b[0m\u001b[1;32m    140\u001b[0m \u001b[0;34m\u001b[0m\u001b[0m\n\u001b[1;32m    141\u001b[0m   \u001b[0;32mdef\u001b[0m \u001b[0m_repr_pretty_\u001b[0m\u001b[0;34m(\u001b[0m\u001b[0mself\u001b[0m\u001b[0;34m,\u001b[0m \u001b[0mp\u001b[0m\u001b[0;34m,\u001b[0m \u001b[0mcycle\u001b[0m\u001b[0;34m)\u001b[0m\u001b[0;34m:\u001b[0m  \u001b[0;31m# pylint:disable=unused-argument\u001b[0m\u001b[0;34m\u001b[0m\u001b[0;34m\u001b[0m\u001b[0m\n",
            "\u001b[0;31mCalledProcessError\u001b[0m: Command 'cd /content/DexiNed/\n# data_dir = \"/content/CIFAR-10-images\"\nfor dir in /content/CIFAR-10-images/test/*/    # list directories in the form \"/tmp/dirname/\"\ndo\n    dir=${dir%*/}      # remove the trailing \"/\"\n    mkdir -p \"/content/CIFAR-10-edges/test/${dir##*/}\"\n\n    rm -rf /content/DexiNed/data/*\n    rm -rf /content/DexiNed/result/\n\n    cp -v `ls -d /content/CIFAR-10-images/test/${dir##*/}/* | head -100` /content/DexiNed/data\n\n    python /content/DexiNed/main.py --choose_test_data=-1\n\n    mv -v /content/DexiNed/result/BIPED2CLASSIC/fused/* /content/CIFAR-10-edges/test/${dir##*/}/\n    \n    echo \"${dir##*/}\"    # print everything after the final \"/\"\ndone\n\ncd /content/' died with <Signals.SIGTERM: 15>."
          ]
        }
      ]
    },
    {
      "cell_type": "markdown",
      "source": [
        "running edge detection on train dataset and storing results"
      ],
      "metadata": {
        "id": "USOizLlMpeGe"
      }
    },
    {
      "cell_type": "code",
      "source": [
        "%%shell\n",
        "cd /content/DexiNed/\n",
        "# data_dir = \"/content/CIFAR-10-images\"\n",
        "for dir in /content/CIFAR-10-images/train/*/    # list directories in the form \"/tmp/dirname/\"\n",
        "do\n",
        "    dir=${dir%*/}      # remove the trailing \"/\"\n",
        "    mkdir -p \"/content/CIFAR-10-edges/train/${dir##*/}\"\n",
        "\n",
        "    rm -rf /content/DexiNed/data/*\n",
        "    rm -rf /content/DexiNed/result/\n",
        "\n",
        "    cp -v `ls -d /content/CIFAR-10-images/train/${dir##*/}/* | head -200` /content/DexiNed/data\n",
        "\n",
        "    python /content/DexiNed/main.py --choose_test_data=-1\n",
        "\n",
        "    mv -v /content/DexiNed/result/BIPED2CLASSIC/fused/* /content/CIFAR-10-edges/train/${dir##*/}/\n",
        "    \n",
        "    echo \"${dir##*/}\"    # print everything after the final \"/\"\n",
        "done\n",
        "do\n",
        "    dir=${dir%*/}      # remove the trailing \"/\"\n",
        "    mkdir -p \"/content/CIFAR-10-edges/train/${dir##*/}\"\n",
        "\n",
        "    rm -rf /content/DexiNed/data/*\n",
        "    rm -rf /content/DexiNed/result/\n",
        "\n",
        "    cp -v `ls -d /content/CIFAR-10-images/train/${dir##*/}/* | tail -400` /content/DexiNed/data\n",
        "\n",
        "    python /content/DexiNed/main.py --choose_test_data=-1\n",
        "\n",
        "    mv -v /content/DexiNed/result/BIPED2CLASSIC/fused/* /content/CIFAR-10-edges/train/${dir##*/}/\n",
        "    \n",
        "    echo \"${dir##*/}\"    # print everything after the final \"/\"\n",
        "done\n",
        "\n",
        "cd /content/"
      ],
      "metadata": {
        "id": "GUR3J6MoptzJ"
      },
      "execution_count": null,
      "outputs": []
    },
    {
      "cell_type": "markdown",
      "source": [
        "# Edges and Edge-enhanced Images \n"
      ],
      "metadata": {
        "id": "yfoGjBYdIDA9"
      }
    },
    {
      "cell_type": "code",
      "source": [
        "import matplotlib.pyplot as plt\n",
        "import numpy as np\n",
        "import os\n",
        "import cv2\n",
        "from natsort import natsorted as nsort\n",
        "%matplotlib inline"
      ],
      "metadata": {
        "id": "DgMZqUZBIBBZ"
      },
      "execution_count": null,
      "outputs": []
    },
    {
      "cell_type": "code",
      "source": [
        "#combined\n",
        "images_path = nsort([image for image in os.listdir(os.path.join('CIFAR-10-edges','train','ship')) if image.startswith('0')])\n",
        "input_path = nsort([image for image in os.listdir(os.path.join('CIFAR-10-images','train','ship')) if image.startswith('0')])\n",
        "\n",
        "\n",
        "fig = plt.figure(figsize=(10,2))\n",
        "\n",
        "# setting values to rows and column variables\n",
        "rows = 3\n",
        "columns = 20\n",
        "\n",
        "for i in range(columns):\n",
        "  fig.add_subplot(rows, columns, i+1)\n",
        "  image = cv2.imread(os.path.join(os.path.join('CIFAR-10-images','train','airplane',input_path[i])))\n",
        "  plt.imshow(image)\n",
        "  plt.axis('off')\n",
        "  \n",
        "#edges\n",
        "for i in range(columns, 2*columns):\n",
        "  fig.add_subplot(rows, columns, i+1)\n",
        "  image = cv2.imread(os.path.join(os.path.join('CIFAR-10-edges','train','airplane',images_path[i-columns])))\n",
        "  plt.imshow(image)\n",
        "  plt.axis('off')\n",
        "\n",
        "# edge enhanced images\n",
        "for i in range(2*columns, 3*columns):\n",
        "  fig.add_subplot(rows, columns, i+1)\n",
        "  original = cv2.imread(os.path.join(os.path.join('CIFAR-10-images','train','airplane',input_path[i-2*columns])))\n",
        "  edges = cv2.imread(os.path.join(os.path.join('CIFAR-10-edges','train','airplane',images_path[i-2*columns])))\n",
        "  img2 = original.copy()\n",
        "  img2[edges[:,:,0] <= 200] = [0, 0, 0]  \n",
        "  plt.imshow(img2)\n",
        "  plt.axis('off')\n",
        "\n"
      ],
      "metadata": {
        "id": "OJyqDEYxJBN0",
        "colab": {
          "base_uri": "https://localhost:8080/",
          "height": 131
        },
        "outputId": "c925a713-cc1c-4e73-fdf9-5cf023cea663"
      },
      "execution_count": null,
      "outputs": [
        {
          "output_type": "display_data",
          "data": {
            "image/png": "[encoded data removed]",
            "text/plain": [
              "<Figure size 720x144 with 60 Axes>"
            ]
          },
          "metadata": {
            "needs_background": "light"
          }
        }
      ]
    },
    {
      "cell_type": "markdown",
      "source": [
        "##Individual Exapmles"
      ],
      "metadata": {
        "id": "Xpzet0wlHjvc"
      }
    },
    {
      "cell_type": "code",
      "source": [
        "#Original image\n",
        "img = cv2.imread(os.path.join(os.path.join('CIFAR-10-images','train','airplane',input_path[7])))  # creat RGB image from grayscale\n",
        "plt.imshow(img)\n"
      ],
      "metadata": {
        "colab": {
          "base_uri": "https://localhost:8080/",
          "height": 282
        },
        "outputId": "f5910b50-e288-4c47-d3c0-b4f73c47f0ef",
        "id": "77UdGLCWKJ--"
      },
      "execution_count": null,
      "outputs": [
        {
          "output_type": "execute_result",
          "data": {
            "text/plain": [
              "<matplotlib.image.AxesImage at 0x7f7589892ed0>"
            ]
          },
          "metadata": {},
          "execution_count": 14
        },
        {
          "output_type": "display_data",
          "data": {
            "image/png": "[encoded data removed]",
            "text/plain": [
              "<Figure size 432x288 with 1 Axes>"
            ]
          },
          "metadata": {
            "needs_background": "light"
          }
        }
      ]
    },
    {
      "cell_type": "code",
      "source": [
        "#detected edge\n",
        "edges = cv2.imread(os.path.join(os.path.join('CIFAR-10-edges','train','airplane',images_path[7])))\n",
        "plt.imshow(edges)"
      ],
      "metadata": {
        "colab": {
          "base_uri": "https://localhost:8080/",
          "height": 282
        },
        "id": "HwszXZM0HwpE",
        "outputId": "4e7ce663-3fb1-42da-f9ae-3b888d835927"
      },
      "execution_count": null,
      "outputs": [
        {
          "output_type": "execute_result",
          "data": {
            "text/plain": [
              "<matplotlib.image.AxesImage at 0x7f7589807310>"
            ]
          },
          "metadata": {},
          "execution_count": 15
        },
        {
          "output_type": "display_data",
          "data": {
            "image/png": "[encoded data removed]",
            "text/plain": [
              "<Figure size 432x288 with 1 Axes>"
            ]
          },
          "metadata": {
            "needs_background": "light"
          }
        }
      ]
    },
    {
      "cell_type": "code",
      "source": [
        "#Edge-enhanced image\n",
        "img2 = img.copy()\n",
        "img2[edges[:,:,0] <= 200] = [0, 0, 0]  \n",
        "plt.imshow(img2)"
      ],
      "metadata": {
        "colab": {
          "base_uri": "https://localhost:8080/",
          "height": 282
        },
        "id": "g9qEiSJiH9VJ",
        "outputId": "494ba4df-8ff4-4c0c-aaec-9f7452ea3af0"
      },
      "execution_count": null,
      "outputs": [
        {
          "output_type": "execute_result",
          "data": {
            "text/plain": [
              "<matplotlib.image.AxesImage at 0x7f75897f3650>"
            ]
          },
          "metadata": {},
          "execution_count": 16
        },
        {
          "output_type": "display_data",
          "data": {
            "image/png": "[encoded data removed]",
            "text/plain": [
              "<Figure size 432x288 with 1 Axes>"
            ]
          },
          "metadata": {
            "needs_background": "light"
          }
        }
      ]
    },
    {
      "cell_type": "code",
      "source": [
        "#another example\n",
        "img = cv2.imread(os.path.join(os.path.join('CIFAR-10-images','train','airplane',input_path[12])))\n",
        "edges = cv2.imread(os.path.join(os.path.join('CIFAR-10-edges','train','airplane',images_path[12])))\n",
        "img2 = img.copy()\n",
        "img2[edges[:,:,0] <= 200] = [0, 0, 0]  \n",
        "plt.imshow(img2)"
      ],
      "metadata": {
        "colab": {
          "base_uri": "https://localhost:8080/",
          "height": 282
        },
        "id": "b5Nx6mwhIjZ3",
        "outputId": "7a73dd03-25c6-4ce1-96f7-312a9757401b"
      },
      "execution_count": null,
      "outputs": [
        {
          "output_type": "execute_result",
          "data": {
            "text/plain": [
              "<matplotlib.image.AxesImage at 0x7f7589a59b50>"
            ]
          },
          "metadata": {},
          "execution_count": 10
        },
        {
          "output_type": "display_data",
          "data": {
            "image/png": "[encoded data removed]",
            "text/plain": [
              "<Figure size 432x288 with 1 Axes>"
            ]
          },
          "metadata": {
            "needs_background": "light"
          }
        }
      ]
    },
    {
      "cell_type": "markdown",
      "source": [
        "##Saving edge enhanced images for further problems"
      ],
      "metadata": {
        "id": "EQXgX5H7aqeB"
      }
    },
    {
      "cell_type": "code",
      "source": [
        "%mkdir -p /content/CIFAR-10-enhanced/train/\n",
        "\n",
        "data_dir1 = '/content/CIFAR-10-images/'\n",
        "data_dir2 = '/content/CIFAR-10-edges/'\n",
        "\n",
        "#print(os.listdir(data_dir))\n",
        "classes = os.listdir(data_dir1 + \"/train\")\n",
        "print(classes)"
      ],
      "metadata": {
        "id": "AY61XA2fdOsx",
        "colab": {
          "base_uri": "https://localhost:8080/"
        },
        "outputId": "899b72a9-56c9-48c4-b581-5b725e236758"
      },
      "execution_count": null,
      "outputs": [
        {
          "output_type": "stream",
          "name": "stdout",
          "text": [
            "['dog', 'automobile', 'airplane', 'frog', 'cat', 'truck', 'horse', 'bird', 'ship', 'deer']\n"
          ]
        }
      ]
    },
    {
      "cell_type": "code",
      "source": [
        "for x in classes:\n",
        "  path = os.path.join('CIFAR-10-enhanced', 'train', x)\n",
        "  os.mkdir(path)\n",
        "\n",
        "  images_path = nsort([image for image in os.listdir(os.path.join('CIFAR-10-edges','train',x))])\n",
        "  input_path = nsort([image for image in os.listdir(os.path.join('CIFAR-10-images','train',x))])\n",
        "\n",
        "  \n",
        "  for i in range(len(images_path)):\n",
        "    original = cv2.imread(os.path.join(os.path.join('CIFAR-10-images', 'train', x, input_path[i])))\n",
        "    if i>=200:\n",
        "      original = cv2.imread(os.path.join(os.path.join('CIFAR-10-images', 'train', x, input_path[i+4400])))\n",
        "\n",
        "    edges = cv2.imread(os.path.join(os.path.join('CIFAR-10-edges', 'train', x, images_path[i])))\n",
        "    img2 = original.copy()\n",
        "    img2[edges[:,:,0] <= 200] = [0, 0, 0]  \n",
        "    cv2.imwrite(os.path.join(path, images_path[i]), img2)\n",
        "  "
      ],
      "metadata": {
        "id": "ETgC-4nja35e"
      },
      "execution_count": null,
      "outputs": []
    },
    {
      "cell_type": "code",
      "source": [
        "%mkdir -p /content/CIFAR-10-enhanced/test/\n",
        "\n",
        "data_dir1 = '/content/CIFAR-10-images/'\n",
        "data_dir2 = '/content/CIFAR-10-edges/'\n",
        "\n",
        "#print(os.listdir(data_dir))\n",
        "classes = os.listdir(data_dir1 + \"/test\")\n",
        "print(classes)"
      ],
      "metadata": {
        "id": "v08SA2qqJw-X",
        "colab": {
          "base_uri": "https://localhost:8080/"
        },
        "outputId": "1e67472a-9151-483c-88ed-8d269e163684"
      },
      "execution_count": null,
      "outputs": [
        {
          "output_type": "stream",
          "name": "stdout",
          "text": [
            "['dog', 'automobile', 'airplane', 'frog', 'cat', 'truck', 'horse', 'bird', 'ship', 'deer']\n"
          ]
        }
      ]
    },
    {
      "cell_type": "code",
      "source": [
        "for x in classes:\n",
        "  path = os.path.join('CIFAR-10-enhanced', 'test', x)\n",
        "  os.mkdir(path)\n",
        "\n",
        "  images_path = nsort([image for image in os.listdir(os.path.join('CIFAR-10-edges','test',x))])\n",
        "  input_path = nsort([image for image in os.listdir(os.path.join('CIFAR-10-images','test',x))])\n",
        "\n",
        "  \n",
        "  for i in range(len(images_path)):\n",
        "    original = cv2.imread(os.path.join(os.path.join('CIFAR-10-images', 'test', x, input_path[i])))\n",
        "    if i>=200:\n",
        "      original = cv2.imread(os.path.join(os.path.join('CIFAR-10-images', 'test', x, input_path[i+4400])))\n",
        "\n",
        "    edges = cv2.imread(os.path.join(os.path.join('CIFAR-10-edges', 'test', x, images_path[i])))\n",
        "    img2 = original.copy()\n",
        "    img2[edges[:,:,0] <= 200] = [0, 0, 0]  \n",
        "    cv2.imwrite(os.path.join(path, images_path[i]), img2)\n",
        "  "
      ],
      "metadata": {
        "id": "2b-baphvJw-Y"
      },
      "execution_count": null,
      "outputs": []
    },
    {
      "cell_type": "markdown",
      "source": [
        "#Problem 6"
      ],
      "metadata": {
        "id": "AarLnBMJdlWn"
      }
    },
    {
      "cell_type": "code",
      "source": [
        "import os\n",
        "import torch\n",
        "import torchvision\n",
        "import tarfile\n",
        "import torch.nn as nn\n",
        "import numpy as np\n",
        "import torch.nn.functional as F\n",
        "from torchvision.datasets.utils import download_url\n",
        "from torchvision.datasets import ImageFolder\n",
        "from torch.utils.data import DataLoader\n",
        "import torchvision.transforms as tt\n",
        "from torch.utils.data import random_split\n",
        "from torchvision.utils import make_grid\n",
        "import matplotlib.pyplot as plt\n",
        "%matplotlib inline"
      ],
      "metadata": {
        "id": "0KbWF0g6k4Wf"
      },
      "execution_count": null,
      "outputs": []
    },
    {
      "cell_type": "code",
      "source": [
        "# Look into the data directory\n",
        "data_dir = '/content/CIFAR-10-edges'\n",
        "print(os.listdir(data_dir))\n",
        "classes = os.listdir(data_dir + \"/train\")\n",
        "print(classes)"
      ],
      "metadata": {
        "id": "vhkZPlWLtjfk",
        "colab": {
          "base_uri": "https://localhost:8080/"
        },
        "outputId": "32bc82a9-6124-48ee-bf8f-2f250b278c29"
      },
      "execution_count": null,
      "outputs": [
        {
          "output_type": "stream",
          "name": "stdout",
          "text": [
            "['test', 'train']\n",
            "['dog', 'automobile', 'airplane', 'frog', 'cat', 'truck', 'horse', 'bird', 'ship', 'deer']\n"
          ]
        }
      ]
    },
    {
      "cell_type": "code",
      "source": [
        "# Data transforms (normalization & data augmentation)\n",
        "stats = ((0.4914, 0.4822, 0.4465), (0.2023, 0.1994, 0.2010))\n",
        "train_tfms = tt.Compose([tt.RandomCrop(32, padding=4, padding_mode='reflect'), \n",
        "                         tt.RandomHorizontalFlip(), \n",
        "                         tt.ToTensor(), \n",
        "                         tt.Normalize(*stats,inplace=True)])\n",
        "valid_tfms = tt.Compose([tt.ToTensor(), tt.Normalize(*stats)])\n",
        "\n",
        "# PyTorch datasets\n",
        "train_ds = ImageFolder(data_dir+'/train', train_tfms)\n",
        "valid_ds = ImageFolder(data_dir+'/test', valid_tfms)\n",
        "\n",
        "batch_size = 400\n",
        "\n",
        "# PyTorch data loaders\n",
        "train_dl = DataLoader(train_ds, batch_size, shuffle=True, num_workers=2, pin_memory=True)\n",
        "valid_dl = DataLoader(valid_ds, batch_size*2, num_workers=2, pin_memory=True)\n",
        "\n"
      ],
      "metadata": {
        "id": "tAQdlePBt_DR"
      },
      "execution_count": null,
      "outputs": []
    },
    {
      "cell_type": "code",
      "source": [
        "def get_default_device():\n",
        "    \"\"\"Pick GPU if available, else CPU\"\"\"\n",
        "    if torch.cuda.is_available():\n",
        "        return torch.device('cuda')\n",
        "    else:\n",
        "        return torch.device('cpu')\n",
        "    \n",
        "def to_device(data, device):\n",
        "    \"\"\"Move tensor(s) to chosen device\"\"\"\n",
        "    if isinstance(data, (list,tuple)):\n",
        "        return [to_device(x, device) for x in data]\n",
        "    return data.to(device, non_blocking=True)\n",
        "\n",
        "class DeviceDataLoader():\n",
        "    \"\"\"Wrap a dataloader to move data to a device\"\"\"\n",
        "    def __init__(self, dl, device):\n",
        "        self.dl = dl\n",
        "        self.device = device\n",
        "        \n",
        "    def __iter__(self):\n",
        "        \"\"\"Yield a batch of data after moving it to device\"\"\"\n",
        "        for b in self.dl: \n",
        "            yield to_device(b, self.device)\n",
        "\n",
        "    def __len__(self):\n",
        "        \"\"\"Number of batches\"\"\"\n",
        "        return len(self.dl)"
      ],
      "metadata": {
        "id": "UACoGzg5udLu"
      },
      "execution_count": null,
      "outputs": []
    },
    {
      "cell_type": "code",
      "source": [
        "device = get_default_device()\n",
        "device"
      ],
      "metadata": {
        "id": "aDBI06rEugU1",
        "colab": {
          "base_uri": "https://localhost:8080/"
        },
        "outputId": "50bc28ad-942c-4351-ed65-fe6e1892bbc9"
      },
      "execution_count": null,
      "outputs": [
        {
          "output_type": "execute_result",
          "data": {
            "text/plain": [
              "device(type='cuda')"
            ]
          },
          "metadata": {},
          "execution_count": 26
        }
      ]
    },
    {
      "cell_type": "code",
      "source": [
        "train_dl = DeviceDataLoader(train_dl, device)\n",
        "valid_dl = DeviceDataLoader(valid_dl, device)\n",
        "\n",
        "class SimpleResidualBlock(nn.Module):\n",
        "    def __init__(self):\n",
        "        super().__init__()\n",
        "        self.conv1 = nn.Conv2d(in_channels=3, out_channels=3, kernel_size=3, stride=1, padding=1)\n",
        "        self.relu1 = nn.ReLU()\n",
        "        self.conv2 = nn.Conv2d(in_channels=3, out_channels=3, kernel_size=3, stride=1, padding=1)\n",
        "        self.relu2 = nn.ReLU()\n",
        "        \n",
        "    def forward(self, x):\n",
        "        out = self.conv1(x)\n",
        "        out = self.relu1(out)\n",
        "        out = self.conv2(out)\n",
        "        return self.relu2(out) + x # ReLU can be applied before or after adding the input\n",
        "\n",
        "simple_resnet = to_device(SimpleResidualBlock(), device)\n",
        "\n",
        "for images, labels in train_dl:\n",
        "    out = simple_resnet(images)\n",
        "    print(out.shape)\n",
        "    break\n",
        "    \n",
        "del simple_resnet, images, labels\n",
        "torch.cuda.empty_cache()"
      ],
      "metadata": {
        "id": "F4sQ6zIzuj3d",
        "colab": {
          "base_uri": "https://localhost:8080/"
        },
        "outputId": "fec809eb-4c41-4be5-eb23-a3e79f02ce07"
      },
      "execution_count": null,
      "outputs": [
        {
          "output_type": "stream",
          "name": "stdout",
          "text": [
            "torch.Size([400, 3, 32, 32])\n"
          ]
        }
      ]
    },
    {
      "cell_type": "code",
      "source": [
        "def accuracy(outputs, labels):\n",
        "    _, preds = torch.max(outputs, dim=1)\n",
        "    return torch.tensor(torch.sum(preds == labels).item() / len(preds))\n",
        "\n",
        "class ImageClassificationBase(nn.Module):\n",
        "    def training_step(self, batch):\n",
        "        images, labels = batch \n",
        "        out = self(images)                  # Generate predictions\n",
        "        loss = F.cross_entropy(out, labels) # Calculate loss\n",
        "        return loss\n",
        "    \n",
        "    def validation_step(self, batch):\n",
        "        images, labels = batch \n",
        "        out = self(images)                    # Generate predictions\n",
        "        loss = F.cross_entropy(out, labels)   # Calculate loss\n",
        "        acc = accuracy(out, labels)           # Calculate accuracy\n",
        "        return {'val_loss': loss.detach(), 'val_acc': acc}\n",
        "        \n",
        "    def validation_epoch_end(self, outputs):\n",
        "        batch_losses = [x['val_loss'] for x in outputs]\n",
        "        epoch_loss = torch.stack(batch_losses).mean()   # Combine losses\n",
        "        batch_accs = [x['val_acc'] for x in outputs]\n",
        "        epoch_acc = torch.stack(batch_accs).mean()      # Combine accuracies\n",
        "        return {'val_loss': epoch_loss.item(), 'val_acc': epoch_acc.item()}\n",
        "    \n",
        "    def epoch_end(self, epoch, result):\n",
        "        print(\"Epoch [{}], last_lr: {:.5f}, train_loss: {:.4f}, val_loss: {:.4f}, val_acc: {:.4f}\".format(\n",
        "            epoch, result['lrs'][-1], result['train_loss'], result['val_loss'], result['val_acc']))"
      ],
      "metadata": {
        "id": "mwuNnygduwRT"
      },
      "execution_count": null,
      "outputs": []
    },
    {
      "cell_type": "code",
      "source": [
        "def conv_block(in_channels, out_channels, pool=False):\n",
        "    layers = [nn.Conv2d(in_channels, out_channels, kernel_size=3, padding=1), \n",
        "              nn.BatchNorm2d(out_channels), \n",
        "              nn.ReLU(inplace=True)]\n",
        "    if pool: layers.append(nn.MaxPool2d(2))\n",
        "    return nn.Sequential(*layers)\n",
        "\n",
        "class ResNet9(ImageClassificationBase):\n",
        "    def __init__(self, in_channels, num_classes):\n",
        "        super().__init__()\n",
        "        \n",
        "        self.conv1 = conv_block(in_channels, 64)\n",
        "        self.conv2 = conv_block(64, 128, pool=True)\n",
        "        self.res1 = nn.Sequential(conv_block(128, 128), conv_block(128, 128))\n",
        "        \n",
        "        self.conv3 = conv_block(128, 256, pool=True)\n",
        "        self.conv4 = conv_block(256, 512, pool=True)\n",
        "        self.res2 = nn.Sequential(conv_block(512, 512), conv_block(512, 512))\n",
        "        \n",
        "        self.classifier = nn.Sequential(nn.MaxPool2d(4), \n",
        "                                        nn.Flatten(), \n",
        "                                        nn.Linear(512, num_classes))\n",
        "        \n",
        "    def forward(self, xb):\n",
        "        out = self.conv1(xb)\n",
        "        out = self.conv2(out)\n",
        "        out = self.res1(out) + out\n",
        "        out = self.conv3(out)\n",
        "        out = self.conv4(out)\n",
        "        out = self.res2(out) + out\n",
        "        out = self.classifier(out)\n",
        "        return out\n"
      ],
      "metadata": {
        "id": "AXKgvoHGu0BT"
      },
      "execution_count": null,
      "outputs": []
    },
    {
      "cell_type": "code",
      "source": [
        "model = to_device(ResNet9(3, 10), device)\n",
        "model"
      ],
      "metadata": {
        "id": "62EacN5Vu1OK",
        "colab": {
          "base_uri": "https://localhost:8080/"
        },
        "outputId": "f0502eac-3c5f-43e4-9978-69b75c522d6c"
      },
      "execution_count": null,
      "outputs": [
        {
          "output_type": "execute_result",
          "data": {
            "text/plain": [
              "ResNet9(\n",
              "  (conv1): Sequential(\n",
              "    (0): Conv2d(3, 64, kernel_size=(3, 3), stride=(1, 1), padding=(1, 1))\n",
              "    (1): BatchNorm2d(64, eps=1e-05, momentum=0.1, affine=True, track_running_stats=True)\n",
              "    (2): ReLU(inplace=True)\n",
              "  )\n",
              "  (conv2): Sequential(\n",
              "    (0): Conv2d(64, 128, kernel_size=(3, 3), stride=(1, 1), padding=(1, 1))\n",
              "    (1): BatchNorm2d(128, eps=1e-05, momentum=0.1, affine=True, track_running_stats=True)\n",
              "    (2): ReLU(inplace=True)\n",
              "    (3): MaxPool2d(kernel_size=2, stride=2, padding=0, dilation=1, ceil_mode=False)\n",
              "  )\n",
              "  (res1): Sequential(\n",
              "    (0): Sequential(\n",
              "      (0): Conv2d(128, 128, kernel_size=(3, 3), stride=(1, 1), padding=(1, 1))\n",
              "      (1): BatchNorm2d(128, eps=1e-05, momentum=0.1, affine=True, track_running_stats=True)\n",
              "      (2): ReLU(inplace=True)\n",
              "    )\n",
              "    (1): Sequential(\n",
              "      (0): Conv2d(128, 128, kernel_size=(3, 3), stride=(1, 1), padding=(1, 1))\n",
              "      (1): BatchNorm2d(128, eps=1e-05, momentum=0.1, affine=True, track_running_stats=True)\n",
              "      (2): ReLU(inplace=True)\n",
              "    )\n",
              "  )\n",
              "  (conv3): Sequential(\n",
              "    (0): Conv2d(128, 256, kernel_size=(3, 3), stride=(1, 1), padding=(1, 1))\n",
              "    (1): BatchNorm2d(256, eps=1e-05, momentum=0.1, affine=True, track_running_stats=True)\n",
              "    (2): ReLU(inplace=True)\n",
              "    (3): MaxPool2d(kernel_size=2, stride=2, padding=0, dilation=1, ceil_mode=False)\n",
              "  )\n",
              "  (conv4): Sequential(\n",
              "    (0): Conv2d(256, 512, kernel_size=(3, 3), stride=(1, 1), padding=(1, 1))\n",
              "    (1): BatchNorm2d(512, eps=1e-05, momentum=0.1, affine=True, track_running_stats=True)\n",
              "    (2): ReLU(inplace=True)\n",
              "    (3): MaxPool2d(kernel_size=2, stride=2, padding=0, dilation=1, ceil_mode=False)\n",
              "  )\n",
              "  (res2): Sequential(\n",
              "    (0): Sequential(\n",
              "      (0): Conv2d(512, 512, kernel_size=(3, 3), stride=(1, 1), padding=(1, 1))\n",
              "      (1): BatchNorm2d(512, eps=1e-05, momentum=0.1, affine=True, track_running_stats=True)\n",
              "      (2): ReLU(inplace=True)\n",
              "    )\n",
              "    (1): Sequential(\n",
              "      (0): Conv2d(512, 512, kernel_size=(3, 3), stride=(1, 1), padding=(1, 1))\n",
              "      (1): BatchNorm2d(512, eps=1e-05, momentum=0.1, affine=True, track_running_stats=True)\n",
              "      (2): ReLU(inplace=True)\n",
              "    )\n",
              "  )\n",
              "  (classifier): Sequential(\n",
              "    (0): MaxPool2d(kernel_size=4, stride=4, padding=0, dilation=1, ceil_mode=False)\n",
              "    (1): Flatten(start_dim=1, end_dim=-1)\n",
              "    (2): Linear(in_features=512, out_features=10, bias=True)\n",
              "  )\n",
              ")"
            ]
          },
          "metadata": {},
          "execution_count": 30
        }
      ]
    },
    {
      "cell_type": "code",
      "source": [
        "@torch.no_grad()\n",
        "def evaluate(model, val_loader):\n",
        "    model.eval()\n",
        "    outputs = [model.validation_step(batch) for batch in val_loader]\n",
        "    return model.validation_epoch_end(outputs)\n",
        "\n",
        "def get_lr(optimizer):\n",
        "    for param_group in optimizer.param_groups:\n",
        "        return param_group['lr']\n",
        "\n",
        "def fit_one_cycle(epochs, max_lr, model, train_loader, val_loader, \n",
        "                  weight_decay=0, grad_clip=None, opt_func=torch.optim.SGD):\n",
        "    torch.cuda.empty_cache()\n",
        "    history = []\n",
        "    \n",
        "    # Set up cutom optimizer with weight decay\n",
        "    optimizer = opt_func(model.parameters(), max_lr, weight_decay=weight_decay)\n",
        "    # Set up one-cycle learning rate scheduler\n",
        "    sched = torch.optim.lr_scheduler.OneCycleLR(optimizer, max_lr, epochs=epochs, \n",
        "                                                steps_per_epoch=len(train_loader))\n",
        "    \n",
        "    for epoch in range(epochs):\n",
        "        # Training Phase \n",
        "        model.train()\n",
        "        train_losses = []\n",
        "        lrs = []\n",
        "        for batch in train_loader:\n",
        "            loss = model.training_step(batch)\n",
        "            train_losses.append(loss)\n",
        "            loss.backward()\n",
        "            \n",
        "            # Gradient clipping\n",
        "            if grad_clip: \n",
        "                nn.utils.clip_grad_value_(model.parameters(), grad_clip)\n",
        "            \n",
        "            optimizer.step()\n",
        "            optimizer.zero_grad()\n",
        "            \n",
        "            # Record & update learning rate\n",
        "            lrs.append(get_lr(optimizer))\n",
        "            sched.step()\n",
        "        \n",
        "        # Validation phase\n",
        "        result = evaluate(model, val_loader)\n",
        "        result['train_loss'] = torch.stack(train_losses).mean().item()\n",
        "        result['lrs'] = lrs\n",
        "        model.epoch_end(epoch, result)\n",
        "        history.append(result)\n",
        "    return history\n",
        "\n",
        "history = [evaluate(model, valid_dl)]\n",
        "history"
      ],
      "metadata": {
        "id": "M2EcaWYyu779",
        "colab": {
          "base_uri": "https://localhost:8080/"
        },
        "outputId": "21bb06fd-87b8-4e90-d39d-bb406149379d"
      },
      "execution_count": null,
      "outputs": [
        {
          "output_type": "execute_result",
          "data": {
            "text/plain": [
              "[{'val_acc': 0.07312500476837158, 'val_loss': 2.3201873302459717}]"
            ]
          },
          "metadata": {},
          "execution_count": 31
        }
      ]
    },
    {
      "cell_type": "code",
      "source": [
        "epochs = 30\n",
        "max_lr = 0.01\n",
        "grad_clip = 0.1\n",
        "weight_decay = 1e-4\n",
        "opt_func = torch.optim.Adam"
      ],
      "metadata": {
        "id": "L2xdFBn5vBXZ"
      },
      "execution_count": null,
      "outputs": []
    },
    {
      "cell_type": "code",
      "source": [
        "%%time\n",
        "history += fit_one_cycle(epochs, max_lr, model, train_dl, valid_dl, \n",
        "                             grad_clip=grad_clip, \n",
        "                             weight_decay=weight_decay, \n",
        "                             opt_func=opt_func)"
      ],
      "metadata": {
        "id": "iHyrYpZBvFzB",
        "colab": {
          "base_uri": "https://localhost:8080/"
        },
        "outputId": "26905753-113d-4bd2-dc21-e689d3f41911"
      },
      "execution_count": null,
      "outputs": [
        {
          "output_type": "stream",
          "name": "stdout",
          "text": [
            "Epoch [0], last_lr: 0.00066, train_loss: 2.2147, val_loss: 2.5985, val_acc: 0.2425\n",
            "Epoch [1], last_lr: 0.00147, train_loss: 1.8411, val_loss: 2.5474, val_acc: 0.1975\n",
            "Epoch [2], last_lr: 0.00274, train_loss: 1.7233, val_loss: 4.4978, val_acc: 0.1894\n",
            "Epoch [3], last_lr: 0.00430, train_loss: 1.6613, val_loss: 2.1418, val_acc: 0.3419\n",
            "Epoch [4], last_lr: 0.00598, train_loss: 1.6794, val_loss: 4.2046, val_acc: 0.1813\n",
            "Epoch [5], last_lr: 0.00757, train_loss: 1.9161, val_loss: 2.2003, val_acc: 0.3481\n",
            "Epoch [6], last_lr: 0.00886, train_loss: 1.9039, val_loss: 3.7096, val_acc: 0.3625\n",
            "Epoch [7], last_lr: 0.00971, train_loss: 1.9056, val_loss: 2.1599, val_acc: 0.3306\n",
            "Epoch [8], last_lr: 0.01000, train_loss: 1.8945, val_loss: 2.5757, val_acc: 0.4169\n",
            "Epoch [9], last_lr: 0.00994, train_loss: 1.8692, val_loss: 3.4476, val_acc: 0.3375\n",
            "Epoch [10], last_lr: 0.00978, train_loss: 1.7344, val_loss: 3.2008, val_acc: 0.2738\n",
            "Epoch [11], last_lr: 0.00950, train_loss: 1.5831, val_loss: 1.7459, val_acc: 0.4219\n",
            "Epoch [12], last_lr: 0.00913, train_loss: 1.5421, val_loss: 1.7051, val_acc: 0.4281\n",
            "Epoch [13], last_lr: 0.00867, train_loss: 1.4399, val_loss: 2.0602, val_acc: 0.4162\n",
            "Epoch [14], last_lr: 0.00812, train_loss: 1.3335, val_loss: 1.9650, val_acc: 0.3438\n",
            "Epoch [15], last_lr: 0.00750, train_loss: 1.2315, val_loss: 1.6156, val_acc: 0.5031\n",
            "Epoch [16], last_lr: 0.00683, train_loss: 1.2357, val_loss: 2.1952, val_acc: 0.3787\n",
            "Epoch [17], last_lr: 0.00611, train_loss: 1.1637, val_loss: 1.7227, val_acc: 0.4175\n",
            "Epoch [18], last_lr: 0.00537, train_loss: 1.0809, val_loss: 1.6824, val_acc: 0.4644\n",
            "Epoch [19], last_lr: 0.00463, train_loss: 1.0654, val_loss: 1.3619, val_acc: 0.5150\n",
            "Epoch [20], last_lr: 0.00389, train_loss: 0.9917, val_loss: 1.9985, val_acc: 0.4150\n",
            "Epoch [21], last_lr: 0.00317, train_loss: 0.9212, val_loss: 1.2624, val_acc: 0.5800\n",
            "Epoch [22], last_lr: 0.00250, train_loss: 0.8538, val_loss: 1.4133, val_acc: 0.5387\n",
            "Epoch [23], last_lr: 0.00188, train_loss: 0.8021, val_loss: 1.2828, val_acc: 0.5738\n",
            "Epoch [24], last_lr: 0.00133, train_loss: 0.7528, val_loss: 1.6276, val_acc: 0.5119\n",
            "Epoch [25], last_lr: 0.00087, train_loss: 0.7078, val_loss: 1.1072, val_acc: 0.6250\n",
            "Epoch [26], last_lr: 0.00050, train_loss: 0.6561, val_loss: 1.1998, val_acc: 0.5950\n",
            "Epoch [27], last_lr: 0.00022, train_loss: 0.6287, val_loss: 1.1796, val_acc: 0.6144\n",
            "Epoch [28], last_lr: 0.00006, train_loss: 0.6014, val_loss: 1.1587, val_acc: 0.6131\n",
            "Epoch [29], last_lr: 0.00000, train_loss: 0.5957, val_loss: 1.1704, val_acc: 0.6119\n",
            "CPU times: user 1min 27s, sys: 1min 9s, total: 2min 36s\n",
            "Wall time: 4min 7s\n"
          ]
        }
      ]
    },
    {
      "cell_type": "markdown",
      "source": [
        "#Problem 7\n"
      ],
      "metadata": {
        "id": "NekHQhjlF13D"
      }
    },
    {
      "cell_type": "code",
      "source": [
        "import os\n",
        "import torch\n",
        "import torchvision\n",
        "import tarfile\n",
        "import torch.nn as nn\n",
        "import numpy as np\n",
        "import torch.nn.functional as F\n",
        "from torchvision.datasets.utils import download_url\n",
        "from torchvision.datasets import ImageFolder\n",
        "from torch.utils.data import DataLoader\n",
        "import torchvision.transforms as tt\n",
        "from torch.utils.data import random_split\n",
        "from torchvision.utils import make_grid\n",
        "import matplotlib.pyplot as plt\n",
        "%matplotlib inline"
      ],
      "metadata": {
        "id": "e_NCkcDNF6nY"
      },
      "execution_count": null,
      "outputs": []
    },
    {
      "cell_type": "code",
      "source": [
        "# Look into the data directory\n",
        "data_dir = '/content/CIFAR-10-enhanced'\n",
        "print(os.listdir(data_dir))\n",
        "classes = os.listdir(data_dir + \"/train\")\n",
        "print(classes)"
      ],
      "metadata": {
        "id": "ultvFOs7F6nY",
        "colab": {
          "base_uri": "https://localhost:8080/"
        },
        "outputId": "644b1f60-6691-475f-da1d-a0117e980def"
      },
      "execution_count": null,
      "outputs": [
        {
          "output_type": "stream",
          "name": "stdout",
          "text": [
            "['test', 'train']\n",
            "['dog', 'automobile', 'airplane', 'frog', 'cat', 'truck', 'horse', 'bird', 'ship', 'deer']\n"
          ]
        }
      ]
    },
    {
      "cell_type": "code",
      "source": [
        "# Data transforms (normalization & data augmentation)\n",
        "stats = ((0.4914, 0.4822, 0.4465), (0.2023, 0.1994, 0.2010))\n",
        "train_tfms = tt.Compose([tt.RandomCrop(32, padding=4, padding_mode='reflect'), \n",
        "                         tt.RandomHorizontalFlip(), \n",
        "                         tt.ToTensor(), \n",
        "                         tt.Normalize(*stats,inplace=True)])\n",
        "valid_tfms = tt.Compose([tt.ToTensor(), tt.Normalize(*stats)])\n",
        "\n",
        "# PyTorch datasets\n",
        "train_ds = ImageFolder(data_dir+'/train', train_tfms)\n",
        "valid_ds = ImageFolder(data_dir+'/test', valid_tfms)\n",
        "\n",
        "batch_size = 400\n",
        "\n",
        "# PyTorch data loaders\n",
        "train_dl = DataLoader(train_ds, batch_size, shuffle=True, num_workers=2, pin_memory=True)\n",
        "valid_dl = DataLoader(valid_ds, batch_size*2, num_workers=2, pin_memory=True)\n",
        "\n"
      ],
      "metadata": {
        "id": "Yf4eY-MnF6nZ"
      },
      "execution_count": null,
      "outputs": []
    },
    {
      "cell_type": "code",
      "source": [
        "def get_default_device():\n",
        "    \"\"\"Pick GPU if available, else CPU\"\"\"\n",
        "    if torch.cuda.is_available():\n",
        "        return torch.device('cuda')\n",
        "    else:\n",
        "        return torch.device('cpu')\n",
        "    \n",
        "def to_device(data, device):\n",
        "    \"\"\"Move tensor(s) to chosen device\"\"\"\n",
        "    if isinstance(data, (list,tuple)):\n",
        "        return [to_device(x, device) for x in data]\n",
        "    return data.to(device, non_blocking=True)\n",
        "\n",
        "class DeviceDataLoader():\n",
        "    \"\"\"Wrap a dataloader to move data to a device\"\"\"\n",
        "    def __init__(self, dl, device):\n",
        "        self.dl = dl\n",
        "        self.device = device\n",
        "        \n",
        "    def __iter__(self):\n",
        "        \"\"\"Yield a batch of data after moving it to device\"\"\"\n",
        "        for b in self.dl: \n",
        "            yield to_device(b, self.device)\n",
        "\n",
        "    def __len__(self):\n",
        "        \"\"\"Number of batches\"\"\"\n",
        "        return len(self.dl)"
      ],
      "metadata": {
        "id": "TfzOcwX3F6na"
      },
      "execution_count": null,
      "outputs": []
    },
    {
      "cell_type": "code",
      "source": [
        "device = get_default_device()\n",
        "device"
      ],
      "metadata": {
        "id": "-HTYjxjEF6na",
        "colab": {
          "base_uri": "https://localhost:8080/"
        },
        "outputId": "cf640ead-f3f1-4c38-9549-76218bdee880"
      },
      "execution_count": null,
      "outputs": [
        {
          "output_type": "execute_result",
          "data": {
            "text/plain": [
              "device(type='cuda')"
            ]
          },
          "metadata": {},
          "execution_count": 38
        }
      ]
    },
    {
      "cell_type": "code",
      "source": [
        "train_dl = DeviceDataLoader(train_dl, device)\n",
        "valid_dl = DeviceDataLoader(valid_dl, device)\n",
        "\n",
        "class SimpleResidualBlock(nn.Module):\n",
        "    def __init__(self):\n",
        "        super().__init__()\n",
        "        self.conv1 = nn.Conv2d(in_channels=3, out_channels=3, kernel_size=3, stride=1, padding=1)\n",
        "        self.relu1 = nn.ReLU()\n",
        "        self.conv2 = nn.Conv2d(in_channels=3, out_channels=3, kernel_size=3, stride=1, padding=1)\n",
        "        self.relu2 = nn.ReLU()\n",
        "        \n",
        "    def forward(self, x):\n",
        "        out = self.conv1(x)\n",
        "        out = self.relu1(out)\n",
        "        out = self.conv2(out)\n",
        "        return self.relu2(out) + x # ReLU can be applied before or after adding the input\n",
        "\n",
        "simple_resnet = to_device(SimpleResidualBlock(), device)\n",
        "\n",
        "for images, labels in train_dl:\n",
        "    out = simple_resnet(images)\n",
        "    print(out.shape)\n",
        "    break\n",
        "    \n",
        "del simple_resnet, images, labels\n",
        "torch.cuda.empty_cache()"
      ],
      "metadata": {
        "id": "Sv-1RvGxF6nb",
        "colab": {
          "base_uri": "https://localhost:8080/"
        },
        "outputId": "f620eccc-b538-4cc5-ff62-602705178fc1"
      },
      "execution_count": null,
      "outputs": [
        {
          "output_type": "stream",
          "name": "stdout",
          "text": [
            "torch.Size([400, 3, 32, 32])\n"
          ]
        }
      ]
    },
    {
      "cell_type": "code",
      "source": [
        "def accuracy(outputs, labels):\n",
        "    _, preds = torch.max(outputs, dim=1)\n",
        "    return torch.tensor(torch.sum(preds == labels).item() / len(preds))\n",
        "\n",
        "class ImageClassificationBase(nn.Module):\n",
        "    def training_step(self, batch):\n",
        "        images, labels = batch \n",
        "        out = self(images)                  # Generate predictions\n",
        "        loss = F.cross_entropy(out, labels) # Calculate loss\n",
        "        return loss\n",
        "    \n",
        "    def validation_step(self, batch):\n",
        "        images, labels = batch \n",
        "        out = self(images)                    # Generate predictions\n",
        "        loss = F.cross_entropy(out, labels)   # Calculate loss\n",
        "        acc = accuracy(out, labels)           # Calculate accuracy\n",
        "        return {'val_loss': loss.detach(), 'val_acc': acc}\n",
        "        \n",
        "    def validation_epoch_end(self, outputs):\n",
        "        batch_losses = [x['val_loss'] for x in outputs]\n",
        "        epoch_loss = torch.stack(batch_losses).mean()   # Combine losses\n",
        "        batch_accs = [x['val_acc'] for x in outputs]\n",
        "        epoch_acc = torch.stack(batch_accs).mean()      # Combine accuracies\n",
        "        return {'val_loss': epoch_loss.item(), 'val_acc': epoch_acc.item()}\n",
        "    \n",
        "    def epoch_end(self, epoch, result):\n",
        "        print(\"Epoch [{}], last_lr: {:.5f}, train_loss: {:.4f}, val_loss: {:.4f}, val_acc: {:.4f}\".format(\n",
        "            epoch, result['lrs'][-1], result['train_loss'], result['val_loss'], result['val_acc']))"
      ],
      "metadata": {
        "id": "NSM1M6YCF6nc"
      },
      "execution_count": null,
      "outputs": []
    },
    {
      "cell_type": "code",
      "source": [
        "def conv_block(in_channels, out_channels, pool=False):\n",
        "    layers = [nn.Conv2d(in_channels, out_channels, kernel_size=3, padding=1), \n",
        "              nn.BatchNorm2d(out_channels), \n",
        "              nn.ReLU(inplace=True)]\n",
        "    if pool: layers.append(nn.MaxPool2d(2))\n",
        "    return nn.Sequential(*layers)\n",
        "\n",
        "class ResNet9(ImageClassificationBase):\n",
        "    def __init__(self, in_channels, num_classes):\n",
        "        super().__init__()\n",
        "        \n",
        "        self.conv1 = conv_block(in_channels, 64)\n",
        "        self.conv2 = conv_block(64, 128, pool=True)\n",
        "        self.res1 = nn.Sequential(conv_block(128, 128), conv_block(128, 128))\n",
        "        \n",
        "        self.conv3 = conv_block(128, 256, pool=True)\n",
        "        self.conv4 = conv_block(256, 512, pool=True)\n",
        "        self.res2 = nn.Sequential(conv_block(512, 512), conv_block(512, 512))\n",
        "        \n",
        "        self.classifier = nn.Sequential(nn.MaxPool2d(4), \n",
        "                                        nn.Flatten(), \n",
        "                                        nn.Linear(512, num_classes))\n",
        "        \n",
        "    def forward(self, xb):\n",
        "        out = self.conv1(xb)\n",
        "        out = self.conv2(out)\n",
        "        out = self.res1(out) + out\n",
        "        out = self.conv3(out)\n",
        "        out = self.conv4(out)\n",
        "        out = self.res2(out) + out\n",
        "        out = self.classifier(out)\n",
        "        return out\n"
      ],
      "metadata": {
        "id": "Rhm6osJGF6nc"
      },
      "execution_count": null,
      "outputs": []
    },
    {
      "cell_type": "code",
      "source": [
        "model = to_device(ResNet9(3, 10), device)\n",
        "model"
      ],
      "metadata": {
        "id": "IyxNnDsZF6nd",
        "colab": {
          "base_uri": "https://localhost:8080/"
        },
        "outputId": "11f26b28-5835-42ea-9dd4-e932c0383693"
      },
      "execution_count": null,
      "outputs": [
        {
          "output_type": "execute_result",
          "data": {
            "text/plain": [
              "ResNet9(\n",
              "  (conv1): Sequential(\n",
              "    (0): Conv2d(3, 64, kernel_size=(3, 3), stride=(1, 1), padding=(1, 1))\n",
              "    (1): BatchNorm2d(64, eps=1e-05, momentum=0.1, affine=True, track_running_stats=True)\n",
              "    (2): ReLU(inplace=True)\n",
              "  )\n",
              "  (conv2): Sequential(\n",
              "    (0): Conv2d(64, 128, kernel_size=(3, 3), stride=(1, 1), padding=(1, 1))\n",
              "    (1): BatchNorm2d(128, eps=1e-05, momentum=0.1, affine=True, track_running_stats=True)\n",
              "    (2): ReLU(inplace=True)\n",
              "    (3): MaxPool2d(kernel_size=2, stride=2, padding=0, dilation=1, ceil_mode=False)\n",
              "  )\n",
              "  (res1): Sequential(\n",
              "    (0): Sequential(\n",
              "      (0): Conv2d(128, 128, kernel_size=(3, 3), stride=(1, 1), padding=(1, 1))\n",
              "      (1): BatchNorm2d(128, eps=1e-05, momentum=0.1, affine=True, track_running_stats=True)\n",
              "      (2): ReLU(inplace=True)\n",
              "    )\n",
              "    (1): Sequential(\n",
              "      (0): Conv2d(128, 128, kernel_size=(3, 3), stride=(1, 1), padding=(1, 1))\n",
              "      (1): BatchNorm2d(128, eps=1e-05, momentum=0.1, affine=True, track_running_stats=True)\n",
              "      (2): ReLU(inplace=True)\n",
              "    )\n",
              "  )\n",
              "  (conv3): Sequential(\n",
              "    (0): Conv2d(128, 256, kernel_size=(3, 3), stride=(1, 1), padding=(1, 1))\n",
              "    (1): BatchNorm2d(256, eps=1e-05, momentum=0.1, affine=True, track_running_stats=True)\n",
              "    (2): ReLU(inplace=True)\n",
              "    (3): MaxPool2d(kernel_size=2, stride=2, padding=0, dilation=1, ceil_mode=False)\n",
              "  )\n",
              "  (conv4): Sequential(\n",
              "    (0): Conv2d(256, 512, kernel_size=(3, 3), stride=(1, 1), padding=(1, 1))\n",
              "    (1): BatchNorm2d(512, eps=1e-05, momentum=0.1, affine=True, track_running_stats=True)\n",
              "    (2): ReLU(inplace=True)\n",
              "    (3): MaxPool2d(kernel_size=2, stride=2, padding=0, dilation=1, ceil_mode=False)\n",
              "  )\n",
              "  (res2): Sequential(\n",
              "    (0): Sequential(\n",
              "      (0): Conv2d(512, 512, kernel_size=(3, 3), stride=(1, 1), padding=(1, 1))\n",
              "      (1): BatchNorm2d(512, eps=1e-05, momentum=0.1, affine=True, track_running_stats=True)\n",
              "      (2): ReLU(inplace=True)\n",
              "    )\n",
              "    (1): Sequential(\n",
              "      (0): Conv2d(512, 512, kernel_size=(3, 3), stride=(1, 1), padding=(1, 1))\n",
              "      (1): BatchNorm2d(512, eps=1e-05, momentum=0.1, affine=True, track_running_stats=True)\n",
              "      (2): ReLU(inplace=True)\n",
              "    )\n",
              "  )\n",
              "  (classifier): Sequential(\n",
              "    (0): MaxPool2d(kernel_size=4, stride=4, padding=0, dilation=1, ceil_mode=False)\n",
              "    (1): Flatten(start_dim=1, end_dim=-1)\n",
              "    (2): Linear(in_features=512, out_features=10, bias=True)\n",
              "  )\n",
              ")"
            ]
          },
          "metadata": {},
          "execution_count": 42
        }
      ]
    },
    {
      "cell_type": "code",
      "source": [
        "@torch.no_grad()\n",
        "def evaluate(model, val_loader):\n",
        "    model.eval()\n",
        "    outputs = [model.validation_step(batch) for batch in val_loader]\n",
        "    return model.validation_epoch_end(outputs)\n",
        "\n",
        "def get_lr(optimizer):\n",
        "    for param_group in optimizer.param_groups:\n",
        "        return param_group['lr']\n",
        "\n",
        "def fit_one_cycle(epochs, max_lr, model, train_loader, val_loader, \n",
        "                  weight_decay=0, grad_clip=None, opt_func=torch.optim.SGD):\n",
        "    torch.cuda.empty_cache()\n",
        "    history = []\n",
        "    \n",
        "    # Set up cutom optimizer with weight decay\n",
        "    optimizer = opt_func(model.parameters(), max_lr, weight_decay=weight_decay)\n",
        "    # Set up one-cycle learning rate scheduler\n",
        "    sched = torch.optim.lr_scheduler.OneCycleLR(optimizer, max_lr, epochs=epochs, \n",
        "                                                steps_per_epoch=len(train_loader))\n",
        "    \n",
        "    for epoch in range(epochs):\n",
        "        # Training Phase \n",
        "        model.train()\n",
        "        train_losses = []\n",
        "        lrs = []\n",
        "        for batch in train_loader:\n",
        "            loss = model.training_step(batch)\n",
        "            train_losses.append(loss)\n",
        "            loss.backward()\n",
        "            \n",
        "            # Gradient clipping\n",
        "            if grad_clip: \n",
        "                nn.utils.clip_grad_value_(model.parameters(), grad_clip)\n",
        "            \n",
        "            optimizer.step()\n",
        "            optimizer.zero_grad()\n",
        "            \n",
        "            # Record & update learning rate\n",
        "            lrs.append(get_lr(optimizer))\n",
        "            sched.step()\n",
        "        \n",
        "        # Validation phase\n",
        "        result = evaluate(model, val_loader)\n",
        "        result['train_loss'] = torch.stack(train_losses).mean().item()\n",
        "        result['lrs'] = lrs\n",
        "        model.epoch_end(epoch, result)\n",
        "        history.append(result)\n",
        "    return history\n",
        "\n",
        "history = [evaluate(model, valid_dl)]\n",
        "history"
      ],
      "metadata": {
        "id": "W9N2O9G7F6nd",
        "colab": {
          "base_uri": "https://localhost:8080/"
        },
        "outputId": "db87c661-4fb2-4a90-fbd1-0518abc0c3b5"
      },
      "execution_count": null,
      "outputs": [
        {
          "output_type": "execute_result",
          "data": {
            "text/plain": [
              "[{'val_acc': 0.2512499988079071, 'val_loss': 2.2892603874206543}]"
            ]
          },
          "metadata": {},
          "execution_count": 43
        }
      ]
    },
    {
      "cell_type": "code",
      "source": [
        "epochs = 30\n",
        "max_lr = 0.01\n",
        "grad_clip = 0.1\n",
        "weight_decay = 1e-4\n",
        "opt_func = torch.optim.Adam"
      ],
      "metadata": {
        "id": "MN9gICAsF6ne"
      },
      "execution_count": null,
      "outputs": []
    },
    {
      "cell_type": "code",
      "source": [
        "%%time\n",
        "history += fit_one_cycle(epochs, max_lr, model, train_dl, valid_dl, \n",
        "                             grad_clip=grad_clip, \n",
        "                             weight_decay=weight_decay, \n",
        "                             opt_func=opt_func)"
      ],
      "metadata": {
        "id": "4UAMIDHbF6ne",
        "colab": {
          "base_uri": "https://localhost:8080/"
        },
        "outputId": "c850f50d-62b4-44af-83f0-98bd1fdb9324"
      },
      "execution_count": null,
      "outputs": [
        {
          "output_type": "stream",
          "name": "stdout",
          "text": [
            "Epoch [0], last_lr: 0.00066, train_loss: 2.1391, val_loss: 2.5125, val_acc: 0.2156\n",
            "Epoch [1], last_lr: 0.00147, train_loss: 1.5765, val_loss: 2.4091, val_acc: 0.2794\n",
            "Epoch [2], last_lr: 0.00274, train_loss: 1.4510, val_loss: 3.3205, val_acc: 0.1875\n",
            "Epoch [3], last_lr: 0.00430, train_loss: 1.3443, val_loss: 3.0256, val_acc: 0.2862\n",
            "Epoch [4], last_lr: 0.00598, train_loss: 1.4058, val_loss: 2.4433, val_acc: 0.3881\n",
            "Epoch [5], last_lr: 0.00757, train_loss: 1.5936, val_loss: 4.0652, val_acc: 0.2338\n",
            "Epoch [6], last_lr: 0.00886, train_loss: 1.6361, val_loss: 3.7766, val_acc: 0.3875\n",
            "Epoch [7], last_lr: 0.00971, train_loss: 1.5561, val_loss: 2.4345, val_acc: 0.3013\n",
            "Epoch [8], last_lr: 0.01000, train_loss: 1.5066, val_loss: 3.2487, val_acc: 0.3400\n",
            "Epoch [9], last_lr: 0.00994, train_loss: 1.3771, val_loss: 1.4873, val_acc: 0.5263\n",
            "Epoch [10], last_lr: 0.00978, train_loss: 1.1625, val_loss: 2.2256, val_acc: 0.4656\n",
            "Epoch [11], last_lr: 0.00950, train_loss: 1.2327, val_loss: 2.4261, val_acc: 0.3475\n",
            "Epoch [12], last_lr: 0.00913, train_loss: 1.0185, val_loss: 1.1192, val_acc: 0.6350\n",
            "Epoch [13], last_lr: 0.00867, train_loss: 0.9667, val_loss: 1.0919, val_acc: 0.6519\n",
            "Epoch [14], last_lr: 0.00812, train_loss: 0.8073, val_loss: 0.9117, val_acc: 0.6925\n",
            "Epoch [15], last_lr: 0.00750, train_loss: 0.7713, val_loss: 1.0789, val_acc: 0.6513\n",
            "Epoch [16], last_lr: 0.00683, train_loss: 0.7403, val_loss: 0.9640, val_acc: 0.6944\n",
            "Epoch [17], last_lr: 0.00611, train_loss: 0.6337, val_loss: 0.9547, val_acc: 0.6900\n",
            "Epoch [18], last_lr: 0.00537, train_loss: 0.6044, val_loss: 0.9238, val_acc: 0.6975\n",
            "Epoch [19], last_lr: 0.00463, train_loss: 0.5274, val_loss: 0.8730, val_acc: 0.7175\n",
            "Epoch [20], last_lr: 0.00389, train_loss: 0.4436, val_loss: 0.8292, val_acc: 0.7262\n",
            "Epoch [21], last_lr: 0.00317, train_loss: 0.3690, val_loss: 0.8551, val_acc: 0.7344\n",
            "Epoch [22], last_lr: 0.00250, train_loss: 0.3368, val_loss: 0.7592, val_acc: 0.7587\n",
            "Epoch [23], last_lr: 0.00188, train_loss: 0.2858, val_loss: 0.7478, val_acc: 0.7581\n",
            "Epoch [24], last_lr: 0.00133, train_loss: 0.2446, val_loss: 0.7944, val_acc: 0.7631\n",
            "Epoch [25], last_lr: 0.00087, train_loss: 0.2096, val_loss: 0.8299, val_acc: 0.7262\n",
            "Epoch [26], last_lr: 0.00050, train_loss: 0.1886, val_loss: 0.7652, val_acc: 0.7688\n",
            "Epoch [27], last_lr: 0.00022, train_loss: 0.1693, val_loss: 0.7840, val_acc: 0.7675\n",
            "Epoch [28], last_lr: 0.00006, train_loss: 0.1529, val_loss: 0.7965, val_acc: 0.7644\n",
            "Epoch [29], last_lr: 0.00000, train_loss: 0.1518, val_loss: 0.7965, val_acc: 0.7625\n",
            "CPU times: user 1min 25s, sys: 1min 8s, total: 2min 34s\n",
            "Wall time: 4min 10s\n"
          ]
        }
      ]
    }
  ]
}